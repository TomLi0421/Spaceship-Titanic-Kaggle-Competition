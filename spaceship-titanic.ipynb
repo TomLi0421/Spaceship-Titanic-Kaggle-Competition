{
 "cells": [
  {
   "cell_type": "code",
   "execution_count": 1,
   "id": "302d36c0",
   "metadata": {
    "_cell_guid": "b1076dfc-b9ad-4769-8c92-a6c4dae69d19",
    "_uuid": "8f2839f25d086af736a60e9eeb907d3b93b6e0e5",
    "execution": {
     "iopub.execute_input": "2023-11-10T07:02:16.015401Z",
     "iopub.status.busy": "2023-11-10T07:02:16.014921Z",
     "iopub.status.idle": "2023-11-10T07:02:16.941250Z",
     "shell.execute_reply": "2023-11-10T07:02:16.940098Z"
    },
    "papermill": {
     "duration": 0.964029,
     "end_time": "2023-11-10T07:02:16.944215",
     "exception": false,
     "start_time": "2023-11-10T07:02:15.980186",
     "status": "completed"
    },
    "tags": []
   },
   "outputs": [
    {
     "name": "stdout",
     "output_type": "stream",
     "text": [
      "/kaggle/input/spaceship-titanic/sample_submission.csv\n",
      "/kaggle/input/spaceship-titanic/train.csv\n",
      "/kaggle/input/spaceship-titanic/test.csv\n"
     ]
    }
   ],
   "source": [
    "# This Python 3 environment comes with many helpful analytics libraries installed\n",
    "# It is defined by the kaggle/python Docker image: https://github.com/kaggle/docker-python\n",
    "# For example, here's several helpful packages to load\n",
    "\n",
    "import numpy as np # linear algebra\n",
    "import pandas as pd # data processing, CSV file I/O (e.g. pd.read_csv)\n",
    "\n",
    "# Input data files are available in the read-only \"../input/\" directory\n",
    "# For example, running this (by clicking run or pressing Shift+Enter) will list all files under the input directory\n",
    "\n",
    "import os\n",
    "for dirname, _, filenames in os.walk('/kaggle/input'):\n",
    "    for filename in filenames:\n",
    "        print(os.path.join(dirname, filename))\n",
    "\n",
    "# You can write up to 20GB to the current directory (/kaggle/working/) that gets preserved as output when you create a version using \"Save & Run All\" \n",
    "# You can also write temporary files to /kaggle/temp/, but they won't be saved outside of the current session"
   ]
  },
  {
   "cell_type": "code",
   "execution_count": 2,
   "id": "55bcc9c5",
   "metadata": {
    "execution": {
     "iopub.execute_input": "2023-11-10T07:02:17.013398Z",
     "iopub.status.busy": "2023-11-10T07:02:17.012815Z",
     "iopub.status.idle": "2023-11-10T07:02:22.151693Z",
     "shell.execute_reply": "2023-11-10T07:02:22.149094Z"
    },
    "papermill": {
     "duration": 5.177802,
     "end_time": "2023-11-10T07:02:22.154816",
     "exception": false,
     "start_time": "2023-11-10T07:02:16.977014",
     "status": "completed"
    },
    "tags": []
   },
   "outputs": [
    {
     "name": "stderr",
     "output_type": "stream",
     "text": [
      "/opt/conda/lib/python3.10/site-packages/numba/core/decorators.py:262: NumbaDeprecationWarning: \u001b[1mnumba.generated_jit is deprecated. Please see the documentation at: https://numba.readthedocs.io/en/stable/reference/deprecation.html#deprecation-of-generated-jit for more information and advice on a suitable replacement.\u001b[0m\n",
      "  warnings.warn(msg, NumbaDeprecationWarning)\n",
      "/opt/conda/lib/python3.10/site-packages/visions/backends/shared/nan_handling.py:51: NumbaDeprecationWarning: \u001b[1mThe 'nopython' keyword argument was not supplied to the 'numba.jit' decorator. The implicit default value for this argument is currently False, but it will be changed to True in Numba 0.59.0. See https://numba.readthedocs.io/en/stable/reference/deprecation.html#deprecation-of-object-mode-fall-back-behaviour-when-using-jit for details.\u001b[0m\n",
      "  def hasna(x: np.ndarray) -> bool:\n",
      "/tmp/ipykernel_20/3214691180.py:1: DeprecationWarning: `import pandas_profiling` is going to be deprecated by April 1st. Please use `import ydata_profiling` instead.\n",
      "  from pandas_profiling import ProfileReport\n"
     ]
    }
   ],
   "source": [
    "from pandas_profiling import ProfileReport\n",
    "import matplotlib.pyplot as plt\n",
    "import seaborn as sns"
   ]
  },
  {
   "cell_type": "code",
   "execution_count": 3,
   "id": "89dda079",
   "metadata": {
    "execution": {
     "iopub.execute_input": "2023-11-10T07:02:22.225316Z",
     "iopub.status.busy": "2023-11-10T07:02:22.224674Z",
     "iopub.status.idle": "2023-11-10T07:02:22.292523Z",
     "shell.execute_reply": "2023-11-10T07:02:22.291176Z"
    },
    "papermill": {
     "duration": 0.106691,
     "end_time": "2023-11-10T07:02:22.295567",
     "exception": false,
     "start_time": "2023-11-10T07:02:22.188876",
     "status": "completed"
    },
    "tags": []
   },
   "outputs": [],
   "source": [
    "# read train.csv\n",
    "df = pd.read_csv('/kaggle/input/spaceship-titanic/train.csv')"
   ]
  },
  {
   "cell_type": "markdown",
   "id": "b3f1ffc4",
   "metadata": {
    "papermill": {
     "duration": 0.032698,
     "end_time": "2023-11-10T07:02:22.363683",
     "exception": false,
     "start_time": "2023-11-10T07:02:22.330985",
     "status": "completed"
    },
    "tags": []
   },
   "source": [
    "# Overview the training set"
   ]
  },
  {
   "cell_type": "code",
   "execution_count": 4,
   "id": "3ea7b679",
   "metadata": {
    "execution": {
     "iopub.execute_input": "2023-11-10T07:02:22.503166Z",
     "iopub.status.busy": "2023-11-10T07:02:22.502682Z",
     "iopub.status.idle": "2023-11-10T07:02:22.536324Z",
     "shell.execute_reply": "2023-11-10T07:02:22.535107Z"
    },
    "papermill": {
     "duration": 0.144083,
     "end_time": "2023-11-10T07:02:22.540707",
     "exception": false,
     "start_time": "2023-11-10T07:02:22.396624",
     "status": "completed"
    },
    "tags": []
   },
   "outputs": [
    {
     "data": {
      "text/html": [
       "<div>\n",
       "<style scoped>\n",
       "    .dataframe tbody tr th:only-of-type {\n",
       "        vertical-align: middle;\n",
       "    }\n",
       "\n",
       "    .dataframe tbody tr th {\n",
       "        vertical-align: top;\n",
       "    }\n",
       "\n",
       "    .dataframe thead th {\n",
       "        text-align: right;\n",
       "    }\n",
       "</style>\n",
       "<table border=\"1\" class=\"dataframe\">\n",
       "  <thead>\n",
       "    <tr style=\"text-align: right;\">\n",
       "      <th></th>\n",
       "      <th>PassengerId</th>\n",
       "      <th>HomePlanet</th>\n",
       "      <th>CryoSleep</th>\n",
       "      <th>Cabin</th>\n",
       "      <th>Destination</th>\n",
       "      <th>Age</th>\n",
       "      <th>VIP</th>\n",
       "      <th>RoomService</th>\n",
       "      <th>FoodCourt</th>\n",
       "      <th>ShoppingMall</th>\n",
       "      <th>Spa</th>\n",
       "      <th>VRDeck</th>\n",
       "      <th>Name</th>\n",
       "      <th>Transported</th>\n",
       "    </tr>\n",
       "  </thead>\n",
       "  <tbody>\n",
       "    <tr>\n",
       "      <th>0</th>\n",
       "      <td>0001_01</td>\n",
       "      <td>Europa</td>\n",
       "      <td>False</td>\n",
       "      <td>B/0/P</td>\n",
       "      <td>TRAPPIST-1e</td>\n",
       "      <td>39.0</td>\n",
       "      <td>False</td>\n",
       "      <td>0.0</td>\n",
       "      <td>0.0</td>\n",
       "      <td>0.0</td>\n",
       "      <td>0.0</td>\n",
       "      <td>0.0</td>\n",
       "      <td>Maham Ofracculy</td>\n",
       "      <td>False</td>\n",
       "    </tr>\n",
       "    <tr>\n",
       "      <th>1</th>\n",
       "      <td>0002_01</td>\n",
       "      <td>Earth</td>\n",
       "      <td>False</td>\n",
       "      <td>F/0/S</td>\n",
       "      <td>TRAPPIST-1e</td>\n",
       "      <td>24.0</td>\n",
       "      <td>False</td>\n",
       "      <td>109.0</td>\n",
       "      <td>9.0</td>\n",
       "      <td>25.0</td>\n",
       "      <td>549.0</td>\n",
       "      <td>44.0</td>\n",
       "      <td>Juanna Vines</td>\n",
       "      <td>True</td>\n",
       "    </tr>\n",
       "    <tr>\n",
       "      <th>2</th>\n",
       "      <td>0003_01</td>\n",
       "      <td>Europa</td>\n",
       "      <td>False</td>\n",
       "      <td>A/0/S</td>\n",
       "      <td>TRAPPIST-1e</td>\n",
       "      <td>58.0</td>\n",
       "      <td>True</td>\n",
       "      <td>43.0</td>\n",
       "      <td>3576.0</td>\n",
       "      <td>0.0</td>\n",
       "      <td>6715.0</td>\n",
       "      <td>49.0</td>\n",
       "      <td>Altark Susent</td>\n",
       "      <td>False</td>\n",
       "    </tr>\n",
       "    <tr>\n",
       "      <th>3</th>\n",
       "      <td>0003_02</td>\n",
       "      <td>Europa</td>\n",
       "      <td>False</td>\n",
       "      <td>A/0/S</td>\n",
       "      <td>TRAPPIST-1e</td>\n",
       "      <td>33.0</td>\n",
       "      <td>False</td>\n",
       "      <td>0.0</td>\n",
       "      <td>1283.0</td>\n",
       "      <td>371.0</td>\n",
       "      <td>3329.0</td>\n",
       "      <td>193.0</td>\n",
       "      <td>Solam Susent</td>\n",
       "      <td>False</td>\n",
       "    </tr>\n",
       "    <tr>\n",
       "      <th>4</th>\n",
       "      <td>0004_01</td>\n",
       "      <td>Earth</td>\n",
       "      <td>False</td>\n",
       "      <td>F/1/S</td>\n",
       "      <td>TRAPPIST-1e</td>\n",
       "      <td>16.0</td>\n",
       "      <td>False</td>\n",
       "      <td>303.0</td>\n",
       "      <td>70.0</td>\n",
       "      <td>151.0</td>\n",
       "      <td>565.0</td>\n",
       "      <td>2.0</td>\n",
       "      <td>Willy Santantines</td>\n",
       "      <td>True</td>\n",
       "    </tr>\n",
       "  </tbody>\n",
       "</table>\n",
       "</div>"
      ],
      "text/plain": [
       "  PassengerId HomePlanet CryoSleep  Cabin  Destination   Age    VIP  \\\n",
       "0     0001_01     Europa     False  B/0/P  TRAPPIST-1e  39.0  False   \n",
       "1     0002_01      Earth     False  F/0/S  TRAPPIST-1e  24.0  False   \n",
       "2     0003_01     Europa     False  A/0/S  TRAPPIST-1e  58.0   True   \n",
       "3     0003_02     Europa     False  A/0/S  TRAPPIST-1e  33.0  False   \n",
       "4     0004_01      Earth     False  F/1/S  TRAPPIST-1e  16.0  False   \n",
       "\n",
       "   RoomService  FoodCourt  ShoppingMall     Spa  VRDeck               Name  \\\n",
       "0          0.0        0.0           0.0     0.0     0.0    Maham Ofracculy   \n",
       "1        109.0        9.0          25.0   549.0    44.0       Juanna Vines   \n",
       "2         43.0     3576.0           0.0  6715.0    49.0      Altark Susent   \n",
       "3          0.0     1283.0         371.0  3329.0   193.0       Solam Susent   \n",
       "4        303.0       70.0         151.0   565.0     2.0  Willy Santantines   \n",
       "\n",
       "   Transported  \n",
       "0        False  \n",
       "1         True  \n",
       "2        False  \n",
       "3        False  \n",
       "4         True  "
      ]
     },
     "execution_count": 4,
     "metadata": {},
     "output_type": "execute_result"
    }
   ],
   "source": [
    "# the first five rows of the train set\n",
    "df.head()"
   ]
  },
  {
   "cell_type": "code",
   "execution_count": 5,
   "id": "de061fde",
   "metadata": {
    "execution": {
     "iopub.execute_input": "2023-11-10T07:02:22.609281Z",
     "iopub.status.busy": "2023-11-10T07:02:22.608512Z",
     "iopub.status.idle": "2023-11-10T07:02:22.665679Z",
     "shell.execute_reply": "2023-11-10T07:02:22.664294Z"
    },
    "papermill": {
     "duration": 0.09479,
     "end_time": "2023-11-10T07:02:22.668636",
     "exception": false,
     "start_time": "2023-11-10T07:02:22.573846",
     "status": "completed"
    },
    "tags": []
   },
   "outputs": [
    {
     "data": {
      "text/html": [
       "<div>\n",
       "<style scoped>\n",
       "    .dataframe tbody tr th:only-of-type {\n",
       "        vertical-align: middle;\n",
       "    }\n",
       "\n",
       "    .dataframe tbody tr th {\n",
       "        vertical-align: top;\n",
       "    }\n",
       "\n",
       "    .dataframe thead th {\n",
       "        text-align: right;\n",
       "    }\n",
       "</style>\n",
       "<table border=\"1\" class=\"dataframe\">\n",
       "  <thead>\n",
       "    <tr style=\"text-align: right;\">\n",
       "      <th></th>\n",
       "      <th>Column Type</th>\n",
       "      <th>Number of Values</th>\n",
       "      <th>Number of Missing Values</th>\n",
       "      <th>Cardinality</th>\n",
       "    </tr>\n",
       "  </thead>\n",
       "  <tbody>\n",
       "    <tr>\n",
       "      <th>Age</th>\n",
       "      <td>float64</td>\n",
       "      <td>8514</td>\n",
       "      <td>179</td>\n",
       "      <td>NaN</td>\n",
       "    </tr>\n",
       "    <tr>\n",
       "      <th>Cabin</th>\n",
       "      <td>object</td>\n",
       "      <td>8494</td>\n",
       "      <td>199</td>\n",
       "      <td>6560.0</td>\n",
       "    </tr>\n",
       "    <tr>\n",
       "      <th>CryoSleep</th>\n",
       "      <td>object</td>\n",
       "      <td>8476</td>\n",
       "      <td>217</td>\n",
       "      <td>2.0</td>\n",
       "    </tr>\n",
       "    <tr>\n",
       "      <th>Destination</th>\n",
       "      <td>object</td>\n",
       "      <td>8511</td>\n",
       "      <td>182</td>\n",
       "      <td>3.0</td>\n",
       "    </tr>\n",
       "    <tr>\n",
       "      <th>FoodCourt</th>\n",
       "      <td>float64</td>\n",
       "      <td>8510</td>\n",
       "      <td>183</td>\n",
       "      <td>NaN</td>\n",
       "    </tr>\n",
       "    <tr>\n",
       "      <th>HomePlanet</th>\n",
       "      <td>object</td>\n",
       "      <td>8492</td>\n",
       "      <td>201</td>\n",
       "      <td>3.0</td>\n",
       "    </tr>\n",
       "    <tr>\n",
       "      <th>Name</th>\n",
       "      <td>object</td>\n",
       "      <td>8493</td>\n",
       "      <td>200</td>\n",
       "      <td>8473.0</td>\n",
       "    </tr>\n",
       "    <tr>\n",
       "      <th>PassengerId</th>\n",
       "      <td>object</td>\n",
       "      <td>8693</td>\n",
       "      <td>0</td>\n",
       "      <td>8693.0</td>\n",
       "    </tr>\n",
       "    <tr>\n",
       "      <th>RoomService</th>\n",
       "      <td>float64</td>\n",
       "      <td>8512</td>\n",
       "      <td>181</td>\n",
       "      <td>NaN</td>\n",
       "    </tr>\n",
       "    <tr>\n",
       "      <th>ShoppingMall</th>\n",
       "      <td>float64</td>\n",
       "      <td>8485</td>\n",
       "      <td>208</td>\n",
       "      <td>NaN</td>\n",
       "    </tr>\n",
       "    <tr>\n",
       "      <th>Spa</th>\n",
       "      <td>float64</td>\n",
       "      <td>8510</td>\n",
       "      <td>183</td>\n",
       "      <td>NaN</td>\n",
       "    </tr>\n",
       "    <tr>\n",
       "      <th>Transported</th>\n",
       "      <td>bool</td>\n",
       "      <td>8693</td>\n",
       "      <td>0</td>\n",
       "      <td>NaN</td>\n",
       "    </tr>\n",
       "    <tr>\n",
       "      <th>VIP</th>\n",
       "      <td>object</td>\n",
       "      <td>8490</td>\n",
       "      <td>203</td>\n",
       "      <td>2.0</td>\n",
       "    </tr>\n",
       "    <tr>\n",
       "      <th>VRDeck</th>\n",
       "      <td>float64</td>\n",
       "      <td>8505</td>\n",
       "      <td>188</td>\n",
       "      <td>NaN</td>\n",
       "    </tr>\n",
       "  </tbody>\n",
       "</table>\n",
       "</div>"
      ],
      "text/plain": [
       "             Column Type  Number of Values  Number of Missing Values  \\\n",
       "Age              float64              8514                       179   \n",
       "Cabin             object              8494                       199   \n",
       "CryoSleep         object              8476                       217   \n",
       "Destination       object              8511                       182   \n",
       "FoodCourt        float64              8510                       183   \n",
       "HomePlanet        object              8492                       201   \n",
       "Name              object              8493                       200   \n",
       "PassengerId       object              8693                         0   \n",
       "RoomService      float64              8512                       181   \n",
       "ShoppingMall     float64              8485                       208   \n",
       "Spa              float64              8510                       183   \n",
       "Transported         bool              8693                         0   \n",
       "VIP               object              8490                       203   \n",
       "VRDeck           float64              8505                       188   \n",
       "\n",
       "              Cardinality  \n",
       "Age                   NaN  \n",
       "Cabin              6560.0  \n",
       "CryoSleep             2.0  \n",
       "Destination           3.0  \n",
       "FoodCourt             NaN  \n",
       "HomePlanet            3.0  \n",
       "Name               8473.0  \n",
       "PassengerId        8693.0  \n",
       "RoomService           NaN  \n",
       "ShoppingMall          NaN  \n",
       "Spa                   NaN  \n",
       "Transported           NaN  \n",
       "VIP                   2.0  \n",
       "VRDeck                NaN  "
      ]
     },
     "execution_count": 5,
     "metadata": {},
     "output_type": "execute_result"
    }
   ],
   "source": [
    "# get column types\n",
    "column_types = df.dtypes\n",
    "# get number of values per column\n",
    "num_values = df.count()\n",
    "# get number of missing values per column\n",
    "num_missing = df.isnull().sum()\n",
    "# cardinality of features\n",
    "unique_type = df.select_dtypes(include=\"object\").nunique()\n",
    "# create a summary table\n",
    "summary_table = pd.DataFrame({'Column Type': column_types,\n",
    "                              'Number of Values': num_values,\n",
    "                              'Number of Missing Values': num_missing,\n",
    "                              'Cardinality': unique_type,\n",
    "                             })\n",
    "summary_table"
   ]
  },
  {
   "cell_type": "code",
   "execution_count": 6,
   "id": "2fdf91d3",
   "metadata": {
    "execution": {
     "iopub.execute_input": "2023-11-10T07:02:22.738718Z",
     "iopub.status.busy": "2023-11-10T07:02:22.738253Z",
     "iopub.status.idle": "2023-11-10T07:02:22.761391Z",
     "shell.execute_reply": "2023-11-10T07:02:22.760335Z"
    },
    "papermill": {
     "duration": 0.06059,
     "end_time": "2023-11-10T07:02:22.763806",
     "exception": false,
     "start_time": "2023-11-10T07:02:22.703216",
     "status": "completed"
    },
    "tags": []
   },
   "outputs": [
    {
     "name": "stdout",
     "output_type": "stream",
     "text": [
      "Number of rows in train set: 8693\n",
      "Number of columns in train set: 14\n",
      "Number of values in train set: 119378\n",
      "Number missing values in train set: 2324\n"
     ]
    }
   ],
   "source": [
    "print(f'Number of rows in train set: {df.shape[0]}')\n",
    "print(f'Number of columns in train set: {df.shape[1]}')\n",
    "print(f'Number of values in train set: {df.count().sum()}')\n",
    "print(f'Number missing values in train set: {sum(df.isnull().sum())}')"
   ]
  },
  {
   "cell_type": "markdown",
   "id": "d92a0a2e",
   "metadata": {
    "papermill": {
     "duration": 0.03398,
     "end_time": "2023-11-10T07:02:22.831469",
     "exception": false,
     "start_time": "2023-11-10T07:02:22.797489",
     "status": "completed"
    },
    "tags": []
   },
   "source": [
    "# Without imputation (the categorical column fills the missing data with \"Missing\")"
   ]
  },
  {
   "cell_type": "markdown",
   "id": "c6d394ca",
   "metadata": {
    "papermill": {
     "duration": 0.033307,
     "end_time": "2023-11-10T07:02:22.898811",
     "exception": false,
     "start_time": "2023-11-10T07:02:22.865504",
     "status": "completed"
    },
    "tags": []
   },
   "source": [
    "## Split the Cabin"
   ]
  },
  {
   "cell_type": "code",
   "execution_count": 7,
   "id": "b5cb9a3c",
   "metadata": {
    "execution": {
     "iopub.execute_input": "2023-11-10T07:02:22.969600Z",
     "iopub.status.busy": "2023-11-10T07:02:22.968734Z",
     "iopub.status.idle": "2023-11-10T07:02:22.974474Z",
     "shell.execute_reply": "2023-11-10T07:02:22.973461Z"
    },
    "papermill": {
     "duration": 0.043755,
     "end_time": "2023-11-10T07:02:22.976903",
     "exception": false,
     "start_time": "2023-11-10T07:02:22.933148",
     "status": "completed"
    },
    "tags": []
   },
   "outputs": [],
   "source": [
    "# split the cabin in three column\n",
    "def split_cabin_and_fill_missing(x):\n",
    "    # cabin is not missing\n",
    "    if(len(str(x).split('/')) == 3):\n",
    "        return str(x).split('/')\n",
    "    else:\n",
    "        return ['Missing', 'Missing', 'Missing']"
   ]
  },
  {
   "cell_type": "code",
   "execution_count": 8,
   "id": "e66ba987",
   "metadata": {
    "execution": {
     "iopub.execute_input": "2023-11-10T07:02:23.048491Z",
     "iopub.status.busy": "2023-11-10T07:02:23.047643Z",
     "iopub.status.idle": "2023-11-10T07:02:23.058549Z",
     "shell.execute_reply": "2023-11-10T07:02:23.057551Z"
    },
    "papermill": {
     "duration": 0.050522,
     "end_time": "2023-11-10T07:02:23.061151",
     "exception": false,
     "start_time": "2023-11-10T07:02:23.010629",
     "status": "completed"
    },
    "tags": []
   },
   "outputs": [],
   "source": [
    "def preprocessing(df):\n",
    "    # HomePlanet - fill missing data with 'Missing'\n",
    "    df['HomePlanet'].fillna('Missing', inplace=True)\n",
    "    \n",
    "    # CryoSleep - drop\n",
    "    df['CryoSleep'].fillna('Missing', inplace=True)\n",
    "    \n",
    "    # Cabin - extract the deck and side to create new column 'Cabin_deck' and 'Cabin_side'\n",
    "    df['Cabin_deck'] = df['Cabin'].apply(lambda x: split_cabin_and_fill_missing(x)[0])\n",
    "    df['Cabin_side'] = df['Cabin'].apply(lambda x: split_cabin_and_fill_missing(x)[2])\n",
    "    df.drop('Cabin', axis=1, inplace=True)\n",
    "    \n",
    "    # Destination - fill missing data with 'Missing'\n",
    "    df['Destination'].fillna('Missing', inplace=True)\n",
    "    \n",
    "    # Age - fill missing data the mean of the age\n",
    "    age_mean = df[\"Age\"].mean()\n",
    "    df['Age'].fillna(age_mean, inplace=True)\n",
    "    \n",
    "    # VIP - imbalance column\n",
    "    # the majority is false, so fill false\n",
    "    df['VIP'].fillna(False, inplace=True)\n",
    "    \n",
    "    # RoomService, FoodCourt, ShoppingMall, Spa, VRDeck\n",
    "    # most of the distribution is 0, so just fill 0 for the missing data\n",
    "    df['RoomService'].fillna(0, inplace=True)\n",
    "    df['FoodCourt'].fillna(0, inplace=True)\n",
    "    df['ShoppingMall'].fillna(0, inplace=True)\n",
    "    df['Spa'].fillna(0, inplace=True)\n",
    "    df['VRDeck'].fillna(0, inplace=True)\n",
    "    \n",
    "    # Name - drop due to high cardinality\n",
    "    df.drop('Name', axis=1, inplace=True)"
   ]
  },
  {
   "cell_type": "markdown",
   "id": "1924a11c",
   "metadata": {
    "papermill": {
     "duration": 0.033491,
     "end_time": "2023-11-10T07:02:23.128459",
     "exception": false,
     "start_time": "2023-11-10T07:02:23.094968",
     "status": "completed"
    },
    "tags": []
   },
   "source": [
    "# Preprocessing dataset 1"
   ]
  },
  {
   "cell_type": "code",
   "execution_count": 9,
   "id": "61eabf41",
   "metadata": {
    "execution": {
     "iopub.execute_input": "2023-11-10T07:02:23.198761Z",
     "iopub.status.busy": "2023-11-10T07:02:23.197963Z",
     "iopub.status.idle": "2023-11-10T07:02:23.202631Z",
     "shell.execute_reply": "2023-11-10T07:02:23.201681Z"
    },
    "papermill": {
     "duration": 0.042563,
     "end_time": "2023-11-10T07:02:23.205085",
     "exception": false,
     "start_time": "2023-11-10T07:02:23.162522",
     "status": "completed"
    },
    "tags": []
   },
   "outputs": [],
   "source": [
    "# abt_1 = df.copy()\n",
    "# preprocessing(abt_1)\n",
    "\n",
    "# abt_1.head()"
   ]
  },
  {
   "cell_type": "markdown",
   "id": "42e6d118",
   "metadata": {
    "papermill": {
     "duration": 0.033485,
     "end_time": "2023-11-10T07:02:23.272725",
     "exception": false,
     "start_time": "2023-11-10T07:02:23.239240",
     "status": "completed"
    },
    "tags": []
   },
   "source": [
    "# EDA"
   ]
  },
  {
   "cell_type": "code",
   "execution_count": 10,
   "id": "2107df99",
   "metadata": {
    "execution": {
     "iopub.execute_input": "2023-11-10T07:02:23.344300Z",
     "iopub.status.busy": "2023-11-10T07:02:23.343801Z",
     "iopub.status.idle": "2023-11-10T07:02:23.550013Z",
     "shell.execute_reply": "2023-11-10T07:02:23.548802Z"
    },
    "papermill": {
     "duration": 0.245875,
     "end_time": "2023-11-10T07:02:23.552761",
     "exception": false,
     "start_time": "2023-11-10T07:02:23.306886",
     "status": "completed"
    },
    "tags": []
   },
   "outputs": [
    {
     "data": {
      "image/png": "[encoded data removed]",
      "text/plain": [
       "<Figure size 600x600 with 1 Axes>"
      ]
     },
     "metadata": {},
     "output_type": "display_data"
    }
   ],
   "source": [
    "# calculate the frequency of each category\n",
    "transported_data = df['Transported'].value_counts()\n",
    "\n",
    "# create a pie chart\n",
    "plt.figure(figsize=(6, 6))\n",
    "plt.pie(transported_data, labels=transported_data.index, autopct='%1.1f%%')\n",
    "plt.title('Transported distribution')\n",
    "plt.show()"
   ]
  },
  {
   "cell_type": "markdown",
   "id": "f08b2ace",
   "metadata": {
    "papermill": {
     "duration": 0.033722,
     "end_time": "2023-11-10T07:02:23.620848",
     "exception": false,
     "start_time": "2023-11-10T07:02:23.587126",
     "status": "completed"
    },
    "tags": []
   },
   "source": [
    "## Visualizing Age features"
   ]
  },
  {
   "cell_type": "code",
   "execution_count": 11,
   "id": "4c32afce",
   "metadata": {
    "execution": {
     "iopub.execute_input": "2023-11-10T07:02:23.691361Z",
     "iopub.status.busy": "2023-11-10T07:02:23.690903Z",
     "iopub.status.idle": "2023-11-10T07:02:24.521736Z",
     "shell.execute_reply": "2023-11-10T07:02:24.520748Z"
    },
    "papermill": {
     "duration": 0.869497,
     "end_time": "2023-11-10T07:02:24.524505",
     "exception": false,
     "start_time": "2023-11-10T07:02:23.655008",
     "status": "completed"
    },
    "tags": []
   },
   "outputs": [
    {
     "data": {
      "image/png": "[encoded data removed]",
      "text/plain": [
       "<Figure size 1600x600 with 1 Axes>"
      ]
     },
     "metadata": {},
     "output_type": "display_data"
    }
   ],
   "source": [
    "# Age normal distribution graph\n",
    "plt.figure(figsize=(16,6))\n",
    "sns.histplot(x=df[\"Age\"],hue=\"Transported\",data=df,kde=True)\n",
    "plt.title(\"Age Feature Distribution\");"
   ]
  },
  {
   "cell_type": "markdown",
   "id": "ea12a69b",
   "metadata": {
    "papermill": {
     "duration": 0.03544,
     "end_time": "2023-11-10T07:02:24.595344",
     "exception": false,
     "start_time": "2023-11-10T07:02:24.559904",
     "status": "completed"
    },
    "tags": []
   },
   "source": [
    "## Visualizing all expenditure features"
   ]
  },
  {
   "cell_type": "code",
   "execution_count": 12,
   "id": "5f556f44",
   "metadata": {
    "execution": {
     "iopub.execute_input": "2023-11-10T07:02:24.686640Z",
     "iopub.status.busy": "2023-11-10T07:02:24.685724Z",
     "iopub.status.idle": "2023-11-10T07:02:27.786893Z",
     "shell.execute_reply": "2023-11-10T07:02:27.785898Z"
    },
    "papermill": {
     "duration": 3.14758,
     "end_time": "2023-11-10T07:02:27.790027",
     "exception": false,
     "start_time": "2023-11-10T07:02:24.642447",
     "status": "completed"
    },
    "tags": []
   },
   "outputs": [
    {
     "name": "stderr",
     "output_type": "stream",
     "text": [
      "/tmp/ipykernel_20/153166312.py:8: UserWarning: The figure layout has changed to tight\n",
      "  plt.tight_layout()\n",
      "/tmp/ipykernel_20/153166312.py:8: UserWarning: The figure layout has changed to tight\n",
      "  plt.tight_layout()\n",
      "/tmp/ipykernel_20/153166312.py:8: UserWarning: The figure layout has changed to tight\n",
      "  plt.tight_layout()\n",
      "/tmp/ipykernel_20/153166312.py:8: UserWarning: The figure layout has changed to tight\n",
      "  plt.tight_layout()\n"
     ]
    },
    {
     "data": {
      "image/png": "[encoded data removed]",
      "text/plain": [
       "<Figure size 1000x800 with 5 Axes>"
      ]
     },
     "metadata": {},
     "output_type": "display_data"
    }
   ],
   "source": [
    "exp_cols = [\"RoomService\",\"FoodCourt\", \"Spa\", \"ShoppingMall\",\"VRDeck\"]\n",
    "\n",
    "plt.figure(figsize=(10,8))\n",
    "for idx,column in enumerate(exp_cols):\n",
    "    plt.subplot(3,2,idx+1)\n",
    "    sns.histplot(x=column, hue=\"Transported\", data=df, bins=30, kde=False)\n",
    "    plt.title(f\"{column} Distribution\")\n",
    "    plt.tight_layout()"
   ]
  },
  {
   "cell_type": "markdown",
   "id": "0e98326c",
   "metadata": {
    "papermill": {
     "duration": 0.037602,
     "end_time": "2023-11-10T07:02:27.865292",
     "exception": false,
     "start_time": "2023-11-10T07:02:27.827690",
     "status": "completed"
    },
    "tags": []
   },
   "source": [
    "## Visualizing categorical features"
   ]
  },
  {
   "cell_type": "code",
   "execution_count": 13,
   "id": "d98a0fcc",
   "metadata": {
    "execution": {
     "iopub.execute_input": "2023-11-10T07:02:27.944334Z",
     "iopub.status.busy": "2023-11-10T07:02:27.943842Z",
     "iopub.status.idle": "2023-11-10T07:02:29.204349Z",
     "shell.execute_reply": "2023-11-10T07:02:29.203127Z"
    },
    "papermill": {
     "duration": 1.302511,
     "end_time": "2023-11-10T07:02:29.207777",
     "exception": false,
     "start_time": "2023-11-10T07:02:27.905266",
     "status": "completed"
    },
    "tags": []
   },
   "outputs": [
    {
     "data": {
      "image/png": "[encoded data removed]",
      "text/plain": [
       "<Figure size 800x1600 with 4 Axes>"
      ]
     },
     "metadata": {},
     "output_type": "display_data"
    }
   ],
   "source": [
    "# categorical features\n",
    "cat_feats=[\"HomePlanet\",\"CryoSleep\",\"Destination\",\"VIP\"]\n",
    "\n",
    "# plot categorical features\n",
    "fig=plt.figure(figsize=(8,16))\n",
    "for i, var_name in enumerate(cat_feats):\n",
    "    ax=fig.add_subplot(4,1,i+1)\n",
    "    sns.countplot(data=df, x=var_name, axes=ax, hue='Transported')\n",
    "    ax.set_title(var_name)\n",
    "fig.tight_layout()  # Improves appearance a bit\n",
    "plt.show()"
   ]
  },
  {
   "cell_type": "markdown",
   "id": "0c10da1b",
   "metadata": {
    "papermill": {
     "duration": 0.038666,
     "end_time": "2023-11-10T07:02:29.287523",
     "exception": false,
     "start_time": "2023-11-10T07:02:29.248857",
     "status": "completed"
    },
    "tags": []
   },
   "source": [
    "# Feature Engineering"
   ]
  },
  {
   "cell_type": "code",
   "execution_count": 14,
   "id": "d142832c",
   "metadata": {
    "execution": {
     "iopub.execute_input": "2023-11-10T07:02:29.377265Z",
     "iopub.status.busy": "2023-11-10T07:02:29.376204Z",
     "iopub.status.idle": "2023-11-10T07:02:29.404775Z",
     "shell.execute_reply": "2023-11-10T07:02:29.403444Z"
    },
    "papermill": {
     "duration": 0.076108,
     "end_time": "2023-11-10T07:02:29.407663",
     "exception": false,
     "start_time": "2023-11-10T07:02:29.331555",
     "status": "completed"
    },
    "tags": []
   },
   "outputs": [
    {
     "data": {
      "text/html": [
       "<div>\n",
       "<style scoped>\n",
       "    .dataframe tbody tr th:only-of-type {\n",
       "        vertical-align: middle;\n",
       "    }\n",
       "\n",
       "    .dataframe tbody tr th {\n",
       "        vertical-align: top;\n",
       "    }\n",
       "\n",
       "    .dataframe thead th {\n",
       "        text-align: right;\n",
       "    }\n",
       "</style>\n",
       "<table border=\"1\" class=\"dataframe\">\n",
       "  <thead>\n",
       "    <tr style=\"text-align: right;\">\n",
       "      <th></th>\n",
       "      <th>PassengerId</th>\n",
       "      <th>HomePlanet</th>\n",
       "      <th>CryoSleep</th>\n",
       "      <th>Cabin</th>\n",
       "      <th>Destination</th>\n",
       "      <th>Age</th>\n",
       "      <th>VIP</th>\n",
       "      <th>RoomService</th>\n",
       "      <th>FoodCourt</th>\n",
       "      <th>ShoppingMall</th>\n",
       "      <th>Spa</th>\n",
       "      <th>VRDeck</th>\n",
       "      <th>Name</th>\n",
       "      <th>Transported</th>\n",
       "    </tr>\n",
       "  </thead>\n",
       "  <tbody>\n",
       "    <tr>\n",
       "      <th>0</th>\n",
       "      <td>0001_01</td>\n",
       "      <td>Europa</td>\n",
       "      <td>False</td>\n",
       "      <td>B/0/P</td>\n",
       "      <td>TRAPPIST-1e</td>\n",
       "      <td>39.0</td>\n",
       "      <td>False</td>\n",
       "      <td>0.0</td>\n",
       "      <td>0.0</td>\n",
       "      <td>0.0</td>\n",
       "      <td>0.0</td>\n",
       "      <td>0.0</td>\n",
       "      <td>Maham Ofracculy</td>\n",
       "      <td>False</td>\n",
       "    </tr>\n",
       "    <tr>\n",
       "      <th>1</th>\n",
       "      <td>0002_01</td>\n",
       "      <td>Earth</td>\n",
       "      <td>False</td>\n",
       "      <td>F/0/S</td>\n",
       "      <td>TRAPPIST-1e</td>\n",
       "      <td>24.0</td>\n",
       "      <td>False</td>\n",
       "      <td>109.0</td>\n",
       "      <td>9.0</td>\n",
       "      <td>25.0</td>\n",
       "      <td>549.0</td>\n",
       "      <td>44.0</td>\n",
       "      <td>Juanna Vines</td>\n",
       "      <td>True</td>\n",
       "    </tr>\n",
       "    <tr>\n",
       "      <th>2</th>\n",
       "      <td>0003_01</td>\n",
       "      <td>Europa</td>\n",
       "      <td>False</td>\n",
       "      <td>A/0/S</td>\n",
       "      <td>TRAPPIST-1e</td>\n",
       "      <td>58.0</td>\n",
       "      <td>True</td>\n",
       "      <td>43.0</td>\n",
       "      <td>3576.0</td>\n",
       "      <td>0.0</td>\n",
       "      <td>6715.0</td>\n",
       "      <td>49.0</td>\n",
       "      <td>Altark Susent</td>\n",
       "      <td>False</td>\n",
       "    </tr>\n",
       "    <tr>\n",
       "      <th>3</th>\n",
       "      <td>0003_02</td>\n",
       "      <td>Europa</td>\n",
       "      <td>False</td>\n",
       "      <td>A/0/S</td>\n",
       "      <td>TRAPPIST-1e</td>\n",
       "      <td>33.0</td>\n",
       "      <td>False</td>\n",
       "      <td>0.0</td>\n",
       "      <td>1283.0</td>\n",
       "      <td>371.0</td>\n",
       "      <td>3329.0</td>\n",
       "      <td>193.0</td>\n",
       "      <td>Solam Susent</td>\n",
       "      <td>False</td>\n",
       "    </tr>\n",
       "    <tr>\n",
       "      <th>4</th>\n",
       "      <td>0004_01</td>\n",
       "      <td>Earth</td>\n",
       "      <td>False</td>\n",
       "      <td>F/1/S</td>\n",
       "      <td>TRAPPIST-1e</td>\n",
       "      <td>16.0</td>\n",
       "      <td>False</td>\n",
       "      <td>303.0</td>\n",
       "      <td>70.0</td>\n",
       "      <td>151.0</td>\n",
       "      <td>565.0</td>\n",
       "      <td>2.0</td>\n",
       "      <td>Willy Santantines</td>\n",
       "      <td>True</td>\n",
       "    </tr>\n",
       "  </tbody>\n",
       "</table>\n",
       "</div>"
      ],
      "text/plain": [
       "  PassengerId HomePlanet CryoSleep  Cabin  Destination   Age    VIP  \\\n",
       "0     0001_01     Europa     False  B/0/P  TRAPPIST-1e  39.0  False   \n",
       "1     0002_01      Earth     False  F/0/S  TRAPPIST-1e  24.0  False   \n",
       "2     0003_01     Europa     False  A/0/S  TRAPPIST-1e  58.0   True   \n",
       "3     0003_02     Europa     False  A/0/S  TRAPPIST-1e  33.0  False   \n",
       "4     0004_01      Earth     False  F/1/S  TRAPPIST-1e  16.0  False   \n",
       "\n",
       "   RoomService  FoodCourt  ShoppingMall     Spa  VRDeck               Name  \\\n",
       "0          0.0        0.0           0.0     0.0     0.0    Maham Ofracculy   \n",
       "1        109.0        9.0          25.0   549.0    44.0       Juanna Vines   \n",
       "2         43.0     3576.0           0.0  6715.0    49.0      Altark Susent   \n",
       "3          0.0     1283.0         371.0  3329.0   193.0       Solam Susent   \n",
       "4        303.0       70.0         151.0   565.0     2.0  Willy Santantines   \n",
       "\n",
       "   Transported  \n",
       "0        False  \n",
       "1         True  \n",
       "2        False  \n",
       "3        False  \n",
       "4         True  "
      ]
     },
     "execution_count": 14,
     "metadata": {},
     "output_type": "execute_result"
    }
   ],
   "source": [
    "# make a copy of dataset\n",
    "abt_2 = df.copy()\n",
    "abt_2.head()"
   ]
  },
  {
   "cell_type": "markdown",
   "id": "b28ba7bb",
   "metadata": {
    "papermill": {
     "duration": 0.038356,
     "end_time": "2023-11-10T07:02:29.484845",
     "exception": false,
     "start_time": "2023-11-10T07:02:29.446489",
     "status": "completed"
    },
    "tags": []
   },
   "source": [
    "## Passenger group"
   ]
  },
  {
   "cell_type": "markdown",
   "id": "783688c0",
   "metadata": {
    "papermill": {
     "duration": 0.038813,
     "end_time": "2023-11-10T07:02:29.562386",
     "exception": false,
     "start_time": "2023-11-10T07:02:29.523573",
     "status": "completed"
    },
    "tags": []
   },
   "source": [
    "### Add Group, Solo and Group_size"
   ]
  },
  {
   "cell_type": "code",
   "execution_count": 15,
   "id": "52a90514",
   "metadata": {
    "execution": {
     "iopub.execute_input": "2023-11-10T07:02:29.642163Z",
     "iopub.status.busy": "2023-11-10T07:02:29.641677Z",
     "iopub.status.idle": "2023-11-10T07:03:16.012240Z",
     "shell.execute_reply": "2023-11-10T07:03:16.011341Z"
    },
    "papermill": {
     "duration": 46.453234,
     "end_time": "2023-11-10T07:03:16.054181",
     "exception": false,
     "start_time": "2023-11-10T07:02:29.600947",
     "status": "completed"
    },
    "tags": []
   },
   "outputs": [
    {
     "data": {
      "text/html": [
       "<div>\n",
       "<style scoped>\n",
       "    .dataframe tbody tr th:only-of-type {\n",
       "        vertical-align: middle;\n",
       "    }\n",
       "\n",
       "    .dataframe tbody tr th {\n",
       "        vertical-align: top;\n",
       "    }\n",
       "\n",
       "    .dataframe thead th {\n",
       "        text-align: right;\n",
       "    }\n",
       "</style>\n",
       "<table border=\"1\" class=\"dataframe\">\n",
       "  <thead>\n",
       "    <tr style=\"text-align: right;\">\n",
       "      <th></th>\n",
       "      <th>PassengerId</th>\n",
       "      <th>HomePlanet</th>\n",
       "      <th>CryoSleep</th>\n",
       "      <th>Cabin</th>\n",
       "      <th>Destination</th>\n",
       "      <th>Age</th>\n",
       "      <th>VIP</th>\n",
       "      <th>RoomService</th>\n",
       "      <th>FoodCourt</th>\n",
       "      <th>ShoppingMall</th>\n",
       "      <th>Spa</th>\n",
       "      <th>VRDeck</th>\n",
       "      <th>Name</th>\n",
       "      <th>Transported</th>\n",
       "      <th>Group</th>\n",
       "      <th>Group_size</th>\n",
       "      <th>Solo</th>\n",
       "    </tr>\n",
       "  </thead>\n",
       "  <tbody>\n",
       "    <tr>\n",
       "      <th>0</th>\n",
       "      <td>0001_01</td>\n",
       "      <td>Europa</td>\n",
       "      <td>False</td>\n",
       "      <td>B/0/P</td>\n",
       "      <td>TRAPPIST-1e</td>\n",
       "      <td>39.0</td>\n",
       "      <td>False</td>\n",
       "      <td>0.0</td>\n",
       "      <td>0.0</td>\n",
       "      <td>0.0</td>\n",
       "      <td>0.0</td>\n",
       "      <td>0.0</td>\n",
       "      <td>Maham Ofracculy</td>\n",
       "      <td>False</td>\n",
       "      <td>0001</td>\n",
       "      <td>1</td>\n",
       "      <td>True</td>\n",
       "    </tr>\n",
       "    <tr>\n",
       "      <th>1</th>\n",
       "      <td>0002_01</td>\n",
       "      <td>Earth</td>\n",
       "      <td>False</td>\n",
       "      <td>F/0/S</td>\n",
       "      <td>TRAPPIST-1e</td>\n",
       "      <td>24.0</td>\n",
       "      <td>False</td>\n",
       "      <td>109.0</td>\n",
       "      <td>9.0</td>\n",
       "      <td>25.0</td>\n",
       "      <td>549.0</td>\n",
       "      <td>44.0</td>\n",
       "      <td>Juanna Vines</td>\n",
       "      <td>True</td>\n",
       "      <td>0002</td>\n",
       "      <td>1</td>\n",
       "      <td>True</td>\n",
       "    </tr>\n",
       "    <tr>\n",
       "      <th>2</th>\n",
       "      <td>0003_01</td>\n",
       "      <td>Europa</td>\n",
       "      <td>False</td>\n",
       "      <td>A/0/S</td>\n",
       "      <td>TRAPPIST-1e</td>\n",
       "      <td>58.0</td>\n",
       "      <td>True</td>\n",
       "      <td>43.0</td>\n",
       "      <td>3576.0</td>\n",
       "      <td>0.0</td>\n",
       "      <td>6715.0</td>\n",
       "      <td>49.0</td>\n",
       "      <td>Altark Susent</td>\n",
       "      <td>False</td>\n",
       "      <td>0003</td>\n",
       "      <td>2</td>\n",
       "      <td>False</td>\n",
       "    </tr>\n",
       "    <tr>\n",
       "      <th>3</th>\n",
       "      <td>0003_02</td>\n",
       "      <td>Europa</td>\n",
       "      <td>False</td>\n",
       "      <td>A/0/S</td>\n",
       "      <td>TRAPPIST-1e</td>\n",
       "      <td>33.0</td>\n",
       "      <td>False</td>\n",
       "      <td>0.0</td>\n",
       "      <td>1283.0</td>\n",
       "      <td>371.0</td>\n",
       "      <td>3329.0</td>\n",
       "      <td>193.0</td>\n",
       "      <td>Solam Susent</td>\n",
       "      <td>False</td>\n",
       "      <td>0003</td>\n",
       "      <td>2</td>\n",
       "      <td>False</td>\n",
       "    </tr>\n",
       "    <tr>\n",
       "      <th>4</th>\n",
       "      <td>0004_01</td>\n",
       "      <td>Earth</td>\n",
       "      <td>False</td>\n",
       "      <td>F/1/S</td>\n",
       "      <td>TRAPPIST-1e</td>\n",
       "      <td>16.0</td>\n",
       "      <td>False</td>\n",
       "      <td>303.0</td>\n",
       "      <td>70.0</td>\n",
       "      <td>151.0</td>\n",
       "      <td>565.0</td>\n",
       "      <td>2.0</td>\n",
       "      <td>Willy Santantines</td>\n",
       "      <td>True</td>\n",
       "      <td>0004</td>\n",
       "      <td>1</td>\n",
       "      <td>True</td>\n",
       "    </tr>\n",
       "  </tbody>\n",
       "</table>\n",
       "</div>"
      ],
      "text/plain": [
       "  PassengerId HomePlanet CryoSleep  Cabin  Destination   Age    VIP  \\\n",
       "0     0001_01     Europa     False  B/0/P  TRAPPIST-1e  39.0  False   \n",
       "1     0002_01      Earth     False  F/0/S  TRAPPIST-1e  24.0  False   \n",
       "2     0003_01     Europa     False  A/0/S  TRAPPIST-1e  58.0   True   \n",
       "3     0003_02     Europa     False  A/0/S  TRAPPIST-1e  33.0  False   \n",
       "4     0004_01      Earth     False  F/1/S  TRAPPIST-1e  16.0  False   \n",
       "\n",
       "   RoomService  FoodCourt  ShoppingMall     Spa  VRDeck               Name  \\\n",
       "0          0.0        0.0           0.0     0.0     0.0    Maham Ofracculy   \n",
       "1        109.0        9.0          25.0   549.0    44.0       Juanna Vines   \n",
       "2         43.0     3576.0           0.0  6715.0    49.0      Altark Susent   \n",
       "3          0.0     1283.0         371.0  3329.0   193.0       Solam Susent   \n",
       "4        303.0       70.0         151.0   565.0     2.0  Willy Santantines   \n",
       "\n",
       "   Transported Group  Group_size   Solo  \n",
       "0        False  0001           1   True  \n",
       "1         True  0002           1   True  \n",
       "2        False  0003           2  False  \n",
       "3        False  0003           2  False  \n",
       "4         True  0004           1   True  "
      ]
     },
     "execution_count": 15,
     "metadata": {},
     "output_type": "execute_result"
    }
   ],
   "source": [
    "def passenger_id_new_features(df):\n",
    "    # split the PassengerId and add Group column\n",
    "    df['Group'] = df['PassengerId'].apply(lambda x: str(x).split('_')[0])\n",
    "    df['Member'] = df['PassengerId'].apply(lambda x: str(x).split('_')[1])\n",
    "    \n",
    "    # add 'Group_size' and 'Signle_member' feature\n",
    "    df['Group_size'] = df['Group'].map(lambda x: pd.concat([df['Group']]).value_counts()[x])\n",
    "    df['Solo'] = (df['Group_size'] ==1)\n",
    "\n",
    "\n",
    "    \n",
    "    # drop the memeber\n",
    "    df.drop('Member', axis=1, inplace=True)    \n",
    "\n",
    "passenger_id_new_features(abt_2)\n",
    "abt_2.head()"
   ]
  },
  {
   "cell_type": "markdown",
   "id": "4e4bc103",
   "metadata": {
    "papermill": {
     "duration": 0.039919,
     "end_time": "2023-11-10T07:03:16.133187",
     "exception": false,
     "start_time": "2023-11-10T07:03:16.093268",
     "status": "completed"
    },
    "tags": []
   },
   "source": [
    "### Visualizing Group_size features"
   ]
  },
  {
   "cell_type": "code",
   "execution_count": 16,
   "id": "ed0f303d",
   "metadata": {
    "execution": {
     "iopub.execute_input": "2023-11-10T07:03:16.213851Z",
     "iopub.status.busy": "2023-11-10T07:03:16.212911Z",
     "iopub.status.idle": "2023-11-10T07:03:16.861306Z",
     "shell.execute_reply": "2023-11-10T07:03:16.860029Z"
    },
    "papermill": {
     "duration": 0.691879,
     "end_time": "2023-11-10T07:03:16.864119",
     "exception": false,
     "start_time": "2023-11-10T07:03:16.172240",
     "status": "completed"
    },
    "tags": []
   },
   "outputs": [
    {
     "name": "stderr",
     "output_type": "stream",
     "text": [
      "/tmp/ipykernel_20/1108175540.py:4: UserWarning: The figure layout has changed to tight\n",
      "  fig.tight_layout()\n"
     ]
    },
    {
     "data": {
      "image/png": "[encoded data removed]",
      "text/plain": [
       "<Figure size 640x480 with 1 Axes>"
      ]
     },
     "metadata": {},
     "output_type": "display_data"
    }
   ],
   "source": [
    "# Group_size distribution\n",
    "sns.countplot(data=abt_2, x='Group_size', hue='Transported')\n",
    "plt.title('Group size')\n",
    "fig.tight_layout()"
   ]
  },
  {
   "cell_type": "code",
   "execution_count": 17,
   "id": "48a09dc8",
   "metadata": {
    "execution": {
     "iopub.execute_input": "2023-11-10T07:03:16.945862Z",
     "iopub.status.busy": "2023-11-10T07:03:16.945468Z",
     "iopub.status.idle": "2023-11-10T07:03:17.307103Z",
     "shell.execute_reply": "2023-11-10T07:03:17.305779Z"
    },
    "papermill": {
     "duration": 0.406104,
     "end_time": "2023-11-10T07:03:17.310127",
     "exception": false,
     "start_time": "2023-11-10T07:03:16.904023",
     "status": "completed"
    },
    "tags": []
   },
   "outputs": [
    {
     "name": "stderr",
     "output_type": "stream",
     "text": [
      "/tmp/ipykernel_20/48412546.py:4: UserWarning: The figure layout has changed to tight\n",
      "  fig.tight_layout()\n"
     ]
    },
    {
     "data": {
      "image/png": "[encoded data removed]",
      "text/plain": [
       "<Figure size 640x480 with 1 Axes>"
      ]
     },
     "metadata": {},
     "output_type": "display_data"
    }
   ],
   "source": [
    "# Solo distribution\n",
    "sns.countplot(data=abt_2, x='Solo', hue='Transported')\n",
    "plt.title('Solo')\n",
    "fig.tight_layout()"
   ]
  },
  {
   "cell_type": "markdown",
   "id": "d244ebfd",
   "metadata": {
    "papermill": {
     "duration": 0.03944,
     "end_time": "2023-11-10T07:03:17.389633",
     "exception": false,
     "start_time": "2023-11-10T07:03:17.350193",
     "status": "completed"
    },
    "tags": []
   },
   "source": [
    "## Cabin"
   ]
  },
  {
   "cell_type": "markdown",
   "id": "90c0cf80",
   "metadata": {
    "papermill": {
     "duration": 0.039875,
     "end_time": "2023-11-10T07:03:17.469456",
     "exception": false,
     "start_time": "2023-11-10T07:03:17.429581",
     "status": "completed"
    },
    "tags": []
   },
   "source": [
    "### Visualizing Cabin_deck & Cabin_side features"
   ]
  },
  {
   "cell_type": "code",
   "execution_count": 18,
   "id": "f6cf4438",
   "metadata": {
    "execution": {
     "iopub.execute_input": "2023-11-10T07:03:17.553187Z",
     "iopub.status.busy": "2023-11-10T07:03:17.552728Z",
     "iopub.status.idle": "2023-11-10T07:03:17.628317Z",
     "shell.execute_reply": "2023-11-10T07:03:17.627100Z"
    },
    "papermill": {
     "duration": 0.121917,
     "end_time": "2023-11-10T07:03:17.631123",
     "exception": false,
     "start_time": "2023-11-10T07:03:17.509206",
     "status": "completed"
    },
    "tags": []
   },
   "outputs": [
    {
     "data": {
      "text/html": [
       "<div>\n",
       "<style scoped>\n",
       "    .dataframe tbody tr th:only-of-type {\n",
       "        vertical-align: middle;\n",
       "    }\n",
       "\n",
       "    .dataframe tbody tr th {\n",
       "        vertical-align: top;\n",
       "    }\n",
       "\n",
       "    .dataframe thead th {\n",
       "        text-align: right;\n",
       "    }\n",
       "</style>\n",
       "<table border=\"1\" class=\"dataframe\">\n",
       "  <thead>\n",
       "    <tr style=\"text-align: right;\">\n",
       "      <th></th>\n",
       "      <th>PassengerId</th>\n",
       "      <th>HomePlanet</th>\n",
       "      <th>CryoSleep</th>\n",
       "      <th>Destination</th>\n",
       "      <th>Age</th>\n",
       "      <th>VIP</th>\n",
       "      <th>RoomService</th>\n",
       "      <th>FoodCourt</th>\n",
       "      <th>ShoppingMall</th>\n",
       "      <th>Spa</th>\n",
       "      <th>VRDeck</th>\n",
       "      <th>Name</th>\n",
       "      <th>Transported</th>\n",
       "      <th>Group</th>\n",
       "      <th>Group_size</th>\n",
       "      <th>Solo</th>\n",
       "      <th>Cabin_deck</th>\n",
       "      <th>Cabin_num</th>\n",
       "      <th>Cabin_side</th>\n",
       "    </tr>\n",
       "  </thead>\n",
       "  <tbody>\n",
       "    <tr>\n",
       "      <th>0</th>\n",
       "      <td>0001_01</td>\n",
       "      <td>Europa</td>\n",
       "      <td>False</td>\n",
       "      <td>TRAPPIST-1e</td>\n",
       "      <td>39.0</td>\n",
       "      <td>False</td>\n",
       "      <td>0.0</td>\n",
       "      <td>0.0</td>\n",
       "      <td>0.0</td>\n",
       "      <td>0.0</td>\n",
       "      <td>0.0</td>\n",
       "      <td>Maham Ofracculy</td>\n",
       "      <td>False</td>\n",
       "      <td>0001</td>\n",
       "      <td>1</td>\n",
       "      <td>True</td>\n",
       "      <td>B</td>\n",
       "      <td>0</td>\n",
       "      <td>P</td>\n",
       "    </tr>\n",
       "    <tr>\n",
       "      <th>1</th>\n",
       "      <td>0002_01</td>\n",
       "      <td>Earth</td>\n",
       "      <td>False</td>\n",
       "      <td>TRAPPIST-1e</td>\n",
       "      <td>24.0</td>\n",
       "      <td>False</td>\n",
       "      <td>109.0</td>\n",
       "      <td>9.0</td>\n",
       "      <td>25.0</td>\n",
       "      <td>549.0</td>\n",
       "      <td>44.0</td>\n",
       "      <td>Juanna Vines</td>\n",
       "      <td>True</td>\n",
       "      <td>0002</td>\n",
       "      <td>1</td>\n",
       "      <td>True</td>\n",
       "      <td>F</td>\n",
       "      <td>0</td>\n",
       "      <td>S</td>\n",
       "    </tr>\n",
       "    <tr>\n",
       "      <th>2</th>\n",
       "      <td>0003_01</td>\n",
       "      <td>Europa</td>\n",
       "      <td>False</td>\n",
       "      <td>TRAPPIST-1e</td>\n",
       "      <td>58.0</td>\n",
       "      <td>True</td>\n",
       "      <td>43.0</td>\n",
       "      <td>3576.0</td>\n",
       "      <td>0.0</td>\n",
       "      <td>6715.0</td>\n",
       "      <td>49.0</td>\n",
       "      <td>Altark Susent</td>\n",
       "      <td>False</td>\n",
       "      <td>0003</td>\n",
       "      <td>2</td>\n",
       "      <td>False</td>\n",
       "      <td>A</td>\n",
       "      <td>0</td>\n",
       "      <td>S</td>\n",
       "    </tr>\n",
       "    <tr>\n",
       "      <th>3</th>\n",
       "      <td>0003_02</td>\n",
       "      <td>Europa</td>\n",
       "      <td>False</td>\n",
       "      <td>TRAPPIST-1e</td>\n",
       "      <td>33.0</td>\n",
       "      <td>False</td>\n",
       "      <td>0.0</td>\n",
       "      <td>1283.0</td>\n",
       "      <td>371.0</td>\n",
       "      <td>3329.0</td>\n",
       "      <td>193.0</td>\n",
       "      <td>Solam Susent</td>\n",
       "      <td>False</td>\n",
       "      <td>0003</td>\n",
       "      <td>2</td>\n",
       "      <td>False</td>\n",
       "      <td>A</td>\n",
       "      <td>0</td>\n",
       "      <td>S</td>\n",
       "    </tr>\n",
       "    <tr>\n",
       "      <th>4</th>\n",
       "      <td>0004_01</td>\n",
       "      <td>Earth</td>\n",
       "      <td>False</td>\n",
       "      <td>TRAPPIST-1e</td>\n",
       "      <td>16.0</td>\n",
       "      <td>False</td>\n",
       "      <td>303.0</td>\n",
       "      <td>70.0</td>\n",
       "      <td>151.0</td>\n",
       "      <td>565.0</td>\n",
       "      <td>2.0</td>\n",
       "      <td>Willy Santantines</td>\n",
       "      <td>True</td>\n",
       "      <td>0004</td>\n",
       "      <td>1</td>\n",
       "      <td>True</td>\n",
       "      <td>F</td>\n",
       "      <td>1</td>\n",
       "      <td>S</td>\n",
       "    </tr>\n",
       "  </tbody>\n",
       "</table>\n",
       "</div>"
      ],
      "text/plain": [
       "  PassengerId HomePlanet CryoSleep  Destination   Age    VIP  RoomService  \\\n",
       "0     0001_01     Europa     False  TRAPPIST-1e  39.0  False          0.0   \n",
       "1     0002_01      Earth     False  TRAPPIST-1e  24.0  False        109.0   \n",
       "2     0003_01     Europa     False  TRAPPIST-1e  58.0   True         43.0   \n",
       "3     0003_02     Europa     False  TRAPPIST-1e  33.0  False          0.0   \n",
       "4     0004_01      Earth     False  TRAPPIST-1e  16.0  False        303.0   \n",
       "\n",
       "   FoodCourt  ShoppingMall     Spa  VRDeck               Name  Transported  \\\n",
       "0        0.0           0.0     0.0     0.0    Maham Ofracculy        False   \n",
       "1        9.0          25.0   549.0    44.0       Juanna Vines         True   \n",
       "2     3576.0           0.0  6715.0    49.0      Altark Susent        False   \n",
       "3     1283.0         371.0  3329.0   193.0       Solam Susent        False   \n",
       "4       70.0         151.0   565.0     2.0  Willy Santantines         True   \n",
       "\n",
       "  Group  Group_size   Solo Cabin_deck Cabin_num Cabin_side  \n",
       "0  0001           1   True          B         0          P  \n",
       "1  0002           1   True          F         0          S  \n",
       "2  0003           2  False          A         0          S  \n",
       "3  0003           2  False          A         0          S  \n",
       "4  0004           1   True          F         1          S  "
      ]
     },
     "execution_count": 18,
     "metadata": {},
     "output_type": "execute_result"
    }
   ],
   "source": [
    "# Cabin - extract the deck and side to create new column Cabin_deck', 'Cabin_num' and 'Cabin_side'\n",
    "def cabin_new_features(df):\n",
    "    df['Cabin_deck'] = df['Cabin'].apply(lambda x: split_cabin_and_fill_missing(x)[0])\n",
    "    df[\"Cabin_num\"]  = df[\"Cabin\"].apply(lambda x: split_cabin_and_fill_missing(x)[1])\n",
    "    df['Cabin_side'] = df['Cabin'].apply(lambda x: split_cabin_and_fill_missing(x)[2])\n",
    "    \n",
    "    # replace\"Missing\" with NA\n",
    "    df.loc[df['Cabin_deck']=='Missing','Cabin_deck']=np.nan\n",
    "    df.loc[df['Cabin_num']=='Missing','Cabin_num']=np.nan\n",
    "    df.loc[df['Cabin_side']=='Missing','Cabin_side']=np.nan\n",
    "    \n",
    "    df.drop('Cabin', axis = 1, inplace = True)\n",
    "\n",
    "cabin_new_features(abt_2)\n",
    "abt_2.head()"
   ]
  },
  {
   "cell_type": "code",
   "execution_count": 19,
   "id": "8fe746fd",
   "metadata": {
    "execution": {
     "iopub.execute_input": "2023-11-10T07:03:17.714333Z",
     "iopub.status.busy": "2023-11-10T07:03:17.713077Z",
     "iopub.status.idle": "2023-11-10T07:03:18.386764Z",
     "shell.execute_reply": "2023-11-10T07:03:18.385471Z"
    },
    "papermill": {
     "duration": 0.718007,
     "end_time": "2023-11-10T07:03:18.389506",
     "exception": false,
     "start_time": "2023-11-10T07:03:17.671499",
     "status": "completed"
    },
    "tags": []
   },
   "outputs": [
    {
     "data": {
      "text/plain": [
       "Text(0.5, 1.0, 'Cabin side')"
      ]
     },
     "execution_count": 19,
     "metadata": {},
     "output_type": "execute_result"
    },
    {
     "data": {
      "image/png": "[encoded data removed]",
      "text/plain": [
       "<Figure size 1000x1200 with 1 Axes>"
      ]
     },
     "metadata": {},
     "output_type": "display_data"
    },
    {
     "data": {
      "image/png": "[encoded data removed]",
      "text/plain": [
       "<Figure size 1000x1200 with 1 Axes>"
      ]
     },
     "metadata": {},
     "output_type": "display_data"
    }
   ],
   "source": [
    "# categories in 'Cabin_deck'\n",
    "cabin_deck_cat = abt_2['Cabin_deck'].loc[abt_2['Cabin_deck'].notna()].unique()\n",
    "# 'Cabin_deck' distribution\n",
    "fig=plt.figure(figsize=(10,12))\n",
    "plt.subplot(3,1,1)\n",
    "sns.countplot(data=abt_2, x='Cabin_deck', hue='Transported', order=sorted(cabin_deck_cat))\n",
    "plt.title('Cabin deck')\n",
    "\n",
    "# categories in 'Cabin_side'\n",
    "cabin_side_cat = abt_2['Cabin_side'].loc[abt_2['Cabin_side'].notna()].unique()\n",
    "# 'Cabin_side' distribution\n",
    "fig=plt.figure(figsize=(10,12))\n",
    "plt.subplot(3,1,1)\n",
    "sns.countplot(data=abt_2, x='Cabin_side', hue='Transported', order=sorted(cabin_side_cat))\n",
    "plt.title('Cabin side')"
   ]
  },
  {
   "cell_type": "markdown",
   "id": "458533ac",
   "metadata": {
    "papermill": {
     "duration": 0.041109,
     "end_time": "2023-11-10T07:03:18.476385",
     "exception": false,
     "start_time": "2023-11-10T07:03:18.435276",
     "status": "completed"
    },
    "tags": []
   },
   "source": [
    "## Expenditure"
   ]
  },
  {
   "cell_type": "markdown",
   "id": "c32aa9f3",
   "metadata": {
    "papermill": {
     "duration": 0.041223,
     "end_time": "2023-11-10T07:03:18.558779",
     "exception": false,
     "start_time": "2023-11-10T07:03:18.517556",
     "status": "completed"
    },
    "tags": []
   },
   "source": [
    "### Add Total_expenditure and No_spending features"
   ]
  },
  {
   "cell_type": "code",
   "execution_count": 20,
   "id": "d51e6486",
   "metadata": {
    "execution": {
     "iopub.execute_input": "2023-11-10T07:03:18.643439Z",
     "iopub.status.busy": "2023-11-10T07:03:18.642961Z",
     "iopub.status.idle": "2023-11-10T07:03:18.680463Z",
     "shell.execute_reply": "2023-11-10T07:03:18.679389Z"
    },
    "papermill": {
     "duration": 0.083058,
     "end_time": "2023-11-10T07:03:18.683224",
     "exception": false,
     "start_time": "2023-11-10T07:03:18.600166",
     "status": "completed"
    },
    "tags": []
   },
   "outputs": [
    {
     "data": {
      "text/html": [
       "<div>\n",
       "<style scoped>\n",
       "    .dataframe tbody tr th:only-of-type {\n",
       "        vertical-align: middle;\n",
       "    }\n",
       "\n",
       "    .dataframe tbody tr th {\n",
       "        vertical-align: top;\n",
       "    }\n",
       "\n",
       "    .dataframe thead th {\n",
       "        text-align: right;\n",
       "    }\n",
       "</style>\n",
       "<table border=\"1\" class=\"dataframe\">\n",
       "  <thead>\n",
       "    <tr style=\"text-align: right;\">\n",
       "      <th></th>\n",
       "      <th>PassengerId</th>\n",
       "      <th>HomePlanet</th>\n",
       "      <th>CryoSleep</th>\n",
       "      <th>Destination</th>\n",
       "      <th>Age</th>\n",
       "      <th>VIP</th>\n",
       "      <th>RoomService</th>\n",
       "      <th>FoodCourt</th>\n",
       "      <th>ShoppingMall</th>\n",
       "      <th>Spa</th>\n",
       "      <th>...</th>\n",
       "      <th>Name</th>\n",
       "      <th>Transported</th>\n",
       "      <th>Group</th>\n",
       "      <th>Group_size</th>\n",
       "      <th>Solo</th>\n",
       "      <th>Cabin_deck</th>\n",
       "      <th>Cabin_num</th>\n",
       "      <th>Cabin_side</th>\n",
       "      <th>Total_expenditure</th>\n",
       "      <th>No_spending</th>\n",
       "    </tr>\n",
       "  </thead>\n",
       "  <tbody>\n",
       "    <tr>\n",
       "      <th>0</th>\n",
       "      <td>0001_01</td>\n",
       "      <td>Europa</td>\n",
       "      <td>False</td>\n",
       "      <td>TRAPPIST-1e</td>\n",
       "      <td>39.0</td>\n",
       "      <td>False</td>\n",
       "      <td>0.0</td>\n",
       "      <td>0.0</td>\n",
       "      <td>0.0</td>\n",
       "      <td>0.0</td>\n",
       "      <td>...</td>\n",
       "      <td>Maham Ofracculy</td>\n",
       "      <td>False</td>\n",
       "      <td>0001</td>\n",
       "      <td>1</td>\n",
       "      <td>True</td>\n",
       "      <td>B</td>\n",
       "      <td>0</td>\n",
       "      <td>P</td>\n",
       "      <td>0.0</td>\n",
       "      <td>True</td>\n",
       "    </tr>\n",
       "    <tr>\n",
       "      <th>1</th>\n",
       "      <td>0002_01</td>\n",
       "      <td>Earth</td>\n",
       "      <td>False</td>\n",
       "      <td>TRAPPIST-1e</td>\n",
       "      <td>24.0</td>\n",
       "      <td>False</td>\n",
       "      <td>109.0</td>\n",
       "      <td>9.0</td>\n",
       "      <td>25.0</td>\n",
       "      <td>549.0</td>\n",
       "      <td>...</td>\n",
       "      <td>Juanna Vines</td>\n",
       "      <td>True</td>\n",
       "      <td>0002</td>\n",
       "      <td>1</td>\n",
       "      <td>True</td>\n",
       "      <td>F</td>\n",
       "      <td>0</td>\n",
       "      <td>S</td>\n",
       "      <td>736.0</td>\n",
       "      <td>False</td>\n",
       "    </tr>\n",
       "    <tr>\n",
       "      <th>2</th>\n",
       "      <td>0003_01</td>\n",
       "      <td>Europa</td>\n",
       "      <td>False</td>\n",
       "      <td>TRAPPIST-1e</td>\n",
       "      <td>58.0</td>\n",
       "      <td>True</td>\n",
       "      <td>43.0</td>\n",
       "      <td>3576.0</td>\n",
       "      <td>0.0</td>\n",
       "      <td>6715.0</td>\n",
       "      <td>...</td>\n",
       "      <td>Altark Susent</td>\n",
       "      <td>False</td>\n",
       "      <td>0003</td>\n",
       "      <td>2</td>\n",
       "      <td>False</td>\n",
       "      <td>A</td>\n",
       "      <td>0</td>\n",
       "      <td>S</td>\n",
       "      <td>10383.0</td>\n",
       "      <td>False</td>\n",
       "    </tr>\n",
       "    <tr>\n",
       "      <th>3</th>\n",
       "      <td>0003_02</td>\n",
       "      <td>Europa</td>\n",
       "      <td>False</td>\n",
       "      <td>TRAPPIST-1e</td>\n",
       "      <td>33.0</td>\n",
       "      <td>False</td>\n",
       "      <td>0.0</td>\n",
       "      <td>1283.0</td>\n",
       "      <td>371.0</td>\n",
       "      <td>3329.0</td>\n",
       "      <td>...</td>\n",
       "      <td>Solam Susent</td>\n",
       "      <td>False</td>\n",
       "      <td>0003</td>\n",
       "      <td>2</td>\n",
       "      <td>False</td>\n",
       "      <td>A</td>\n",
       "      <td>0</td>\n",
       "      <td>S</td>\n",
       "      <td>5176.0</td>\n",
       "      <td>False</td>\n",
       "    </tr>\n",
       "    <tr>\n",
       "      <th>4</th>\n",
       "      <td>0004_01</td>\n",
       "      <td>Earth</td>\n",
       "      <td>False</td>\n",
       "      <td>TRAPPIST-1e</td>\n",
       "      <td>16.0</td>\n",
       "      <td>False</td>\n",
       "      <td>303.0</td>\n",
       "      <td>70.0</td>\n",
       "      <td>151.0</td>\n",
       "      <td>565.0</td>\n",
       "      <td>...</td>\n",
       "      <td>Willy Santantines</td>\n",
       "      <td>True</td>\n",
       "      <td>0004</td>\n",
       "      <td>1</td>\n",
       "      <td>True</td>\n",
       "      <td>F</td>\n",
       "      <td>1</td>\n",
       "      <td>S</td>\n",
       "      <td>1091.0</td>\n",
       "      <td>False</td>\n",
       "    </tr>\n",
       "  </tbody>\n",
       "</table>\n",
       "<p>5 rows × 21 columns</p>\n",
       "</div>"
      ],
      "text/plain": [
       "  PassengerId HomePlanet CryoSleep  Destination   Age    VIP  RoomService  \\\n",
       "0     0001_01     Europa     False  TRAPPIST-1e  39.0  False          0.0   \n",
       "1     0002_01      Earth     False  TRAPPIST-1e  24.0  False        109.0   \n",
       "2     0003_01     Europa     False  TRAPPIST-1e  58.0   True         43.0   \n",
       "3     0003_02     Europa     False  TRAPPIST-1e  33.0  False          0.0   \n",
       "4     0004_01      Earth     False  TRAPPIST-1e  16.0  False        303.0   \n",
       "\n",
       "   FoodCourt  ShoppingMall     Spa  ...               Name Transported  Group  \\\n",
       "0        0.0           0.0     0.0  ...    Maham Ofracculy       False   0001   \n",
       "1        9.0          25.0   549.0  ...       Juanna Vines        True   0002   \n",
       "2     3576.0           0.0  6715.0  ...      Altark Susent       False   0003   \n",
       "3     1283.0         371.0  3329.0  ...       Solam Susent       False   0003   \n",
       "4       70.0         151.0   565.0  ...  Willy Santantines        True   0004   \n",
       "\n",
       "  Group_size   Solo  Cabin_deck Cabin_num Cabin_side Total_expenditure  \\\n",
       "0          1   True           B         0          P               0.0   \n",
       "1          1   True           F         0          S             736.0   \n",
       "2          2  False           A         0          S           10383.0   \n",
       "3          2  False           A         0          S            5176.0   \n",
       "4          1   True           F         1          S            1091.0   \n",
       "\n",
       "   No_spending  \n",
       "0         True  \n",
       "1        False  \n",
       "2        False  \n",
       "3        False  \n",
       "4        False  \n",
       "\n",
       "[5 rows x 21 columns]"
      ]
     },
     "execution_count": 20,
     "metadata": {},
     "output_type": "execute_result"
    }
   ],
   "source": [
    "exp_cols = [\"RoomService\",\"FoodCourt\",\"ShoppingMall\",\"Spa\",\"VRDeck\"]\n",
    "\n",
    "def exp_new_features(df):\n",
    "    df[\"Total_expenditure\"] = df[exp_cols].sum(axis=1)\n",
    "    df[\"No_spending\"] = (df[\"Total_expenditure\"]==0)\n",
    "    \n",
    "exp_new_features(abt_2)\n",
    "abt_2.head()"
   ]
  },
  {
   "cell_type": "markdown",
   "id": "fe99b6f5",
   "metadata": {
    "papermill": {
     "duration": 0.041806,
     "end_time": "2023-11-10T07:03:18.767801",
     "exception": false,
     "start_time": "2023-11-10T07:03:18.725995",
     "status": "completed"
    },
    "tags": []
   },
   "source": [
    "### Visualizing Total_expenditure & No_spending features"
   ]
  },
  {
   "cell_type": "code",
   "execution_count": 21,
   "id": "1923c91c",
   "metadata": {
    "execution": {
     "iopub.execute_input": "2023-11-10T07:03:18.852603Z",
     "iopub.status.busy": "2023-11-10T07:03:18.852197Z",
     "iopub.status.idle": "2023-11-10T07:03:20.579924Z",
     "shell.execute_reply": "2023-11-10T07:03:20.578787Z"
    },
    "papermill": {
     "duration": 1.773858,
     "end_time": "2023-11-10T07:03:20.583149",
     "exception": false,
     "start_time": "2023-11-10T07:03:18.809291",
     "status": "completed"
    },
    "tags": []
   },
   "outputs": [
    {
     "data": {
      "image/png": "[encoded data removed]",
      "text/plain": [
       "<Figure size 1200x400 with 2 Axes>"
      ]
     },
     "metadata": {},
     "output_type": "display_data"
    }
   ],
   "source": [
    "fig=plt.figure(figsize=(12,4))\n",
    "plt.subplot(1,2,1)\n",
    "sns.histplot(x=\"Total_expenditure\", hue=\"Transported\", data=abt_2, kde=True,bins=200)\n",
    "plt.ylim(0,200)\n",
    "plt.xlim(0,10000)\n",
    "plt.title(\"Total Expenditure\");\n",
    "\n",
    "plt.subplot(1,2,2)\n",
    "sns.countplot(x=\"No_spending\", hue=\"Transported\", data=abt_2)\n",
    "plt.title(\"No Spending\");"
   ]
  },
  {
   "cell_type": "markdown",
   "id": "30ef06dd",
   "metadata": {
    "papermill": {
     "duration": 0.043215,
     "end_time": "2023-11-10T07:03:20.669206",
     "exception": false,
     "start_time": "2023-11-10T07:03:20.625991",
     "status": "completed"
    },
    "tags": []
   },
   "source": [
    "## Last name"
   ]
  },
  {
   "cell_type": "markdown",
   "id": "56c516ce",
   "metadata": {
    "papermill": {
     "duration": 0.042626,
     "end_time": "2023-11-10T07:03:20.754766",
     "exception": false,
     "start_time": "2023-11-10T07:03:20.712140",
     "status": "completed"
    },
    "tags": []
   },
   "source": [
    "### Add LastName and Family_size features"
   ]
  },
  {
   "cell_type": "code",
   "execution_count": 22,
   "id": "e7bbd4f4",
   "metadata": {
    "execution": {
     "iopub.execute_input": "2023-11-10T07:03:20.842370Z",
     "iopub.status.busy": "2023-11-10T07:03:20.841942Z",
     "iopub.status.idle": "2023-11-10T07:03:46.090325Z",
     "shell.execute_reply": "2023-11-10T07:03:46.089054Z"
    },
    "papermill": {
     "duration": 25.295752,
     "end_time": "2023-11-10T07:03:46.093135",
     "exception": false,
     "start_time": "2023-11-10T07:03:20.797383",
     "status": "completed"
    },
    "tags": []
   },
   "outputs": [
    {
     "data": {
      "text/html": [
       "<div>\n",
       "<style scoped>\n",
       "    .dataframe tbody tr th:only-of-type {\n",
       "        vertical-align: middle;\n",
       "    }\n",
       "\n",
       "    .dataframe tbody tr th {\n",
       "        vertical-align: top;\n",
       "    }\n",
       "\n",
       "    .dataframe thead th {\n",
       "        text-align: right;\n",
       "    }\n",
       "</style>\n",
       "<table border=\"1\" class=\"dataframe\">\n",
       "  <thead>\n",
       "    <tr style=\"text-align: right;\">\n",
       "      <th></th>\n",
       "      <th>PassengerId</th>\n",
       "      <th>HomePlanet</th>\n",
       "      <th>CryoSleep</th>\n",
       "      <th>Destination</th>\n",
       "      <th>Age</th>\n",
       "      <th>VIP</th>\n",
       "      <th>RoomService</th>\n",
       "      <th>FoodCourt</th>\n",
       "      <th>ShoppingMall</th>\n",
       "      <th>Spa</th>\n",
       "      <th>...</th>\n",
       "      <th>Group</th>\n",
       "      <th>Group_size</th>\n",
       "      <th>Solo</th>\n",
       "      <th>Cabin_deck</th>\n",
       "      <th>Cabin_num</th>\n",
       "      <th>Cabin_side</th>\n",
       "      <th>Total_expenditure</th>\n",
       "      <th>No_spending</th>\n",
       "      <th>LastName</th>\n",
       "      <th>Family_size</th>\n",
       "    </tr>\n",
       "  </thead>\n",
       "  <tbody>\n",
       "    <tr>\n",
       "      <th>0</th>\n",
       "      <td>0001_01</td>\n",
       "      <td>Europa</td>\n",
       "      <td>False</td>\n",
       "      <td>TRAPPIST-1e</td>\n",
       "      <td>39.0</td>\n",
       "      <td>False</td>\n",
       "      <td>0.0</td>\n",
       "      <td>0.0</td>\n",
       "      <td>0.0</td>\n",
       "      <td>0.0</td>\n",
       "      <td>...</td>\n",
       "      <td>0001</td>\n",
       "      <td>1</td>\n",
       "      <td>True</td>\n",
       "      <td>B</td>\n",
       "      <td>0</td>\n",
       "      <td>P</td>\n",
       "      <td>0.0</td>\n",
       "      <td>True</td>\n",
       "      <td>Ofracculy</td>\n",
       "      <td>1.0</td>\n",
       "    </tr>\n",
       "    <tr>\n",
       "      <th>1</th>\n",
       "      <td>0002_01</td>\n",
       "      <td>Earth</td>\n",
       "      <td>False</td>\n",
       "      <td>TRAPPIST-1e</td>\n",
       "      <td>24.0</td>\n",
       "      <td>False</td>\n",
       "      <td>109.0</td>\n",
       "      <td>9.0</td>\n",
       "      <td>25.0</td>\n",
       "      <td>549.0</td>\n",
       "      <td>...</td>\n",
       "      <td>0002</td>\n",
       "      <td>1</td>\n",
       "      <td>True</td>\n",
       "      <td>F</td>\n",
       "      <td>0</td>\n",
       "      <td>S</td>\n",
       "      <td>736.0</td>\n",
       "      <td>False</td>\n",
       "      <td>Vines</td>\n",
       "      <td>4.0</td>\n",
       "    </tr>\n",
       "    <tr>\n",
       "      <th>2</th>\n",
       "      <td>0003_01</td>\n",
       "      <td>Europa</td>\n",
       "      <td>False</td>\n",
       "      <td>TRAPPIST-1e</td>\n",
       "      <td>58.0</td>\n",
       "      <td>True</td>\n",
       "      <td>43.0</td>\n",
       "      <td>3576.0</td>\n",
       "      <td>0.0</td>\n",
       "      <td>6715.0</td>\n",
       "      <td>...</td>\n",
       "      <td>0003</td>\n",
       "      <td>2</td>\n",
       "      <td>False</td>\n",
       "      <td>A</td>\n",
       "      <td>0</td>\n",
       "      <td>S</td>\n",
       "      <td>10383.0</td>\n",
       "      <td>False</td>\n",
       "      <td>Susent</td>\n",
       "      <td>6.0</td>\n",
       "    </tr>\n",
       "    <tr>\n",
       "      <th>3</th>\n",
       "      <td>0003_02</td>\n",
       "      <td>Europa</td>\n",
       "      <td>False</td>\n",
       "      <td>TRAPPIST-1e</td>\n",
       "      <td>33.0</td>\n",
       "      <td>False</td>\n",
       "      <td>0.0</td>\n",
       "      <td>1283.0</td>\n",
       "      <td>371.0</td>\n",
       "      <td>3329.0</td>\n",
       "      <td>...</td>\n",
       "      <td>0003</td>\n",
       "      <td>2</td>\n",
       "      <td>False</td>\n",
       "      <td>A</td>\n",
       "      <td>0</td>\n",
       "      <td>S</td>\n",
       "      <td>5176.0</td>\n",
       "      <td>False</td>\n",
       "      <td>Susent</td>\n",
       "      <td>6.0</td>\n",
       "    </tr>\n",
       "    <tr>\n",
       "      <th>4</th>\n",
       "      <td>0004_01</td>\n",
       "      <td>Earth</td>\n",
       "      <td>False</td>\n",
       "      <td>TRAPPIST-1e</td>\n",
       "      <td>16.0</td>\n",
       "      <td>False</td>\n",
       "      <td>303.0</td>\n",
       "      <td>70.0</td>\n",
       "      <td>151.0</td>\n",
       "      <td>565.0</td>\n",
       "      <td>...</td>\n",
       "      <td>0004</td>\n",
       "      <td>1</td>\n",
       "      <td>True</td>\n",
       "      <td>F</td>\n",
       "      <td>1</td>\n",
       "      <td>S</td>\n",
       "      <td>1091.0</td>\n",
       "      <td>False</td>\n",
       "      <td>Santantines</td>\n",
       "      <td>6.0</td>\n",
       "    </tr>\n",
       "  </tbody>\n",
       "</table>\n",
       "<p>5 rows × 22 columns</p>\n",
       "</div>"
      ],
      "text/plain": [
       "  PassengerId HomePlanet CryoSleep  Destination   Age    VIP  RoomService  \\\n",
       "0     0001_01     Europa     False  TRAPPIST-1e  39.0  False          0.0   \n",
       "1     0002_01      Earth     False  TRAPPIST-1e  24.0  False        109.0   \n",
       "2     0003_01     Europa     False  TRAPPIST-1e  58.0   True         43.0   \n",
       "3     0003_02     Europa     False  TRAPPIST-1e  33.0  False          0.0   \n",
       "4     0004_01      Earth     False  TRAPPIST-1e  16.0  False        303.0   \n",
       "\n",
       "   FoodCourt  ShoppingMall     Spa  ...  Group  Group_size   Solo  Cabin_deck  \\\n",
       "0        0.0           0.0     0.0  ...   0001           1   True           B   \n",
       "1        9.0          25.0   549.0  ...   0002           1   True           F   \n",
       "2     3576.0           0.0  6715.0  ...   0003           2  False           A   \n",
       "3     1283.0         371.0  3329.0  ...   0003           2  False           A   \n",
       "4       70.0         151.0   565.0  ...   0004           1   True           F   \n",
       "\n",
       "   Cabin_num Cabin_side Total_expenditure No_spending     LastName  \\\n",
       "0          0          P               0.0        True    Ofracculy   \n",
       "1          0          S             736.0       False        Vines   \n",
       "2          0          S           10383.0       False       Susent   \n",
       "3          0          S            5176.0       False       Susent   \n",
       "4          1          S            1091.0       False  Santantines   \n",
       "\n",
       "   Family_size  \n",
       "0          1.0  \n",
       "1          4.0  \n",
       "2          6.0  \n",
       "3          6.0  \n",
       "4          6.0  \n",
       "\n",
       "[5 rows x 22 columns]"
      ]
     },
     "execution_count": 22,
     "metadata": {},
     "output_type": "execute_result"
    }
   ],
   "source": [
    "def name_new_features(df):\n",
    "    # fill the missing name with \"Missing\"\n",
    "    df['Name'].fillna('Missing', inplace=True)\n",
    "    \n",
    "    # split the last name\n",
    "    if(len(df['Name'].str.split()[0]) == 2):\n",
    "        df['LastName'] = df['Name'].apply(lambda x: str(x).split()[-1])\n",
    "    \n",
    "    # count how many family member\n",
    "    df['Family_size'] = df['LastName'].map(lambda x: df['LastName'].value_counts()[x])\n",
    "    \n",
    "    # replace \"Missing\" with NA\n",
    "    df.loc[df['Family_size'] == 200,'Family_size']=np.nan\n",
    "    df.loc[df['LastName'] =='Missing','LastName']=np.nan\n",
    "    \n",
    "    # drop the Name column\n",
    "    df.drop('Name', axis=1, inplace=True)\n",
    "\n",
    "name_new_features(abt_2)\n",
    "abt_2.head()"
   ]
  },
  {
   "cell_type": "code",
   "execution_count": 23,
   "id": "e18f13bf",
   "metadata": {
    "execution": {
     "iopub.execute_input": "2023-11-10T07:03:46.182104Z",
     "iopub.status.busy": "2023-11-10T07:03:46.181659Z",
     "iopub.status.idle": "2023-11-10T07:03:46.664889Z",
     "shell.execute_reply": "2023-11-10T07:03:46.663495Z"
    },
    "papermill": {
     "duration": 0.533078,
     "end_time": "2023-11-10T07:03:46.669728",
     "exception": false,
     "start_time": "2023-11-10T07:03:46.136650",
     "status": "completed"
    },
    "tags": []
   },
   "outputs": [
    {
     "data": {
      "text/plain": [
       "Text(0.5, 1.0, 'Family size')"
      ]
     },
     "execution_count": 23,
     "metadata": {},
     "output_type": "execute_result"
    },
    {
     "data": {
      "image/png": "[encoded data removed]",
      "text/plain": [
       "<Figure size 1000x1200 with 1 Axes>"
      ]
     },
     "metadata": {},
     "output_type": "display_data"
    }
   ],
   "source": [
    "fig=plt.figure(figsize=(10,12))\n",
    "plt.subplot(3,1,1)\n",
    "sns.countplot(data=abt_2, x='Family_size', hue='Transported')\n",
    "plt.title('Family size')"
   ]
  },
  {
   "cell_type": "markdown",
   "id": "f7943750",
   "metadata": {
    "papermill": {
     "duration": 0.043922,
     "end_time": "2023-11-10T07:03:46.757674",
     "exception": false,
     "start_time": "2023-11-10T07:03:46.713752",
     "status": "completed"
    },
    "tags": []
   },
   "source": [
    "## Age"
   ]
  },
  {
   "cell_type": "markdown",
   "id": "59153390",
   "metadata": {
    "papermill": {
     "duration": 0.043316,
     "end_time": "2023-11-10T07:03:46.844749",
     "exception": false,
     "start_time": "2023-11-10T07:03:46.801433",
     "status": "completed"
    },
    "tags": []
   },
   "source": [
    "### Add Age_group feature"
   ]
  },
  {
   "cell_type": "code",
   "execution_count": 24,
   "id": "b6237180",
   "metadata": {
    "execution": {
     "iopub.execute_input": "2023-11-10T07:03:46.934717Z",
     "iopub.status.busy": "2023-11-10T07:03:46.933971Z",
     "iopub.status.idle": "2023-11-10T07:03:46.949183Z",
     "shell.execute_reply": "2023-11-10T07:03:46.948113Z"
    },
    "papermill": {
     "duration": 0.063516,
     "end_time": "2023-11-10T07:03:46.952005",
     "exception": false,
     "start_time": "2023-11-10T07:03:46.888489",
     "status": "completed"
    },
    "tags": []
   },
   "outputs": [],
   "source": [
    "def encode_age(age):\n",
    "    # define age group of the passengers\n",
    "    # children\n",
    "    if age <= 12.0:\n",
    "        return 'children 0-12'\n",
    "    # teenagers\n",
    "    elif 12.0 < age <= 18.0:\n",
    "        return 'teenagers 13-18'\n",
    "    # young adults\n",
    "    elif 18.0 < age <= 25.0:\n",
    "        return 'young_adults 19-25'\n",
    "    # adults\n",
    "    elif 25.0 < age <= 40.0:\n",
    "        return 'adults 26-40'\n",
    "    # middle age\n",
    "    elif 40.0 < age <= 65.0:\n",
    "        return 'middle_age 41-65'\n",
    "    # eldery\n",
    "    else:\n",
    "        return 'eldery > 65'\n",
    "\n",
    "def age_new_features(df):\n",
    "    # encode the Age to Age_group\n",
    "    df['Age_group'] = df['Age'].apply(encode_age)\n",
    "\n",
    "age_new_features(abt_2)"
   ]
  },
  {
   "cell_type": "code",
   "execution_count": 25,
   "id": "0d90d49f",
   "metadata": {
    "execution": {
     "iopub.execute_input": "2023-11-10T07:03:47.041524Z",
     "iopub.status.busy": "2023-11-10T07:03:47.041122Z",
     "iopub.status.idle": "2023-11-10T07:03:47.404345Z",
     "shell.execute_reply": "2023-11-10T07:03:47.403121Z"
    },
    "papermill": {
     "duration": 0.411554,
     "end_time": "2023-11-10T07:03:47.407272",
     "exception": false,
     "start_time": "2023-11-10T07:03:46.995718",
     "status": "completed"
    },
    "tags": []
   },
   "outputs": [
    {
     "data": {
      "text/plain": [
       "Text(0.5, 1.0, 'Age_group')"
      ]
     },
     "execution_count": 25,
     "metadata": {},
     "output_type": "execute_result"
    },
    {
     "data": {
      "image/png": "[encoded data removed]",
      "text/plain": [
       "<Figure size 1000x1200 with 1 Axes>"
      ]
     },
     "metadata": {},
     "output_type": "display_data"
    }
   ],
   "source": [
    "fig=plt.figure(figsize=(10,12))\n",
    "plt.subplot(3,1,1)\n",
    "sns.countplot(data=abt_2, x='Age_group', hue='Transported')\n",
    "plt.title('Age_group')"
   ]
  },
  {
   "cell_type": "markdown",
   "id": "6794e571",
   "metadata": {
    "papermill": {
     "duration": 0.044588,
     "end_time": "2023-11-10T07:03:47.497002",
     "exception": false,
     "start_time": "2023-11-10T07:03:47.452414",
     "status": "completed"
    },
    "tags": []
   },
   "source": [
    "# Missing data"
   ]
  },
  {
   "cell_type": "code",
   "execution_count": 26,
   "id": "b0102e87",
   "metadata": {
    "execution": {
     "iopub.execute_input": "2023-11-10T07:03:47.594373Z",
     "iopub.status.busy": "2023-11-10T07:03:47.592663Z",
     "iopub.status.idle": "2023-11-10T07:03:47.637586Z",
     "shell.execute_reply": "2023-11-10T07:03:47.636453Z"
    },
    "papermill": {
     "duration": 0.097722,
     "end_time": "2023-11-10T07:03:47.640570",
     "exception": false,
     "start_time": "2023-11-10T07:03:47.542848",
     "status": "completed"
    },
    "tags": []
   },
   "outputs": [
    {
     "data": {
      "text/html": [
       "<div>\n",
       "<style scoped>\n",
       "    .dataframe tbody tr th:only-of-type {\n",
       "        vertical-align: middle;\n",
       "    }\n",
       "\n",
       "    .dataframe tbody tr th {\n",
       "        vertical-align: top;\n",
       "    }\n",
       "\n",
       "    .dataframe thead th {\n",
       "        text-align: right;\n",
       "    }\n",
       "</style>\n",
       "<table border=\"1\" class=\"dataframe\">\n",
       "  <thead>\n",
       "    <tr style=\"text-align: right;\">\n",
       "      <th></th>\n",
       "      <th>Number_missing</th>\n",
       "      <th>Percentage_missing</th>\n",
       "    </tr>\n",
       "  </thead>\n",
       "  <tbody>\n",
       "    <tr>\n",
       "      <th>HomePlanet</th>\n",
       "      <td>201</td>\n",
       "      <td>2.31</td>\n",
       "    </tr>\n",
       "    <tr>\n",
       "      <th>CryoSleep</th>\n",
       "      <td>217</td>\n",
       "      <td>2.50</td>\n",
       "    </tr>\n",
       "    <tr>\n",
       "      <th>Destination</th>\n",
       "      <td>182</td>\n",
       "      <td>2.09</td>\n",
       "    </tr>\n",
       "    <tr>\n",
       "      <th>Age</th>\n",
       "      <td>179</td>\n",
       "      <td>2.06</td>\n",
       "    </tr>\n",
       "    <tr>\n",
       "      <th>VIP</th>\n",
       "      <td>203</td>\n",
       "      <td>2.34</td>\n",
       "    </tr>\n",
       "    <tr>\n",
       "      <th>RoomService</th>\n",
       "      <td>181</td>\n",
       "      <td>2.08</td>\n",
       "    </tr>\n",
       "    <tr>\n",
       "      <th>FoodCourt</th>\n",
       "      <td>183</td>\n",
       "      <td>2.11</td>\n",
       "    </tr>\n",
       "    <tr>\n",
       "      <th>ShoppingMall</th>\n",
       "      <td>208</td>\n",
       "      <td>2.39</td>\n",
       "    </tr>\n",
       "    <tr>\n",
       "      <th>Spa</th>\n",
       "      <td>183</td>\n",
       "      <td>2.11</td>\n",
       "    </tr>\n",
       "    <tr>\n",
       "      <th>VRDeck</th>\n",
       "      <td>188</td>\n",
       "      <td>2.16</td>\n",
       "    </tr>\n",
       "    <tr>\n",
       "      <th>Cabin_deck</th>\n",
       "      <td>199</td>\n",
       "      <td>2.29</td>\n",
       "    </tr>\n",
       "    <tr>\n",
       "      <th>Cabin_num</th>\n",
       "      <td>199</td>\n",
       "      <td>2.29</td>\n",
       "    </tr>\n",
       "    <tr>\n",
       "      <th>Cabin_side</th>\n",
       "      <td>199</td>\n",
       "      <td>2.29</td>\n",
       "    </tr>\n",
       "    <tr>\n",
       "      <th>LastName</th>\n",
       "      <td>200</td>\n",
       "      <td>2.30</td>\n",
       "    </tr>\n",
       "    <tr>\n",
       "      <th>Family_size</th>\n",
       "      <td>200</td>\n",
       "      <td>2.30</td>\n",
       "    </tr>\n",
       "  </tbody>\n",
       "</table>\n",
       "</div>"
      ],
      "text/plain": [
       "              Number_missing  Percentage_missing\n",
       "HomePlanet               201                2.31\n",
       "CryoSleep                217                2.50\n",
       "Destination              182                2.09\n",
       "Age                      179                2.06\n",
       "VIP                      203                2.34\n",
       "RoomService              181                2.08\n",
       "FoodCourt                183                2.11\n",
       "ShoppingMall             208                2.39\n",
       "Spa                      183                2.11\n",
       "VRDeck                   188                2.16\n",
       "Cabin_deck               199                2.29\n",
       "Cabin_num                199                2.29\n",
       "Cabin_side               199                2.29\n",
       "LastName                 200                2.30\n",
       "Family_size              200                2.30"
      ]
     },
     "execution_count": 26,
     "metadata": {},
     "output_type": "execute_result"
    }
   ],
   "source": [
    "# missing column\n",
    "na_cols = abt_2.columns[abt_2.isna().any()].tolist()\n",
    "\n",
    "# # missing values summary\n",
    "mv = pd.DataFrame(abt_2[na_cols].isna().sum(), columns=['Number_missing'])\n",
    "mv['Percentage_missing']=np.round(100*mv['Number_missing']/len(abt_2),2)\n",
    "mv"
   ]
  },
  {
   "cell_type": "markdown",
   "id": "43e4c5d7",
   "metadata": {
    "papermill": {
     "duration": 0.044853,
     "end_time": "2023-11-10T07:03:47.735056",
     "exception": false,
     "start_time": "2023-11-10T07:03:47.690203",
     "status": "completed"
    },
    "tags": []
   },
   "source": [
    "## Fill HomePlanet"
   ]
  },
  {
   "cell_type": "markdown",
   "id": "bc40f0a0",
   "metadata": {
    "papermill": {
     "duration": 0.044484,
     "end_time": "2023-11-10T07:03:47.825556",
     "exception": false,
     "start_time": "2023-11-10T07:03:47.781072",
     "status": "completed"
    },
    "tags": []
   },
   "source": [
    "### HomePlanet and LastName"
   ]
  },
  {
   "cell_type": "code",
   "execution_count": 27,
   "id": "65af3116",
   "metadata": {
    "execution": {
     "iopub.execute_input": "2023-11-10T07:03:47.917869Z",
     "iopub.status.busy": "2023-11-10T07:03:47.917059Z",
     "iopub.status.idle": "2023-11-10T07:03:47.938348Z",
     "shell.execute_reply": "2023-11-10T07:03:47.936745Z"
    },
    "papermill": {
     "duration": 0.070607,
     "end_time": "2023-11-10T07:03:47.941030",
     "exception": false,
     "start_time": "2023-11-10T07:03:47.870423",
     "status": "completed"
    },
    "tags": []
   },
   "outputs": [
    {
     "name": "stdout",
     "output_type": "stream",
     "text": [
      "The total number of LastName with the Homeplanet is not missing: 2209\n",
      "Number of the same last name with only one unique HomePlanet: 2209\n"
     ]
    }
   ],
   "source": [
    "LHP = abt_2.groupby('LastName')['HomePlanet'].nunique().reset_index(name='UniqueHomePlanetCount')\n",
    "\n",
    "# count the number of LastName with only one unique HomePlanet\n",
    "LHP_count = (LHP['UniqueHomePlanetCount'] == 1).sum()\n",
    "\n",
    "print(\"The total number of LastName with the Homeplanet is not missing:\", abt_2.loc[abt_2['HomePlanet'].notna(), 'LastName'].nunique())\n",
    "print(\"Number of the same last name with only one unique HomePlanet:\", LHP_count)"
   ]
  },
  {
   "cell_type": "code",
   "execution_count": 28,
   "id": "e970012a",
   "metadata": {
    "execution": {
     "iopub.execute_input": "2023-11-10T07:03:48.033271Z",
     "iopub.status.busy": "2023-11-10T07:03:48.032813Z",
     "iopub.status.idle": "2023-11-10T07:03:48.065889Z",
     "shell.execute_reply": "2023-11-10T07:03:48.064590Z"
    },
    "papermill": {
     "duration": 0.081938,
     "end_time": "2023-11-10T07:03:48.068295",
     "exception": false,
     "start_time": "2023-11-10T07:03:47.986357",
     "status": "completed"
    },
    "tags": []
   },
   "outputs": [
    {
     "name": "stdout",
     "output_type": "stream",
     "text": [
      "Before - number of missing data in HomePlanet: 201\n",
      "After - number of missing data in HomePlanet fill by LastName: 15\n"
     ]
    }
   ],
   "source": [
    "print(\"Before - number of missing data in HomePlanet:\", len(abt_2[abt_2['HomePlanet'].isna()]))\n",
    "def fill_HomePlanet_by_LastName(df):\n",
    "    # create a temporary DataFrame to hold the mappings\n",
    "    mapping = df[['LastName', 'HomePlanet']].dropna().drop_duplicates()\n",
    "\n",
    "    # fill missing values in HomePlanet based on LastName\n",
    "    df['HomePlanet'] = df['LastName'].map(mapping.set_index('LastName')['HomePlanet']).combine_first(df['HomePlanet'])\n",
    "fill_HomePlanet_by_LastName(abt_2)\n",
    "print(\"After - number of missing data in HomePlanet fill by LastName:\", len(abt_2[abt_2['HomePlanet'].isna()]))"
   ]
  },
  {
   "cell_type": "markdown",
   "id": "e790cf33",
   "metadata": {
    "papermill": {
     "duration": 0.04489,
     "end_time": "2023-11-10T07:03:48.158157",
     "exception": false,
     "start_time": "2023-11-10T07:03:48.113267",
     "status": "completed"
    },
    "tags": []
   },
   "source": [
    "### HomePlanet and Cabin_deck"
   ]
  },
  {
   "cell_type": "code",
   "execution_count": 29,
   "id": "b67af33c",
   "metadata": {
    "execution": {
     "iopub.execute_input": "2023-11-10T07:03:48.251808Z",
     "iopub.status.busy": "2023-11-10T07:03:48.249796Z",
     "iopub.status.idle": "2023-11-10T07:03:48.686052Z",
     "shell.execute_reply": "2023-11-10T07:03:48.684855Z"
    },
    "papermill": {
     "duration": 0.48538,
     "end_time": "2023-11-10T07:03:48.688616",
     "exception": false,
     "start_time": "2023-11-10T07:03:48.203236",
     "status": "completed"
    },
    "tags": []
   },
   "outputs": [
    {
     "data": {
      "text/plain": [
       "Text(0.5, 1.0, 'Cabin deck and HomePlanet')"
      ]
     },
     "execution_count": 29,
     "metadata": {},
     "output_type": "execute_result"
    },
    {
     "data": {
      "image/png": "[encoded data removed]",
      "text/plain": [
       "<Figure size 1000x1200 with 1 Axes>"
      ]
     },
     "metadata": {},
     "output_type": "display_data"
    }
   ],
   "source": [
    "# categories in Cabin_deck\n",
    "cabin_deck_cat = abt_2['Cabin_deck'].loc[abt_2['Cabin_deck'].notna()].unique()\n",
    "# Cabin_deck distribution\n",
    "fig=plt.figure(figsize=(10,12))\n",
    "plt.subplot(3,1,1)\n",
    "sns.countplot(data=abt_2, x='Cabin_deck', hue='HomePlanet', order=sorted(cabin_deck_cat))\n",
    "plt.title('Cabin deck and HomePlanet')"
   ]
  },
  {
   "cell_type": "code",
   "execution_count": 30,
   "id": "5cbcad59",
   "metadata": {
    "execution": {
     "iopub.execute_input": "2023-11-10T07:03:48.782685Z",
     "iopub.status.busy": "2023-11-10T07:03:48.782283Z",
     "iopub.status.idle": "2023-11-10T07:03:48.802155Z",
     "shell.execute_reply": "2023-11-10T07:03:48.800917Z"
    },
    "papermill": {
     "duration": 0.070628,
     "end_time": "2023-11-10T07:03:48.805007",
     "exception": false,
     "start_time": "2023-11-10T07:03:48.734379",
     "status": "completed"
    },
    "tags": []
   },
   "outputs": [
    {
     "name": "stdout",
     "output_type": "stream",
     "text": [
      "Before - number of missing data in HomePlanet:  15\n",
      "After - number of missing data in HomePlanet filled by Cabin_deck: 10\n"
     ]
    }
   ],
   "source": [
    "print(\"Before - number of missing data in HomePlanet: \", len(abt_2[abt_2['HomePlanet'].isna()]))\n",
    "\n",
    "def fill_HomePlanet_by_Cabin_deck(df):\n",
    "    # Cabin_deck is A, B, C, T fill Europa in HomePlanet\n",
    "    df.loc[(df['Cabin_deck'].isin(['A', 'B', 'C', 'T'])) & (df['HomePlanet'].isna()), 'HomePlanet'] = 'Europa'\n",
    "    # Cabin_deck is G fill Earth in HomePlanet\n",
    "    df.loc[(df['Cabin_deck'] == 'G') & (df['HomePlanet'].isna()), 'HomePlanet'] = 'Earth'\n",
    "        \n",
    "fill_HomePlanet_by_Cabin_deck(abt_2)\n",
    "print(\"After - number of missing data in HomePlanet filled by Cabin_deck:\", len(abt_2[abt_2['HomePlanet'].isna()]))"
   ]
  },
  {
   "cell_type": "markdown",
   "id": "ef674955",
   "metadata": {
    "papermill": {
     "duration": 0.046058,
     "end_time": "2023-11-10T07:03:48.896897",
     "exception": false,
     "start_time": "2023-11-10T07:03:48.850839",
     "status": "completed"
    },
    "tags": []
   },
   "source": [
    "### HomePlanet and Destination"
   ]
  },
  {
   "cell_type": "code",
   "execution_count": 31,
   "id": "925630c7",
   "metadata": {
    "execution": {
     "iopub.execute_input": "2023-11-10T07:03:48.991910Z",
     "iopub.status.busy": "2023-11-10T07:03:48.990566Z",
     "iopub.status.idle": "2023-11-10T07:03:49.274542Z",
     "shell.execute_reply": "2023-11-10T07:03:49.273279Z"
    },
    "papermill": {
     "duration": 0.334448,
     "end_time": "2023-11-10T07:03:49.277369",
     "exception": false,
     "start_time": "2023-11-10T07:03:48.942921",
     "status": "completed"
    },
    "tags": []
   },
   "outputs": [
    {
     "data": {
      "image/png": "[encoded data removed]",
      "text/plain": [
       "<Figure size 640x480 with 2 Axes>"
      ]
     },
     "metadata": {},
     "output_type": "display_data"
    }
   ],
   "source": [
    "# calculate the count of occurrences for each combination of HomePlanet and Destination\n",
    "heatmap_data = df.groupby(['Destination', 'HomePlanet']).size().unstack(fill_value=0)\n",
    "\n",
    "# create the heatmap\n",
    "sns.heatmap(heatmap_data, cmap='YlGnBu', annot=True, fmt='d')\n",
    "\n",
    "# add labels and title\n",
    "plt.xlabel('Destination')\n",
    "plt.ylabel('HomePlanet')\n",
    "plt.title('Heatmap of HomePlanet and Destination')\n",
    "\n",
    "# display the plot\n",
    "plt.show()"
   ]
  },
  {
   "cell_type": "code",
   "execution_count": 32,
   "id": "8dcafcc8",
   "metadata": {
    "execution": {
     "iopub.execute_input": "2023-11-10T07:03:49.373554Z",
     "iopub.status.busy": "2023-11-10T07:03:49.373152Z",
     "iopub.status.idle": "2023-11-10T07:03:49.396882Z",
     "shell.execute_reply": "2023-11-10T07:03:49.395608Z"
    },
    "papermill": {
     "duration": 0.075151,
     "end_time": "2023-11-10T07:03:49.399432",
     "exception": false,
     "start_time": "2023-11-10T07:03:49.324281",
     "status": "completed"
    },
    "tags": []
   },
   "outputs": [
    {
     "name": "stdout",
     "output_type": "stream",
     "text": [
      "Before - number of missing data in HomePlanet: 10\n",
      "After - number of missing data in HomePlanet filled by Destination: 1\n"
     ]
    }
   ],
   "source": [
    "print(\"Before - number of missing data in HomePlanet:\", len(abt_2[abt_2['HomePlanet'].isna()]))\n",
    "def fill_HomePlanet_by_Destination(df):\n",
    "    # fill the NA HomePlanet values with Earth when Destination is TRAPPIST-1e and cabin_deck is not 'D'\n",
    "    df.loc[(df['Destination'] == 'TRAPPIST-1e') & (df['HomePlanet'].isna()) & (df['Cabin_deck'] != 'D'), 'HomePlanet'] = 'Earth'\n",
    "    df.loc[(df['Destination'] == 'TRAPPIST-1e') & (df['HomePlanet'].isna()) & (df['Cabin_deck'] == 'D'), 'HomePlanet'] = 'Mars'\n",
    "    \n",
    "fill_HomePlanet_by_Destination(abt_2)\n",
    "print(\"After - number of missing data in HomePlanet filled by Destination:\", len(abt_2[abt_2['HomePlanet'].isna()]))"
   ]
  },
  {
   "cell_type": "markdown",
   "id": "b19039a8",
   "metadata": {
    "papermill": {
     "duration": 0.046893,
     "end_time": "2023-11-10T07:03:49.493514",
     "exception": false,
     "start_time": "2023-11-10T07:03:49.446621",
     "status": "completed"
    },
    "tags": []
   },
   "source": [
    "### HomePlanet and Group"
   ]
  },
  {
   "cell_type": "code",
   "execution_count": 33,
   "id": "a746a011",
   "metadata": {
    "execution": {
     "iopub.execute_input": "2023-11-10T07:03:49.590395Z",
     "iopub.status.busy": "2023-11-10T07:03:49.589860Z",
     "iopub.status.idle": "2023-11-10T07:03:49.613155Z",
     "shell.execute_reply": "2023-11-10T07:03:49.611847Z"
    },
    "papermill": {
     "duration": 0.075091,
     "end_time": "2023-11-10T07:03:49.615838",
     "exception": false,
     "start_time": "2023-11-10T07:03:49.540747",
     "status": "completed"
    },
    "tags": []
   },
   "outputs": [
    {
     "name": "stdout",
     "output_type": "stream",
     "text": [
      "The total number of Groups with the Homeplanet is not missing: 6217\n",
      "Number of Goup with only one unique HomePlanet: 6216\n"
     ]
    }
   ],
   "source": [
    "GHP = abt_2.groupby('Group')['HomePlanet'].nunique().reset_index(name='UniqueHomePlanetCount')\n",
    "\n",
    "# count the number of Group with only one unique HomePlanet\n",
    "GHP_count = (GHP['UniqueHomePlanetCount'] == 1).sum()\n",
    "\n",
    "print(\"The total number of Groups with the Homeplanet is not missing:\", abt_2.loc[abt_2['HomePlanet'].notna(), 'Group'].nunique())\n",
    "print(\"Number of Goup with only one unique HomePlanet:\", GHP_count)"
   ]
  },
  {
   "cell_type": "code",
   "execution_count": 34,
   "id": "5338eac4",
   "metadata": {
    "execution": {
     "iopub.execute_input": "2023-11-10T07:03:49.713394Z",
     "iopub.status.busy": "2023-11-10T07:03:49.712716Z",
     "iopub.status.idle": "2023-11-10T07:03:53.359557Z",
     "shell.execute_reply": "2023-11-10T07:03:53.357976Z"
    },
    "papermill": {
     "duration": 3.69888,
     "end_time": "2023-11-10T07:03:53.362021",
     "exception": false,
     "start_time": "2023-11-10T07:03:49.663141",
     "status": "completed"
    },
    "tags": []
   },
   "outputs": [
    {
     "name": "stdout",
     "output_type": "stream",
     "text": [
      "Before - number of missing data in HomePlanet: 1\n",
      "After - number of missing data in HomePlanet filled by Group: 0\n"
     ]
    }
   ],
   "source": [
    "print(\"Before - number of missing data in HomePlanet:\", len(abt_2[abt_2['HomePlanet'].isna()]))\n",
    "def fill_HomePlanet_Group(df):\n",
    "    df['HomePlanet'] = df.groupby('Group')['HomePlanet'].transform(lambda x: x.fillna(x.mode()[0] if not x.mode().empty else np.nan))\n",
    "\n",
    "fill_HomePlanet_Group(abt_2)\n",
    "print(\"After - number of missing data in HomePlanet filled by Group:\", len(abt_2[abt_2['HomePlanet'].isna()]))"
   ]
  },
  {
   "cell_type": "markdown",
   "id": "a74d5571",
   "metadata": {
    "papermill": {
     "duration": 0.046464,
     "end_time": "2023-11-10T07:03:53.455248",
     "exception": false,
     "start_time": "2023-11-10T07:03:53.408784",
     "status": "completed"
    },
    "tags": []
   },
   "source": [
    "## Fill CrypoSleep"
   ]
  },
  {
   "cell_type": "markdown",
   "id": "f8330164",
   "metadata": {
    "papermill": {
     "duration": 0.046442,
     "end_time": "2023-11-10T07:03:53.548662",
     "exception": false,
     "start_time": "2023-11-10T07:03:53.502220",
     "status": "completed"
    },
    "tags": []
   },
   "source": [
    "### CrypoSleep and No_spending"
   ]
  },
  {
   "cell_type": "code",
   "execution_count": 35,
   "id": "3bec8df2",
   "metadata": {
    "execution": {
     "iopub.execute_input": "2023-11-10T07:03:53.645008Z",
     "iopub.status.busy": "2023-11-10T07:03:53.644605Z",
     "iopub.status.idle": "2023-11-10T07:03:53.939614Z",
     "shell.execute_reply": "2023-11-10T07:03:53.938417Z"
    },
    "papermill": {
     "duration": 0.346794,
     "end_time": "2023-11-10T07:03:53.942334",
     "exception": false,
     "start_time": "2023-11-10T07:03:53.595540",
     "status": "completed"
    },
    "tags": []
   },
   "outputs": [
    {
     "data": {
      "text/plain": [
       "Text(0.5, 1.0, 'CryoSleep and NoSpending')"
      ]
     },
     "execution_count": 35,
     "metadata": {},
     "output_type": "execute_result"
    },
    {
     "data": {
      "image/png": "[encoded data removed]",
      "text/plain": [
       "<Figure size 1000x1200 with 1 Axes>"
      ]
     },
     "metadata": {},
     "output_type": "display_data"
    }
   ],
   "source": [
    "fig=plt.figure(figsize=(10,12))\n",
    "plt.subplot(3,1,1)\n",
    "sns.countplot(data=abt_2, x='CryoSleep', hue='No_spending')\n",
    "plt.title('CryoSleep and NoSpending')"
   ]
  },
  {
   "cell_type": "code",
   "execution_count": 36,
   "id": "021404bb",
   "metadata": {
    "execution": {
     "iopub.execute_input": "2023-11-10T07:03:54.039870Z",
     "iopub.status.busy": "2023-11-10T07:03:54.039465Z",
     "iopub.status.idle": "2023-11-10T07:03:54.056065Z",
     "shell.execute_reply": "2023-11-10T07:03:54.054976Z"
    },
    "papermill": {
     "duration": 0.068553,
     "end_time": "2023-11-10T07:03:54.058468",
     "exception": false,
     "start_time": "2023-11-10T07:03:53.989915",
     "status": "completed"
    },
    "tags": []
   },
   "outputs": [
    {
     "name": "stdout",
     "output_type": "stream",
     "text": [
      "Before - number of missing data in CryoSleep: 217\n",
      "After - number of missing data in CryoSleep: 0\n"
     ]
    }
   ],
   "source": [
    "print(\"Before - number of missing data in CryoSleep:\", len(abt_2[abt_2['CryoSleep'].isna()]))\n",
    "def fill_CryoSleep_by_NoSpending(df):\n",
    "    # passengers who are no spending fill CryoSleep with True\n",
    "    df.loc[(df['No_spending'] == True) & (df['CryoSleep'].isna()), 'CryoSleep'] = True\n",
    "    # passengers who are spending fill CryoSleep with False\n",
    "    df.loc[(df['No_spending'] == False) & (df['CryoSleep'].isna()), 'CryoSleep'] = False\n",
    "\n",
    "fill_CryoSleep_by_NoSpending(abt_2)\n",
    "print(\"After - number of missing data in CryoSleep:\", len(abt_2[abt_2['CryoSleep'].isna()]))"
   ]
  },
  {
   "cell_type": "markdown",
   "id": "ab4bc0e6",
   "metadata": {
    "papermill": {
     "duration": 0.047672,
     "end_time": "2023-11-10T07:03:54.153896",
     "exception": false,
     "start_time": "2023-11-10T07:03:54.106224",
     "status": "completed"
    },
    "tags": []
   },
   "source": [
    "## Fill Destination"
   ]
  },
  {
   "cell_type": "code",
   "execution_count": 37,
   "id": "14681d24",
   "metadata": {
    "execution": {
     "iopub.execute_input": "2023-11-10T07:03:54.252537Z",
     "iopub.status.busy": "2023-11-10T07:03:54.252099Z",
     "iopub.status.idle": "2023-11-10T07:03:54.267549Z",
     "shell.execute_reply": "2023-11-10T07:03:54.265936Z"
    },
    "papermill": {
     "duration": 0.068091,
     "end_time": "2023-11-10T07:03:54.269874",
     "exception": false,
     "start_time": "2023-11-10T07:03:54.201783",
     "status": "completed"
    },
    "tags": []
   },
   "outputs": [
    {
     "name": "stdout",
     "output_type": "stream",
     "text": [
      "Before - number of missing data in Destination: 182\n",
      "After - number of missing data in Destination: 0\n"
     ]
    }
   ],
   "source": [
    "print(\"Before - number of missing data in Destination:\", len(abt_2[abt_2['Destination'].isna()]))\n",
    "def fill_Destination(df):\n",
    "    df['Destination'].fillna('TRAPPIST-1e', inplace=True)\n",
    "\n",
    "fill_Destination(abt_2)\n",
    "print(\"After - number of missing data in Destination:\", len(abt_2[abt_2['Destination'].isna()]))"
   ]
  },
  {
   "cell_type": "markdown",
   "id": "5a2f42f6",
   "metadata": {
    "papermill": {
     "duration": 0.047622,
     "end_time": "2023-11-10T07:03:54.365456",
     "exception": false,
     "start_time": "2023-11-10T07:03:54.317834",
     "status": "completed"
    },
    "tags": []
   },
   "source": [
    "## Fill LastName"
   ]
  },
  {
   "cell_type": "markdown",
   "id": "c92b612e",
   "metadata": {
    "papermill": {
     "duration": 0.047377,
     "end_time": "2023-11-10T07:03:54.460672",
     "exception": false,
     "start_time": "2023-11-10T07:03:54.413295",
     "status": "completed"
    },
    "tags": []
   },
   "source": [
    "### LastName and Group"
   ]
  },
  {
   "cell_type": "code",
   "execution_count": 38,
   "id": "455abc61",
   "metadata": {
    "execution": {
     "iopub.execute_input": "2023-11-10T07:03:54.558767Z",
     "iopub.status.busy": "2023-11-10T07:03:54.558301Z",
     "iopub.status.idle": "2023-11-10T07:03:54.578797Z",
     "shell.execute_reply": "2023-11-10T07:03:54.577519Z"
    },
    "papermill": {
     "duration": 0.072757,
     "end_time": "2023-11-10T07:03:54.581322",
     "exception": false,
     "start_time": "2023-11-10T07:03:54.508565",
     "status": "completed"
    },
    "tags": []
   },
   "outputs": [
    {
     "name": "stdout",
     "output_type": "stream",
     "text": [
      "Total number of group: 6217\n",
      "Number of Group with only one unique LastName: 5864\n"
     ]
    }
   ],
   "source": [
    "GLN = abt_2.groupby('Group')['LastName'].nunique().reset_index(name='GroupWithUniqueLastName')\n",
    "\n",
    "# count the number of Group with unique LastName\n",
    "GLN_count = (GLN['GroupWithUniqueLastName'] == 1).sum()\n",
    "\n",
    "print(\"Total number of group:\", len(abt_2['Group'].unique()))\n",
    "print(\"Number of Group with only one unique LastName:\", GLN_count)"
   ]
  },
  {
   "cell_type": "code",
   "execution_count": 39,
   "id": "6e9fb650",
   "metadata": {
    "execution": {
     "iopub.execute_input": "2023-11-10T07:03:54.679007Z",
     "iopub.status.busy": "2023-11-10T07:03:54.678620Z",
     "iopub.status.idle": "2023-11-10T07:03:54.692647Z",
     "shell.execute_reply": "2023-11-10T07:03:54.691314Z"
    },
    "papermill": {
     "duration": 0.066004,
     "end_time": "2023-11-10T07:03:54.694991",
     "exception": false,
     "start_time": "2023-11-10T07:03:54.628987",
     "status": "completed"
    },
    "tags": []
   },
   "outputs": [
    {
     "name": "stdout",
     "output_type": "stream",
     "text": [
      "Before - number of missing data in LastName: 200\n",
      "Before - number of missing data in LastName: 0\n"
     ]
    }
   ],
   "source": [
    "print(\"Before - number of missing data in LastName:\", len(abt_2[abt_2['LastName'].isna()]))\n",
    "def fill_LastName(df):\n",
    "    # fill missing data with ‘Missing’\n",
    "    df['LastName'].fillna('Missing', inplace=True)\n",
    "\n",
    "fill_LastName(abt_2)\n",
    "print(\"Before - number of missing data in LastName:\", len(abt_2[abt_2['LastName'].isna()]))"
   ]
  },
  {
   "cell_type": "markdown",
   "id": "22c6624c",
   "metadata": {
    "papermill": {
     "duration": 0.04849,
     "end_time": "2023-11-10T07:03:54.792019",
     "exception": false,
     "start_time": "2023-11-10T07:03:54.743529",
     "status": "completed"
    },
    "tags": []
   },
   "source": [
    "## Fill VIP"
   ]
  },
  {
   "cell_type": "markdown",
   "id": "6697aab0",
   "metadata": {
    "papermill": {
     "duration": 0.048178,
     "end_time": "2023-11-10T07:03:54.888303",
     "exception": false,
     "start_time": "2023-11-10T07:03:54.840125",
     "status": "completed"
    },
    "tags": []
   },
   "source": [
    "### VIP, HomePlanet, Destination and Age_group"
   ]
  },
  {
   "cell_type": "code",
   "execution_count": 40,
   "id": "f103eca6",
   "metadata": {
    "execution": {
     "iopub.execute_input": "2023-11-10T07:03:54.990949Z",
     "iopub.status.busy": "2023-11-10T07:03:54.990495Z",
     "iopub.status.idle": "2023-11-10T07:03:55.028225Z",
     "shell.execute_reply": "2023-11-10T07:03:55.027018Z"
    },
    "papermill": {
     "duration": 0.091334,
     "end_time": "2023-11-10T07:03:55.030813",
     "exception": false,
     "start_time": "2023-11-10T07:03:54.939479",
     "status": "completed"
    },
    "tags": []
   },
   "outputs": [
    {
     "data": {
      "text/html": [
       "<div>\n",
       "<style scoped>\n",
       "    .dataframe tbody tr th:only-of-type {\n",
       "        vertical-align: middle;\n",
       "    }\n",
       "\n",
       "    .dataframe tbody tr th {\n",
       "        vertical-align: top;\n",
       "    }\n",
       "\n",
       "    .dataframe thead th {\n",
       "        text-align: right;\n",
       "    }\n",
       "</style>\n",
       "<table border=\"1\" class=\"dataframe\">\n",
       "  <thead>\n",
       "    <tr style=\"text-align: right;\">\n",
       "      <th></th>\n",
       "      <th></th>\n",
       "      <th>VIP</th>\n",
       "      <th>False</th>\n",
       "      <th>True</th>\n",
       "    </tr>\n",
       "    <tr>\n",
       "      <th>HomePlanet</th>\n",
       "      <th>Age_group</th>\n",
       "      <th>Destination</th>\n",
       "      <th></th>\n",
       "      <th></th>\n",
       "    </tr>\n",
       "  </thead>\n",
       "  <tbody>\n",
       "    <tr>\n",
       "      <th rowspan=\"18\" valign=\"top\">Earth</th>\n",
       "      <th rowspan=\"3\" valign=\"top\">adults 26-40</th>\n",
       "      <th>55 Cancri e</th>\n",
       "      <td>150.0</td>\n",
       "      <td>0.0</td>\n",
       "    </tr>\n",
       "    <tr>\n",
       "      <th>PSO J318.5-22</th>\n",
       "      <td>177.0</td>\n",
       "      <td>0.0</td>\n",
       "    </tr>\n",
       "    <tr>\n",
       "      <th>TRAPPIST-1e</th>\n",
       "      <td>863.0</td>\n",
       "      <td>0.0</td>\n",
       "    </tr>\n",
       "    <tr>\n",
       "      <th rowspan=\"3\" valign=\"top\">children 0-12</th>\n",
       "      <th>55 Cancri e</th>\n",
       "      <td>131.0</td>\n",
       "      <td>0.0</td>\n",
       "    </tr>\n",
       "    <tr>\n",
       "      <th>PSO J318.5-22</th>\n",
       "      <td>54.0</td>\n",
       "      <td>0.0</td>\n",
       "    </tr>\n",
       "    <tr>\n",
       "      <th>TRAPPIST-1e</th>\n",
       "      <td>383.0</td>\n",
       "      <td>0.0</td>\n",
       "    </tr>\n",
       "    <tr>\n",
       "      <th rowspan=\"3\" valign=\"top\">eldery &gt; 65</th>\n",
       "      <th>55 Cancri e</th>\n",
       "      <td>11.0</td>\n",
       "      <td>0.0</td>\n",
       "    </tr>\n",
       "    <tr>\n",
       "      <th>PSO J318.5-22</th>\n",
       "      <td>16.0</td>\n",
       "      <td>0.0</td>\n",
       "    </tr>\n",
       "    <tr>\n",
       "      <th>TRAPPIST-1e</th>\n",
       "      <td>91.0</td>\n",
       "      <td>0.0</td>\n",
       "    </tr>\n",
       "    <tr>\n",
       "      <th rowspan=\"3\" valign=\"top\">middle_age 41-65</th>\n",
       "      <th>55 Cancri e</th>\n",
       "      <td>86.0</td>\n",
       "      <td>0.0</td>\n",
       "    </tr>\n",
       "    <tr>\n",
       "      <th>PSO J318.5-22</th>\n",
       "      <td>106.0</td>\n",
       "      <td>0.0</td>\n",
       "    </tr>\n",
       "    <tr>\n",
       "      <th>TRAPPIST-1e</th>\n",
       "      <td>501.0</td>\n",
       "      <td>0.0</td>\n",
       "    </tr>\n",
       "    <tr>\n",
       "      <th rowspan=\"3\" valign=\"top\">teenagers 13-18</th>\n",
       "      <th>55 Cancri e</th>\n",
       "      <td>124.0</td>\n",
       "      <td>0.0</td>\n",
       "    </tr>\n",
       "    <tr>\n",
       "      <th>PSO J318.5-22</th>\n",
       "      <td>129.0</td>\n",
       "      <td>0.0</td>\n",
       "    </tr>\n",
       "    <tr>\n",
       "      <th>TRAPPIST-1e</th>\n",
       "      <td>449.0</td>\n",
       "      <td>0.0</td>\n",
       "    </tr>\n",
       "    <tr>\n",
       "      <th rowspan=\"3\" valign=\"top\">young_adults 19-25</th>\n",
       "      <th>55 Cancri e</th>\n",
       "      <td>176.0</td>\n",
       "      <td>0.0</td>\n",
       "    </tr>\n",
       "    <tr>\n",
       "      <th>PSO J318.5-22</th>\n",
       "      <td>224.0</td>\n",
       "      <td>0.0</td>\n",
       "    </tr>\n",
       "    <tr>\n",
       "      <th>TRAPPIST-1e</th>\n",
       "      <td>927.0</td>\n",
       "      <td>0.0</td>\n",
       "    </tr>\n",
       "    <tr>\n",
       "      <th rowspan=\"15\" valign=\"top\">Europa</th>\n",
       "      <th rowspan=\"3\" valign=\"top\">adults 26-40</th>\n",
       "      <th>55 Cancri e</th>\n",
       "      <td>372.0</td>\n",
       "      <td>40.0</td>\n",
       "    </tr>\n",
       "    <tr>\n",
       "      <th>PSO J318.5-22</th>\n",
       "      <td>8.0</td>\n",
       "      <td>6.0</td>\n",
       "    </tr>\n",
       "    <tr>\n",
       "      <th>TRAPPIST-1e</th>\n",
       "      <td>549.0</td>\n",
       "      <td>36.0</td>\n",
       "    </tr>\n",
       "    <tr>\n",
       "      <th rowspan=\"2\" valign=\"top\">children 0-12</th>\n",
       "      <th>55 Cancri e</th>\n",
       "      <td>9.0</td>\n",
       "      <td>0.0</td>\n",
       "    </tr>\n",
       "    <tr>\n",
       "      <th>TRAPPIST-1e</th>\n",
       "      <td>34.0</td>\n",
       "      <td>0.0</td>\n",
       "    </tr>\n",
       "    <tr>\n",
       "      <th rowspan=\"2\" valign=\"top\">eldery &gt; 65</th>\n",
       "      <th>55 Cancri e</th>\n",
       "      <td>32.0</td>\n",
       "      <td>1.0</td>\n",
       "    </tr>\n",
       "    <tr>\n",
       "      <th>TRAPPIST-1e</th>\n",
       "      <td>39.0</td>\n",
       "      <td>3.0</td>\n",
       "    </tr>\n",
       "    <tr>\n",
       "      <th rowspan=\"3\" valign=\"top\">middle_age 41-65</th>\n",
       "      <th>55 Cancri e</th>\n",
       "      <td>215.0</td>\n",
       "      <td>23.0</td>\n",
       "    </tr>\n",
       "    <tr>\n",
       "      <th>PSO J318.5-22</th>\n",
       "      <td>1.0</td>\n",
       "      <td>3.0</td>\n",
       "    </tr>\n",
       "    <tr>\n",
       "      <th>TRAPPIST-1e</th>\n",
       "      <td>316.0</td>\n",
       "      <td>15.0</td>\n",
       "    </tr>\n",
       "    <tr>\n",
       "      <th rowspan=\"2\" valign=\"top\">teenagers 13-18</th>\n",
       "      <th>55 Cancri e</th>\n",
       "      <td>65.0</td>\n",
       "      <td>0.0</td>\n",
       "    </tr>\n",
       "    <tr>\n",
       "      <th>TRAPPIST-1e</th>\n",
       "      <td>91.0</td>\n",
       "      <td>0.0</td>\n",
       "    </tr>\n",
       "    <tr>\n",
       "      <th rowspan=\"3\" valign=\"top\">young_adults 19-25</th>\n",
       "      <th>55 Cancri e</th>\n",
       "      <td>130.0</td>\n",
       "      <td>1.0</td>\n",
       "    </tr>\n",
       "    <tr>\n",
       "      <th>PSO J318.5-22</th>\n",
       "      <td>0.0</td>\n",
       "      <td>1.0</td>\n",
       "    </tr>\n",
       "    <tr>\n",
       "      <th>TRAPPIST-1e</th>\n",
       "      <td>138.0</td>\n",
       "      <td>4.0</td>\n",
       "    </tr>\n",
       "    <tr>\n",
       "      <th rowspan=\"17\" valign=\"top\">Mars</th>\n",
       "      <th rowspan=\"3\" valign=\"top\">adults 26-40</th>\n",
       "      <th>55 Cancri e</th>\n",
       "      <td>54.0</td>\n",
       "      <td>0.0</td>\n",
       "    </tr>\n",
       "    <tr>\n",
       "      <th>PSO J318.5-22</th>\n",
       "      <td>20.0</td>\n",
       "      <td>7.0</td>\n",
       "    </tr>\n",
       "    <tr>\n",
       "      <th>TRAPPIST-1e</th>\n",
       "      <td>513.0</td>\n",
       "      <td>34.0</td>\n",
       "    </tr>\n",
       "    <tr>\n",
       "      <th rowspan=\"2\" valign=\"top\">children 0-12</th>\n",
       "      <th>55 Cancri e</th>\n",
       "      <td>22.0</td>\n",
       "      <td>0.0</td>\n",
       "    </tr>\n",
       "    <tr>\n",
       "      <th>TRAPPIST-1e</th>\n",
       "      <td>149.0</td>\n",
       "      <td>0.0</td>\n",
       "    </tr>\n",
       "    <tr>\n",
       "      <th rowspan=\"3\" valign=\"top\">eldery &gt; 65</th>\n",
       "      <th>55 Cancri e</th>\n",
       "      <td>6.0</td>\n",
       "      <td>0.0</td>\n",
       "    </tr>\n",
       "    <tr>\n",
       "      <th>PSO J318.5-22</th>\n",
       "      <td>3.0</td>\n",
       "      <td>0.0</td>\n",
       "    </tr>\n",
       "    <tr>\n",
       "      <th>TRAPPIST-1e</th>\n",
       "      <td>52.0</td>\n",
       "      <td>3.0</td>\n",
       "    </tr>\n",
       "    <tr>\n",
       "      <th rowspan=\"3\" valign=\"top\">middle_age 41-65</th>\n",
       "      <th>55 Cancri e</th>\n",
       "      <td>31.0</td>\n",
       "      <td>0.0</td>\n",
       "    </tr>\n",
       "    <tr>\n",
       "      <th>PSO J318.5-22</th>\n",
       "      <td>11.0</td>\n",
       "      <td>0.0</td>\n",
       "    </tr>\n",
       "    <tr>\n",
       "      <th>TRAPPIST-1e</th>\n",
       "      <td>285.0</td>\n",
       "      <td>15.0</td>\n",
       "    </tr>\n",
       "    <tr>\n",
       "      <th rowspan=\"3\" valign=\"top\">teenagers 13-18</th>\n",
       "      <th>55 Cancri e</th>\n",
       "      <td>22.0</td>\n",
       "      <td>0.0</td>\n",
       "    </tr>\n",
       "    <tr>\n",
       "      <th>PSO J318.5-22</th>\n",
       "      <td>3.0</td>\n",
       "      <td>0.0</td>\n",
       "    </tr>\n",
       "    <tr>\n",
       "      <th>TRAPPIST-1e</th>\n",
       "      <td>148.0</td>\n",
       "      <td>1.0</td>\n",
       "    </tr>\n",
       "    <tr>\n",
       "      <th rowspan=\"3\" valign=\"top\">young_adults 19-25</th>\n",
       "      <th>55 Cancri e</th>\n",
       "      <td>56.0</td>\n",
       "      <td>0.0</td>\n",
       "    </tr>\n",
       "    <tr>\n",
       "      <th>PSO J318.5-22</th>\n",
       "      <td>4.0</td>\n",
       "      <td>1.0</td>\n",
       "    </tr>\n",
       "    <tr>\n",
       "      <th>TRAPPIST-1e</th>\n",
       "      <td>315.0</td>\n",
       "      <td>5.0</td>\n",
       "    </tr>\n",
       "  </tbody>\n",
       "</table>\n",
       "</div>"
      ],
      "text/plain": [
       "VIP                                          False  True \n",
       "HomePlanet Age_group          Destination                \n",
       "Earth      adults 26-40       55 Cancri e    150.0    0.0\n",
       "                              PSO J318.5-22  177.0    0.0\n",
       "                              TRAPPIST-1e    863.0    0.0\n",
       "           children 0-12      55 Cancri e    131.0    0.0\n",
       "                              PSO J318.5-22   54.0    0.0\n",
       "                              TRAPPIST-1e    383.0    0.0\n",
       "           eldery > 65        55 Cancri e     11.0    0.0\n",
       "                              PSO J318.5-22   16.0    0.0\n",
       "                              TRAPPIST-1e     91.0    0.0\n",
       "           middle_age 41-65   55 Cancri e     86.0    0.0\n",
       "                              PSO J318.5-22  106.0    0.0\n",
       "                              TRAPPIST-1e    501.0    0.0\n",
       "           teenagers 13-18    55 Cancri e    124.0    0.0\n",
       "                              PSO J318.5-22  129.0    0.0\n",
       "                              TRAPPIST-1e    449.0    0.0\n",
       "           young_adults 19-25 55 Cancri e    176.0    0.0\n",
       "                              PSO J318.5-22  224.0    0.0\n",
       "                              TRAPPIST-1e    927.0    0.0\n",
       "Europa     adults 26-40       55 Cancri e    372.0   40.0\n",
       "                              PSO J318.5-22    8.0    6.0\n",
       "                              TRAPPIST-1e    549.0   36.0\n",
       "           children 0-12      55 Cancri e      9.0    0.0\n",
       "                              TRAPPIST-1e     34.0    0.0\n",
       "           eldery > 65        55 Cancri e     32.0    1.0\n",
       "                              TRAPPIST-1e     39.0    3.0\n",
       "           middle_age 41-65   55 Cancri e    215.0   23.0\n",
       "                              PSO J318.5-22    1.0    3.0\n",
       "                              TRAPPIST-1e    316.0   15.0\n",
       "           teenagers 13-18    55 Cancri e     65.0    0.0\n",
       "                              TRAPPIST-1e     91.0    0.0\n",
       "           young_adults 19-25 55 Cancri e    130.0    1.0\n",
       "                              PSO J318.5-22    0.0    1.0\n",
       "                              TRAPPIST-1e    138.0    4.0\n",
       "Mars       adults 26-40       55 Cancri e     54.0    0.0\n",
       "                              PSO J318.5-22   20.0    7.0\n",
       "                              TRAPPIST-1e    513.0   34.0\n",
       "           children 0-12      55 Cancri e     22.0    0.0\n",
       "                              TRAPPIST-1e    149.0    0.0\n",
       "           eldery > 65        55 Cancri e      6.0    0.0\n",
       "                              PSO J318.5-22    3.0    0.0\n",
       "                              TRAPPIST-1e     52.0    3.0\n",
       "           middle_age 41-65   55 Cancri e     31.0    0.0\n",
       "                              PSO J318.5-22   11.0    0.0\n",
       "                              TRAPPIST-1e    285.0   15.0\n",
       "           teenagers 13-18    55 Cancri e     22.0    0.0\n",
       "                              PSO J318.5-22    3.0    0.0\n",
       "                              TRAPPIST-1e    148.0    1.0\n",
       "           young_adults 19-25 55 Cancri e     56.0    0.0\n",
       "                              PSO J318.5-22    4.0    1.0\n",
       "                              TRAPPIST-1e    315.0    5.0"
      ]
     },
     "execution_count": 40,
     "metadata": {},
     "output_type": "execute_result"
    }
   ],
   "source": [
    "abt_2.groupby(['HomePlanet', 'Age_group', 'Destination', 'VIP'])['VIP'].size().unstack().fillna(0)"
   ]
  },
  {
   "cell_type": "code",
   "execution_count": 41,
   "id": "546c0f29",
   "metadata": {
    "execution": {
     "iopub.execute_input": "2023-11-10T07:03:55.131091Z",
     "iopub.status.busy": "2023-11-10T07:03:55.130280Z",
     "iopub.status.idle": "2023-11-10T07:03:55.155835Z",
     "shell.execute_reply": "2023-11-10T07:03:55.154425Z"
    },
    "papermill": {
     "duration": 0.078953,
     "end_time": "2023-11-10T07:03:55.158460",
     "exception": false,
     "start_time": "2023-11-10T07:03:55.079507",
     "status": "completed"
    },
    "tags": []
   },
   "outputs": [
    {
     "name": "stdout",
     "output_type": "stream",
     "text": [
      "Before - number of missing data in VIP: 203\n",
      "After - number of missing data in VIP: 71\n"
     ]
    }
   ],
   "source": [
    "print(\"Before - number of missing data in VIP:\", len(abt_2[abt_2['VIP'].isna()]))\n",
    "def fill_VIP_with_Age_and_Destination(df):\n",
    "    df.loc[(df['VIP'].isna() & (df['Age'] <= 18)), 'VIP'] = False\n",
    "    # fill False to passengers from Earth\n",
    "    df.loc[(df['VIP'].isna() & (df['HomePlanet'] == 'Earth')), 'VIP'] = False\n",
    "    # fill False to passengers from Mars and Destination is 55 Cancri e\n",
    "    df.loc[(df['VIP'].isna() & (df['HomePlanet'] == 'Mars') & (df['Destination'] == '55 Cancri e')), 'VIP'] = False\n",
    "\n",
    "fill_VIP_with_Age_and_Destination(abt_2)\n",
    "print(\"After - number of missing data in VIP:\", len(abt_2[abt_2['VIP'].isna()]))"
   ]
  },
  {
   "cell_type": "markdown",
   "id": "c930eb73",
   "metadata": {
    "papermill": {
     "duration": 0.049353,
     "end_time": "2023-11-10T07:03:55.256915",
     "exception": false,
     "start_time": "2023-11-10T07:03:55.207562",
     "status": "completed"
    },
    "tags": []
   },
   "source": [
    "### Remaining missing VIP"
   ]
  },
  {
   "cell_type": "code",
   "execution_count": 42,
   "id": "e4dbcff5",
   "metadata": {
    "execution": {
     "iopub.execute_input": "2023-11-10T07:03:55.358182Z",
     "iopub.status.busy": "2023-11-10T07:03:55.357383Z",
     "iopub.status.idle": "2023-11-10T07:03:55.370449Z",
     "shell.execute_reply": "2023-11-10T07:03:55.369111Z"
    },
    "papermill": {
     "duration": 0.066669,
     "end_time": "2023-11-10T07:03:55.372842",
     "exception": false,
     "start_time": "2023-11-10T07:03:55.306173",
     "status": "completed"
    },
    "tags": []
   },
   "outputs": [
    {
     "name": "stdout",
     "output_type": "stream",
     "text": [
      "Before - number of missing data in VIP: 71\n",
      "After - number of missing data in VIP: 0\n"
     ]
    }
   ],
   "source": [
    "print(\"Before - number of missing data in VIP:\", len(abt_2[abt_2['VIP'].isna()]))\n",
    "def fill_VIP_missing(df):\n",
    "    df['VIP'].fillna(False, inplace=True)\n",
    "\n",
    "fill_VIP_missing(abt_2)\n",
    "print(\"After - number of missing data in VIP:\", len(abt_2[abt_2['VIP'].isna()]))"
   ]
  },
  {
   "cell_type": "markdown",
   "id": "46b56ef7",
   "metadata": {
    "papermill": {
     "duration": 0.048191,
     "end_time": "2023-11-10T07:03:55.470163",
     "exception": false,
     "start_time": "2023-11-10T07:03:55.421972",
     "status": "completed"
    },
    "tags": []
   },
   "source": [
    "## Fill Cabin_side"
   ]
  },
  {
   "cell_type": "markdown",
   "id": "aaf151be",
   "metadata": {
    "papermill": {
     "duration": 0.048373,
     "end_time": "2023-11-10T07:03:55.567251",
     "exception": false,
     "start_time": "2023-11-10T07:03:55.518878",
     "status": "completed"
    },
    "tags": []
   },
   "source": [
    "### Cabin_side and Group"
   ]
  },
  {
   "cell_type": "code",
   "execution_count": 43,
   "id": "8dba5143",
   "metadata": {
    "execution": {
     "iopub.execute_input": "2023-11-10T07:03:55.667443Z",
     "iopub.status.busy": "2023-11-10T07:03:55.666800Z",
     "iopub.status.idle": "2023-11-10T07:03:55.688688Z",
     "shell.execute_reply": "2023-11-10T07:03:55.687197Z"
    },
    "papermill": {
     "duration": 0.075078,
     "end_time": "2023-11-10T07:03:55.691278",
     "exception": false,
     "start_time": "2023-11-10T07:03:55.616200",
     "status": "completed"
    },
    "tags": []
   },
   "outputs": [
    {
     "name": "stdout",
     "output_type": "stream",
     "text": [
      "The total number of Group with the Cabin_side is not missing: 6118\n",
      "Number of the same last name with the same Cabin_side: 6118\n"
     ]
    }
   ],
   "source": [
    "GCS = abt_2.groupby('Group')['Cabin_side'].nunique().reset_index(name='UniqueCabin_side')\n",
    "\n",
    "# Count the number of Group with only one unique Cabin_side\n",
    "GCS_count = (GCS['UniqueCabin_side'] == 1).sum()\n",
    "\n",
    "print(\"The total number of Group with the Cabin_side is not missing:\", abt_2.loc[abt_2['Cabin_side'].notna(), 'Group'].nunique())\n",
    "print(\"Number of the same last name with the same Cabin_side:\", GCS_count)"
   ]
  },
  {
   "cell_type": "code",
   "execution_count": 44,
   "id": "46b93dab",
   "metadata": {
    "execution": {
     "iopub.execute_input": "2023-11-10T07:03:55.792857Z",
     "iopub.status.busy": "2023-11-10T07:03:55.791835Z",
     "iopub.status.idle": "2023-11-10T07:03:59.498382Z",
     "shell.execute_reply": "2023-11-10T07:03:59.497111Z"
    },
    "papermill": {
     "duration": 3.760236,
     "end_time": "2023-11-10T07:03:59.501243",
     "exception": false,
     "start_time": "2023-11-10T07:03:55.741007",
     "status": "completed"
    },
    "tags": []
   },
   "outputs": [
    {
     "name": "stdout",
     "output_type": "stream",
     "text": [
      "Before - number of missing data in Cabin_side: 199\n",
      "After - number of missing data in Cabin_side filled by Group: 99\n"
     ]
    }
   ],
   "source": [
    "print(\"Before - number of missing data in Cabin_side:\", len(abt_2[abt_2['Cabin_side'].isna()]))\n",
    "def fill_Cabin_side_Group(df):\n",
    "    df['Cabin_side'] = df.groupby('Group')['Cabin_side'].transform(lambda x: x.fillna(x.mode()[0] if not x.mode().empty else np.nan))\n",
    "\n",
    "fill_Cabin_side_Group(abt_2)\n",
    "print(\"After - number of missing data in Cabin_side filled by Group:\", len(abt_2[abt_2['Cabin_side'].isna()]))"
   ]
  },
  {
   "cell_type": "markdown",
   "id": "71656f7c",
   "metadata": {
    "papermill": {
     "duration": 0.049581,
     "end_time": "2023-11-10T07:03:59.600019",
     "exception": false,
     "start_time": "2023-11-10T07:03:59.550438",
     "status": "completed"
    },
    "tags": []
   },
   "source": [
    "### Remaining missing Cabin_side"
   ]
  },
  {
   "cell_type": "code",
   "execution_count": 45,
   "id": "a495a103",
   "metadata": {
    "execution": {
     "iopub.execute_input": "2023-11-10T07:03:59.702536Z",
     "iopub.status.busy": "2023-11-10T07:03:59.701361Z",
     "iopub.status.idle": "2023-11-10T07:03:59.723435Z",
     "shell.execute_reply": "2023-11-10T07:03:59.720805Z"
    },
    "papermill": {
     "duration": 0.077184,
     "end_time": "2023-11-10T07:03:59.726862",
     "exception": false,
     "start_time": "2023-11-10T07:03:59.649678",
     "status": "completed"
    },
    "tags": []
   },
   "outputs": [
    {
     "name": "stdout",
     "output_type": "stream",
     "text": [
      "Before - number of missing data in Cabin_side: 99\n",
      "After - number of missing data in Cabin_side: 0\n"
     ]
    }
   ],
   "source": [
    "print(\"Before - number of missing data in Cabin_side:\", len(abt_2[abt_2['Cabin_side'].isna()]))\n",
    "def fill_Cabin_side_missing(df):\n",
    "    df['Cabin_side'] = df['Cabin_side'].fillna(pd.Series(np.random.choice(['P', 'S'], size=len(df), p=[0.5, 0.5])))\n",
    "    \n",
    "fill_Cabin_side_missing(abt_2)\n",
    "print(\"After - number of missing data in Cabin_side:\", len(abt_2[abt_2['Cabin_side'].isna()]))"
   ]
  },
  {
   "cell_type": "markdown",
   "id": "8ba42f78",
   "metadata": {
    "papermill": {
     "duration": 0.050749,
     "end_time": "2023-11-10T07:03:59.831129",
     "exception": false,
     "start_time": "2023-11-10T07:03:59.780380",
     "status": "completed"
    },
    "tags": []
   },
   "source": [
    "## Fill Cabin_deck"
   ]
  },
  {
   "cell_type": "markdown",
   "id": "bc124425",
   "metadata": {
    "papermill": {
     "duration": 0.049846,
     "end_time": "2023-11-10T07:03:59.930849",
     "exception": false,
     "start_time": "2023-11-10T07:03:59.881003",
     "status": "completed"
    },
    "tags": []
   },
   "source": [
    "### Cabin_deck and HomePlanet"
   ]
  },
  {
   "cell_type": "code",
   "execution_count": 46,
   "id": "129432c5",
   "metadata": {
    "execution": {
     "iopub.execute_input": "2023-11-10T07:04:00.034256Z",
     "iopub.status.busy": "2023-11-10T07:04:00.033817Z",
     "iopub.status.idle": "2023-11-10T07:04:00.499525Z",
     "shell.execute_reply": "2023-11-10T07:04:00.497912Z"
    },
    "papermill": {
     "duration": 0.522037,
     "end_time": "2023-11-10T07:04:00.502938",
     "exception": false,
     "start_time": "2023-11-10T07:03:59.980901",
     "status": "completed"
    },
    "tags": []
   },
   "outputs": [
    {
     "data": {
      "text/plain": [
       "Text(0.5, 1.0, 'Cabin deck and HomePlanet')"
      ]
     },
     "execution_count": 46,
     "metadata": {},
     "output_type": "execute_result"
    },
    {
     "data": {
      "image/png": "[encoded data removed]",
      "text/plain": [
       "<Figure size 1000x1200 with 1 Axes>"
      ]
     },
     "metadata": {},
     "output_type": "display_data"
    }
   ],
   "source": [
    "# categories in 'Cabin_deck'\n",
    "cabin_deck_cat = abt_2['Cabin_deck'].loc[abt_2['Cabin_deck'].notna()].unique()\n",
    "# 'Cabin_deck' distribution\n",
    "fig=plt.figure(figsize=(10,12))\n",
    "plt.subplot(3,1,1)\n",
    "sns.countplot(data=abt_2, x='Cabin_deck', hue='HomePlanet', order=sorted(cabin_deck_cat))\n",
    "plt.title('Cabin deck and HomePlanet')"
   ]
  },
  {
   "cell_type": "code",
   "execution_count": 47,
   "id": "fe64b6f5",
   "metadata": {
    "execution": {
     "iopub.execute_input": "2023-11-10T07:04:00.608851Z",
     "iopub.status.busy": "2023-11-10T07:04:00.607612Z",
     "iopub.status.idle": "2023-11-10T07:04:00.629400Z",
     "shell.execute_reply": "2023-11-10T07:04:00.627969Z"
    },
    "papermill": {
     "duration": 0.077667,
     "end_time": "2023-11-10T07:04:00.632840",
     "exception": false,
     "start_time": "2023-11-10T07:04:00.555173",
     "status": "completed"
    },
    "tags": []
   },
   "outputs": [
    {
     "name": "stdout",
     "output_type": "stream",
     "text": [
      "Before - number of missing data in HomePlanet:  199\n",
      "After - number of missing data in Cabin_deck filled by HomePlanet: 62\n"
     ]
    }
   ],
   "source": [
    "print(\"Before - number of missing data in HomePlanet: \", len(abt_2[abt_2['Cabin_deck'].isna()]))\n",
    "\n",
    "def fill_Cabin_deck_by_HomePlanet(df):\n",
    "    # HomePlanet is Earth fill 'G'\n",
    "    df.loc[(df['Cabin_deck'].isna()) & (df['HomePlanet'] == 'Earth'), 'Cabin_deck'] = 'G'\n",
    "    # HomePlanet is Earth fill 'G'\n",
    "    df.loc[(df['Cabin_deck'].isna()) & (df['HomePlanet'] == 'Mars'), 'Cabin_deck'] = 'F'\n",
    "        \n",
    "fill_Cabin_deck_by_HomePlanet(abt_2)\n",
    "print(\"After - number of missing data in Cabin_deck filled by HomePlanet:\", len(abt_2[abt_2['Cabin_deck'].isna()]))"
   ]
  },
  {
   "cell_type": "markdown",
   "id": "45f63125",
   "metadata": {
    "papermill": {
     "duration": 0.051635,
     "end_time": "2023-11-10T07:04:00.734869",
     "exception": false,
     "start_time": "2023-11-10T07:04:00.683234",
     "status": "completed"
    },
    "tags": []
   },
   "source": [
    "### Remaining missing Cabin_deck"
   ]
  },
  {
   "cell_type": "code",
   "execution_count": 48,
   "id": "7d60282f",
   "metadata": {
    "execution": {
     "iopub.execute_input": "2023-11-10T07:04:00.837530Z",
     "iopub.status.busy": "2023-11-10T07:04:00.837084Z",
     "iopub.status.idle": "2023-11-10T07:04:00.851688Z",
     "shell.execute_reply": "2023-11-10T07:04:00.850412Z"
    },
    "papermill": {
     "duration": 0.069263,
     "end_time": "2023-11-10T07:04:00.854126",
     "exception": false,
     "start_time": "2023-11-10T07:04:00.784863",
     "status": "completed"
    },
    "tags": []
   },
   "outputs": [
    {
     "name": "stdout",
     "output_type": "stream",
     "text": [
      "Before - number of missing data in Cabin_deck: 62\n",
      "After - number of missing data in Cabin_deck: 0\n"
     ]
    }
   ],
   "source": [
    "print(\"Before - number of missing data in Cabin_deck:\", len(abt_2[abt_2['Cabin_deck'].isna()]))\n",
    "def fill_Cabin_deck_missing(df):\n",
    "    df['Cabin_deck'].fillna('Missing', inplace=True)\n",
    "    \n",
    "fill_Cabin_deck_missing(abt_2)\n",
    "print(\"After - number of missing data in Cabin_deck:\", len(abt_2[abt_2['Cabin_deck'].isna()]))"
   ]
  },
  {
   "cell_type": "markdown",
   "id": "f9870d39",
   "metadata": {
    "papermill": {
     "duration": 0.04946,
     "end_time": "2023-11-10T07:04:00.953299",
     "exception": false,
     "start_time": "2023-11-10T07:04:00.903839",
     "status": "completed"
    },
    "tags": []
   },
   "source": [
    "## Fill Cabin_num"
   ]
  },
  {
   "cell_type": "code",
   "execution_count": 49,
   "id": "7b9b04f8",
   "metadata": {
    "execution": {
     "iopub.execute_input": "2023-11-10T07:04:01.054908Z",
     "iopub.status.busy": "2023-11-10T07:04:01.054454Z",
     "iopub.status.idle": "2023-11-10T07:04:01.069898Z",
     "shell.execute_reply": "2023-11-10T07:04:01.068852Z"
    },
    "papermill": {
     "duration": 0.069804,
     "end_time": "2023-11-10T07:04:01.072761",
     "exception": false,
     "start_time": "2023-11-10T07:04:01.002957",
     "status": "completed"
    },
    "tags": []
   },
   "outputs": [
    {
     "name": "stdout",
     "output_type": "stream",
     "text": [
      "Number of unique Cabin_num: 1817\n",
      "Before - number of missing data in Cabin_num: 199\n",
      "After - number of missing data in Cabin_num: 0\n"
     ]
    }
   ],
   "source": [
    "print('Number of unique Cabin_num:', abt_2['Cabin_num'].nunique())\n",
    "print(\"Before - number of missing data in Cabin_num:\", len(abt_2[abt_2['Cabin_num'].isna()]))\n",
    "def fill_Cabin_num_missing(df):\n",
    "    df['Cabin_num'].fillna('Missing', inplace=True)\n",
    "\n",
    "fill_Cabin_num_missing(abt_2)\n",
    "print(\"After - number of missing data in Cabin_num:\", len(abt_2[abt_2['Cabin_num'].isna()]))"
   ]
  },
  {
   "cell_type": "markdown",
   "id": "37dfcf11",
   "metadata": {
    "papermill": {
     "duration": 0.049618,
     "end_time": "2023-11-10T07:04:01.172253",
     "exception": false,
     "start_time": "2023-11-10T07:04:01.122635",
     "status": "completed"
    },
    "tags": []
   },
   "source": [
    "## Fill Age"
   ]
  },
  {
   "cell_type": "markdown",
   "id": "3189e008",
   "metadata": {
    "papermill": {
     "duration": 0.049926,
     "end_time": "2023-11-10T07:04:01.271782",
     "exception": false,
     "start_time": "2023-11-10T07:04:01.221856",
     "status": "completed"
    },
    "tags": []
   },
   "source": [
    "### Age, No_spending and VIP"
   ]
  },
  {
   "cell_type": "code",
   "execution_count": 50,
   "id": "f3974905",
   "metadata": {
    "execution": {
     "iopub.execute_input": "2023-11-10T07:04:01.374146Z",
     "iopub.status.busy": "2023-11-10T07:04:01.373686Z",
     "iopub.status.idle": "2023-11-10T07:04:01.393503Z",
     "shell.execute_reply": "2023-11-10T07:04:01.392442Z"
    },
    "papermill": {
     "duration": 0.074754,
     "end_time": "2023-11-10T07:04:01.396826",
     "exception": false,
     "start_time": "2023-11-10T07:04:01.322072",
     "status": "completed"
    },
    "tags": []
   },
   "outputs": [
    {
     "data": {
      "text/html": [
       "<div>\n",
       "<style scoped>\n",
       "    .dataframe tbody tr th:only-of-type {\n",
       "        vertical-align: middle;\n",
       "    }\n",
       "\n",
       "    .dataframe tbody tr th {\n",
       "        vertical-align: top;\n",
       "    }\n",
       "\n",
       "    .dataframe thead th {\n",
       "        text-align: right;\n",
       "    }\n",
       "</style>\n",
       "<table border=\"1\" class=\"dataframe\">\n",
       "  <thead>\n",
       "    <tr style=\"text-align: right;\">\n",
       "      <th></th>\n",
       "      <th>VIP</th>\n",
       "      <th>False</th>\n",
       "      <th>True</th>\n",
       "    </tr>\n",
       "    <tr>\n",
       "      <th>Age_group</th>\n",
       "      <th>No_spending</th>\n",
       "      <th></th>\n",
       "      <th></th>\n",
       "    </tr>\n",
       "  </thead>\n",
       "  <tbody>\n",
       "    <tr>\n",
       "      <th rowspan=\"2\" valign=\"top\">adults 26-40</th>\n",
       "      <th>False</th>\n",
       "      <td>1772.0</td>\n",
       "      <td>104.0</td>\n",
       "    </tr>\n",
       "    <tr>\n",
       "      <th>True</th>\n",
       "      <td>992.0</td>\n",
       "      <td>19.0</td>\n",
       "    </tr>\n",
       "    <tr>\n",
       "      <th>children 0-12</th>\n",
       "      <th>True</th>\n",
       "      <td>806.0</td>\n",
       "      <td>0.0</td>\n",
       "    </tr>\n",
       "    <tr>\n",
       "      <th rowspan=\"2\" valign=\"top\">eldery &gt; 65</th>\n",
       "      <th>False</th>\n",
       "      <td>140.0</td>\n",
       "      <td>5.0</td>\n",
       "    </tr>\n",
       "    <tr>\n",
       "      <th>True</th>\n",
       "      <td>116.0</td>\n",
       "      <td>2.0</td>\n",
       "    </tr>\n",
       "    <tr>\n",
       "      <th rowspan=\"2\" valign=\"top\">middle_age 41-65</th>\n",
       "      <th>False</th>\n",
       "      <td>1025.0</td>\n",
       "      <td>51.0</td>\n",
       "    </tr>\n",
       "    <tr>\n",
       "      <th>True</th>\n",
       "      <td>566.0</td>\n",
       "      <td>5.0</td>\n",
       "    </tr>\n",
       "    <tr>\n",
       "      <th rowspan=\"2\" valign=\"top\">teenagers 13-18</th>\n",
       "      <th>False</th>\n",
       "      <td>569.0</td>\n",
       "      <td>1.0</td>\n",
       "    </tr>\n",
       "    <tr>\n",
       "      <th>True</th>\n",
       "      <td>489.0</td>\n",
       "      <td>0.0</td>\n",
       "    </tr>\n",
       "    <tr>\n",
       "      <th rowspan=\"2\" valign=\"top\">young_adults 19-25</th>\n",
       "      <th>False</th>\n",
       "      <td>1363.0</td>\n",
       "      <td>10.0</td>\n",
       "    </tr>\n",
       "    <tr>\n",
       "      <th>True</th>\n",
       "      <td>656.0</td>\n",
       "      <td>2.0</td>\n",
       "    </tr>\n",
       "  </tbody>\n",
       "</table>\n",
       "</div>"
      ],
      "text/plain": [
       "VIP                              False  True \n",
       "Age_group          No_spending               \n",
       "adults 26-40       False        1772.0  104.0\n",
       "                   True          992.0   19.0\n",
       "children 0-12      True          806.0    0.0\n",
       "eldery > 65        False         140.0    5.0\n",
       "                   True          116.0    2.0\n",
       "middle_age 41-65   False        1025.0   51.0\n",
       "                   True          566.0    5.0\n",
       "teenagers 13-18    False         569.0    1.0\n",
       "                   True          489.0    0.0\n",
       "young_adults 19-25 False        1363.0   10.0\n",
       "                   True          656.0    2.0"
      ]
     },
     "execution_count": 50,
     "metadata": {},
     "output_type": "execute_result"
    }
   ],
   "source": [
    "abt_2.groupby(['Age_group', 'No_spending', 'VIP'])['Age_group'].size().unstack().fillna(0)"
   ]
  },
  {
   "cell_type": "code",
   "execution_count": 51,
   "id": "15695c42",
   "metadata": {
    "execution": {
     "iopub.execute_input": "2023-11-10T07:04:01.499304Z",
     "iopub.status.busy": "2023-11-10T07:04:01.498832Z",
     "iopub.status.idle": "2023-11-10T07:04:01.523283Z",
     "shell.execute_reply": "2023-11-10T07:04:01.522238Z"
    },
    "papermill": {
     "duration": 0.078994,
     "end_time": "2023-11-10T07:04:01.526166",
     "exception": false,
     "start_time": "2023-11-10T07:04:01.447172",
     "status": "completed"
    },
    "tags": []
   },
   "outputs": [
    {
     "name": "stdout",
     "output_type": "stream",
     "text": [
      "Before - number of missing data in Age: 179\n",
      "After - number of missing data in Age: 0\n"
     ]
    }
   ],
   "source": [
    "# Age - fill missing data the mean of the age\n",
    "print(\"Before - number of missing data in Age:\", len(abt_2[abt_2['Age'].isna()]))\n",
    "def fill_age(df):\n",
    "    # median Age for people with VIP status\n",
    "    df.loc[((df['VIP'] == True) & df['Age'].isna()), 'Age'] = df.loc[(df['VIP'] == True), 'Age'].median()\n",
    "\n",
    "    # median Age for people that have expenses\n",
    "    df.loc[(df['Age'].isna() & (df['No_spending'] == False)), 'Age'] = df.loc[df['No_spending'] == False, 'Age'].median()\n",
    "\n",
    "    # median Age for people with no expenses and not in CryoSleep\n",
    "    df.loc[(df['Age'].isna() & (df['No_spending'] == True) & (df['CryoSleep'] == False)), 'Age'] = df.loc[(df['No_spending'] == True) & (df['CryoSleep'] == False), 'Age'].median()\n",
    "\n",
    "    age_median = df[\"Age\"].median()\n",
    "    df['Age'].fillna(age_median, inplace=True)\n",
    "    \n",
    "fill_age(abt_2)\n",
    "print(\"After - number of missing data in Age:\", len(abt_2[abt_2['Age'].isna()]))"
   ]
  },
  {
   "cell_type": "markdown",
   "id": "dfc45c95",
   "metadata": {
    "papermill": {
     "duration": 0.050123,
     "end_time": "2023-11-10T07:04:01.627003",
     "exception": false,
     "start_time": "2023-11-10T07:04:01.576880",
     "status": "completed"
    },
    "tags": []
   },
   "source": [
    "## Fill Expenditure"
   ]
  },
  {
   "cell_type": "markdown",
   "id": "7d28dd26",
   "metadata": {
    "papermill": {
     "duration": 0.049998,
     "end_time": "2023-11-10T07:04:01.727271",
     "exception": false,
     "start_time": "2023-11-10T07:04:01.677273",
     "status": "completed"
    },
    "tags": []
   },
   "source": [
    "### Expenditure and CryoSleep"
   ]
  },
  {
   "cell_type": "code",
   "execution_count": 52,
   "id": "4a034dea",
   "metadata": {
    "execution": {
     "iopub.execute_input": "2023-11-10T07:04:01.830917Z",
     "iopub.status.busy": "2023-11-10T07:04:01.830504Z",
     "iopub.status.idle": "2023-11-10T07:04:01.856230Z",
     "shell.execute_reply": "2023-11-10T07:04:01.854530Z"
    },
    "papermill": {
     "duration": 0.080976,
     "end_time": "2023-11-10T07:04:01.858764",
     "exception": false,
     "start_time": "2023-11-10T07:04:01.777788",
     "status": "completed"
    },
    "tags": []
   },
   "outputs": [
    {
     "name": "stdout",
     "output_type": "stream",
     "text": [
      "Before - number of missing data in expenditure: RoomService     181\n",
      "FoodCourt       183\n",
      "ShoppingMall    208\n",
      "Spa             183\n",
      "VRDeck          188\n",
      "dtype: int64\n",
      "After - number of missing data in expenditure: RoomService     113\n",
      "FoodCourt       112\n",
      "ShoppingMall    109\n",
      "Spa             116\n",
      "VRDeck          121\n",
      "dtype: int64\n"
     ]
    }
   ],
   "source": [
    "exp_feats = [\"RoomService\",\"FoodCourt\", \"Spa\", \"ShoppingMall\",\"VRDeck\"]\n",
    "print(\"Before - number of missing data in expenditure:\", abt_2[['RoomService', 'FoodCourt', 'ShoppingMall', 'Spa', 'VRDeck']].isna().sum())\n",
    "\n",
    "# Age - fill missing data the mean of the age\n",
    "def fill_expenditure_with_CryoSleep(df):\n",
    "    for col in exp_feats:\n",
    "        df.loc[(df[col].isna()) & (df['CryoSleep'] == True), col] = 0\n",
    "    \n",
    "fill_expenditure_with_CryoSleep(abt_2)\n",
    "print(\"After - number of missing data in expenditure:\", abt_2[['RoomService', 'FoodCourt', 'ShoppingMall', 'Spa', 'VRDeck']].isna().sum())"
   ]
  },
  {
   "cell_type": "code",
   "execution_count": 53,
   "id": "359b26a3",
   "metadata": {
    "execution": {
     "iopub.execute_input": "2023-11-10T07:04:01.961732Z",
     "iopub.status.busy": "2023-11-10T07:04:01.961260Z",
     "iopub.status.idle": "2023-11-10T07:04:01.978176Z",
     "shell.execute_reply": "2023-11-10T07:04:01.976245Z"
    },
    "papermill": {
     "duration": 0.071703,
     "end_time": "2023-11-10T07:04:01.980990",
     "exception": false,
     "start_time": "2023-11-10T07:04:01.909287",
     "status": "completed"
    },
    "tags": []
   },
   "outputs": [
    {
     "name": "stdout",
     "output_type": "stream",
     "text": [
      "Before - number of missing data in expenditure: RoomService     113\n",
      "FoodCourt       112\n",
      "ShoppingMall    109\n",
      "Spa             116\n",
      "VRDeck          121\n",
      "dtype: int64\n",
      "After - number of missing data in expenditure: RoomService     0\n",
      "FoodCourt       0\n",
      "ShoppingMall    0\n",
      "Spa             0\n",
      "VRDeck          0\n",
      "dtype: int64\n"
     ]
    }
   ],
   "source": [
    "print(\"Before - number of missing data in expenditure:\", abt_2[['RoomService', 'FoodCourt', 'ShoppingMall', 'Spa', 'VRDeck']].isna().sum())\n",
    "def fill_expenditure_missing(df):\n",
    "    # RoomService, FoodCourt, ShoppingMall, Spa, VRDeck\n",
    "    # most of the distribution is 0, so just fill 0 for the missing data\n",
    "    df['RoomService'].fillna(0, inplace=True)\n",
    "    df['FoodCourt'].fillna(0, inplace=True)\n",
    "    df['ShoppingMall'].fillna(0, inplace=True)\n",
    "    df['Spa'].fillna(0, inplace=True)\n",
    "    df['VRDeck'].fillna(0, inplace=True)\n",
    "    \n",
    "fill_expenditure_missing(abt_2)\n",
    "print(\"After - number of missing data in expenditure:\", abt_2[['RoomService', 'FoodCourt', 'ShoppingMall', 'Spa', 'VRDeck']].isna().sum())    "
   ]
  },
  {
   "cell_type": "markdown",
   "id": "04249152",
   "metadata": {
    "papermill": {
     "duration": 0.050588,
     "end_time": "2023-11-10T07:04:02.082229",
     "exception": false,
     "start_time": "2023-11-10T07:04:02.031641",
     "status": "completed"
    },
    "tags": []
   },
   "source": [
    "### Update the Total_expenditure and No_spending"
   ]
  },
  {
   "cell_type": "code",
   "execution_count": 54,
   "id": "14cb493d",
   "metadata": {
    "execution": {
     "iopub.execute_input": "2023-11-10T07:04:02.187901Z",
     "iopub.status.busy": "2023-11-10T07:04:02.186783Z",
     "iopub.status.idle": "2023-11-10T07:04:02.198851Z",
     "shell.execute_reply": "2023-11-10T07:04:02.197612Z"
    },
    "papermill": {
     "duration": 0.068405,
     "end_time": "2023-11-10T07:04:02.201701",
     "exception": false,
     "start_time": "2023-11-10T07:04:02.133296",
     "status": "completed"
    },
    "tags": []
   },
   "outputs": [],
   "source": [
    "df['Total_expenditure'] = df[exp_feats].sum(axis=1)\n",
    "df['No_spending'] = (df['Total_expenditure'] == 0)"
   ]
  },
  {
   "cell_type": "markdown",
   "id": "f3be1957",
   "metadata": {
    "papermill": {
     "duration": 0.050916,
     "end_time": "2023-11-10T07:04:02.305013",
     "exception": false,
     "start_time": "2023-11-10T07:04:02.254097",
     "status": "completed"
    },
    "tags": []
   },
   "source": [
    "## Family_size"
   ]
  },
  {
   "cell_type": "code",
   "execution_count": 55,
   "id": "a6b23fc0",
   "metadata": {
    "execution": {
     "iopub.execute_input": "2023-11-10T07:04:02.411536Z",
     "iopub.status.busy": "2023-11-10T07:04:02.411032Z",
     "iopub.status.idle": "2023-11-10T07:04:28.055140Z",
     "shell.execute_reply": "2023-11-10T07:04:28.053966Z"
    },
    "papermill": {
     "duration": 25.701073,
     "end_time": "2023-11-10T07:04:28.057549",
     "exception": false,
     "start_time": "2023-11-10T07:04:02.356476",
     "status": "completed"
    },
    "tags": []
   },
   "outputs": [
    {
     "name": "stdout",
     "output_type": "stream",
     "text": [
      "Before - number of missing data in Family_size: 200\n",
      "After - number of missing data in Family_size: 0\n"
     ]
    }
   ],
   "source": [
    "print(\"Before - number of missing data in Family_size:\", len(abt_2[abt_2['Family_size'].isna()]))\n",
    "def fill_family_size(df):\n",
    "    df['Family_size'] = df['LastName'].map(lambda x: df['LastName'].value_counts()[x])\n",
    "    df['Family_size'].fillna(0, inplace = True)\n",
    "\n",
    "fill_family_size(abt_2)\n",
    "print(\"After - number of missing data in Family_size:\", len(abt_2[abt_2['Family_size'].isna()]))"
   ]
  },
  {
   "cell_type": "markdown",
   "id": "8aaa95c6",
   "metadata": {
    "papermill": {
     "duration": 0.050666,
     "end_time": "2023-11-10T07:04:28.159515",
     "exception": false,
     "start_time": "2023-11-10T07:04:28.108849",
     "status": "completed"
    },
    "tags": []
   },
   "source": [
    "# Preprocessing dataset 2"
   ]
  },
  {
   "cell_type": "code",
   "execution_count": 56,
   "id": "98c16c6a",
   "metadata": {
    "execution": {
     "iopub.execute_input": "2023-11-10T07:04:28.273470Z",
     "iopub.status.busy": "2023-11-10T07:04:28.272965Z",
     "iopub.status.idle": "2023-11-10T07:04:28.305269Z",
     "shell.execute_reply": "2023-11-10T07:04:28.304354Z"
    },
    "papermill": {
     "duration": 0.095944,
     "end_time": "2023-11-10T07:04:28.307608",
     "exception": false,
     "start_time": "2023-11-10T07:04:28.211664",
     "status": "completed"
    },
    "tags": []
   },
   "outputs": [
    {
     "data": {
      "text/html": [
       "<div>\n",
       "<style scoped>\n",
       "    .dataframe tbody tr th:only-of-type {\n",
       "        vertical-align: middle;\n",
       "    }\n",
       "\n",
       "    .dataframe tbody tr th {\n",
       "        vertical-align: top;\n",
       "    }\n",
       "\n",
       "    .dataframe thead th {\n",
       "        text-align: right;\n",
       "    }\n",
       "</style>\n",
       "<table border=\"1\" class=\"dataframe\">\n",
       "  <thead>\n",
       "    <tr style=\"text-align: right;\">\n",
       "      <th></th>\n",
       "      <th>PassengerId</th>\n",
       "      <th>HomePlanet</th>\n",
       "      <th>CryoSleep</th>\n",
       "      <th>Destination</th>\n",
       "      <th>Age</th>\n",
       "      <th>VIP</th>\n",
       "      <th>RoomService</th>\n",
       "      <th>FoodCourt</th>\n",
       "      <th>ShoppingMall</th>\n",
       "      <th>Spa</th>\n",
       "      <th>...</th>\n",
       "      <th>Group_size</th>\n",
       "      <th>Solo</th>\n",
       "      <th>Cabin_deck</th>\n",
       "      <th>Cabin_num</th>\n",
       "      <th>Cabin_side</th>\n",
       "      <th>Total_expenditure</th>\n",
       "      <th>No_spending</th>\n",
       "      <th>LastName</th>\n",
       "      <th>Family_size</th>\n",
       "      <th>Age_group</th>\n",
       "    </tr>\n",
       "  </thead>\n",
       "  <tbody>\n",
       "    <tr>\n",
       "      <th>0</th>\n",
       "      <td>0001_01</td>\n",
       "      <td>Europa</td>\n",
       "      <td>False</td>\n",
       "      <td>TRAPPIST-1e</td>\n",
       "      <td>39.0</td>\n",
       "      <td>False</td>\n",
       "      <td>0.0</td>\n",
       "      <td>0.0</td>\n",
       "      <td>0.0</td>\n",
       "      <td>0.0</td>\n",
       "      <td>...</td>\n",
       "      <td>1</td>\n",
       "      <td>True</td>\n",
       "      <td>B</td>\n",
       "      <td>0</td>\n",
       "      <td>P</td>\n",
       "      <td>0.0</td>\n",
       "      <td>True</td>\n",
       "      <td>Ofracculy</td>\n",
       "      <td>1</td>\n",
       "      <td>adults 26-40</td>\n",
       "    </tr>\n",
       "    <tr>\n",
       "      <th>1</th>\n",
       "      <td>0002_01</td>\n",
       "      <td>Earth</td>\n",
       "      <td>False</td>\n",
       "      <td>TRAPPIST-1e</td>\n",
       "      <td>24.0</td>\n",
       "      <td>False</td>\n",
       "      <td>109.0</td>\n",
       "      <td>9.0</td>\n",
       "      <td>25.0</td>\n",
       "      <td>549.0</td>\n",
       "      <td>...</td>\n",
       "      <td>1</td>\n",
       "      <td>True</td>\n",
       "      <td>F</td>\n",
       "      <td>0</td>\n",
       "      <td>S</td>\n",
       "      <td>736.0</td>\n",
       "      <td>False</td>\n",
       "      <td>Vines</td>\n",
       "      <td>4</td>\n",
       "      <td>young_adults 19-25</td>\n",
       "    </tr>\n",
       "    <tr>\n",
       "      <th>2</th>\n",
       "      <td>0003_01</td>\n",
       "      <td>Europa</td>\n",
       "      <td>False</td>\n",
       "      <td>TRAPPIST-1e</td>\n",
       "      <td>58.0</td>\n",
       "      <td>True</td>\n",
       "      <td>43.0</td>\n",
       "      <td>3576.0</td>\n",
       "      <td>0.0</td>\n",
       "      <td>6715.0</td>\n",
       "      <td>...</td>\n",
       "      <td>2</td>\n",
       "      <td>False</td>\n",
       "      <td>A</td>\n",
       "      <td>0</td>\n",
       "      <td>S</td>\n",
       "      <td>10383.0</td>\n",
       "      <td>False</td>\n",
       "      <td>Susent</td>\n",
       "      <td>6</td>\n",
       "      <td>middle_age 41-65</td>\n",
       "    </tr>\n",
       "    <tr>\n",
       "      <th>3</th>\n",
       "      <td>0003_02</td>\n",
       "      <td>Europa</td>\n",
       "      <td>False</td>\n",
       "      <td>TRAPPIST-1e</td>\n",
       "      <td>33.0</td>\n",
       "      <td>False</td>\n",
       "      <td>0.0</td>\n",
       "      <td>1283.0</td>\n",
       "      <td>371.0</td>\n",
       "      <td>3329.0</td>\n",
       "      <td>...</td>\n",
       "      <td>2</td>\n",
       "      <td>False</td>\n",
       "      <td>A</td>\n",
       "      <td>0</td>\n",
       "      <td>S</td>\n",
       "      <td>5176.0</td>\n",
       "      <td>False</td>\n",
       "      <td>Susent</td>\n",
       "      <td>6</td>\n",
       "      <td>adults 26-40</td>\n",
       "    </tr>\n",
       "    <tr>\n",
       "      <th>4</th>\n",
       "      <td>0004_01</td>\n",
       "      <td>Earth</td>\n",
       "      <td>False</td>\n",
       "      <td>TRAPPIST-1e</td>\n",
       "      <td>16.0</td>\n",
       "      <td>False</td>\n",
       "      <td>303.0</td>\n",
       "      <td>70.0</td>\n",
       "      <td>151.0</td>\n",
       "      <td>565.0</td>\n",
       "      <td>...</td>\n",
       "      <td>1</td>\n",
       "      <td>True</td>\n",
       "      <td>F</td>\n",
       "      <td>1</td>\n",
       "      <td>S</td>\n",
       "      <td>1091.0</td>\n",
       "      <td>False</td>\n",
       "      <td>Santantines</td>\n",
       "      <td>6</td>\n",
       "      <td>teenagers 13-18</td>\n",
       "    </tr>\n",
       "  </tbody>\n",
       "</table>\n",
       "<p>5 rows × 23 columns</p>\n",
       "</div>"
      ],
      "text/plain": [
       "  PassengerId HomePlanet CryoSleep  Destination   Age    VIP  RoomService  \\\n",
       "0     0001_01     Europa     False  TRAPPIST-1e  39.0  False          0.0   \n",
       "1     0002_01      Earth     False  TRAPPIST-1e  24.0  False        109.0   \n",
       "2     0003_01     Europa     False  TRAPPIST-1e  58.0   True         43.0   \n",
       "3     0003_02     Europa     False  TRAPPIST-1e  33.0  False          0.0   \n",
       "4     0004_01      Earth     False  TRAPPIST-1e  16.0  False        303.0   \n",
       "\n",
       "   FoodCourt  ShoppingMall     Spa  ...  Group_size   Solo Cabin_deck  \\\n",
       "0        0.0           0.0     0.0  ...           1   True          B   \n",
       "1        9.0          25.0   549.0  ...           1   True          F   \n",
       "2     3576.0           0.0  6715.0  ...           2  False          A   \n",
       "3     1283.0         371.0  3329.0  ...           2  False          A   \n",
       "4       70.0         151.0   565.0  ...           1   True          F   \n",
       "\n",
       "   Cabin_num  Cabin_side Total_expenditure No_spending     LastName  \\\n",
       "0          0           P               0.0        True    Ofracculy   \n",
       "1          0           S             736.0       False        Vines   \n",
       "2          0           S           10383.0       False       Susent   \n",
       "3          0           S            5176.0       False       Susent   \n",
       "4          1           S            1091.0       False  Santantines   \n",
       "\n",
       "   Family_size           Age_group  \n",
       "0            1        adults 26-40  \n",
       "1            4  young_adults 19-25  \n",
       "2            6    middle_age 41-65  \n",
       "3            6        adults 26-40  \n",
       "4            6     teenagers 13-18  \n",
       "\n",
       "[5 rows x 23 columns]"
      ]
     },
     "execution_count": 56,
     "metadata": {},
     "output_type": "execute_result"
    }
   ],
   "source": [
    "abt_2.head()"
   ]
  },
  {
   "cell_type": "code",
   "execution_count": 57,
   "id": "94166c3b",
   "metadata": {
    "execution": {
     "iopub.execute_input": "2023-11-10T07:04:28.434566Z",
     "iopub.status.busy": "2023-11-10T07:04:28.433478Z",
     "iopub.status.idle": "2023-11-10T07:04:28.450170Z",
     "shell.execute_reply": "2023-11-10T07:04:28.449214Z"
    },
    "papermill": {
     "duration": 0.079147,
     "end_time": "2023-11-10T07:04:28.452884",
     "exception": false,
     "start_time": "2023-11-10T07:04:28.373737",
     "status": "completed"
    },
    "tags": []
   },
   "outputs": [],
   "source": [
    "# drop the high cardinality features\n",
    "def drop_high_cardinality(df):\n",
    "    df.drop('Cabin_num', axis=1, inplace=True)\n",
    "    df.drop('LastName', axis=1, inplace=True)\n",
    "    df.drop('Group', axis=1, inplace=True)\n",
    "    \n",
    "drop_high_cardinality(abt_2)"
   ]
  },
  {
   "cell_type": "markdown",
   "id": "b6826204",
   "metadata": {
    "papermill": {
     "duration": 0.052001,
     "end_time": "2023-11-10T07:04:28.556434",
     "exception": false,
     "start_time": "2023-11-10T07:04:28.504433",
     "status": "completed"
    },
    "tags": []
   },
   "source": [
    "# Modeling"
   ]
  },
  {
   "cell_type": "code",
   "execution_count": 58,
   "id": "7b597fb7",
   "metadata": {
    "execution": {
     "iopub.execute_input": "2023-11-10T07:04:28.661556Z",
     "iopub.status.busy": "2023-11-10T07:04:28.660515Z",
     "iopub.status.idle": "2023-11-10T07:04:28.948411Z",
     "shell.execute_reply": "2023-11-10T07:04:28.947112Z"
    },
    "papermill": {
     "duration": 0.344208,
     "end_time": "2023-11-10T07:04:28.951752",
     "exception": false,
     "start_time": "2023-11-10T07:04:28.607544",
     "status": "completed"
    },
    "tags": []
   },
   "outputs": [],
   "source": [
    "from sklearn.model_selection import train_test_split\n",
    "from sklearn.pipeline import make_pipeline\n",
    "from sklearn.preprocessing import StandardScaler"
   ]
  },
  {
   "cell_type": "code",
   "execution_count": 59,
   "id": "68e595b9",
   "metadata": {
    "execution": {
     "iopub.execute_input": "2023-11-10T07:04:29.058574Z",
     "iopub.status.busy": "2023-11-10T07:04:29.057751Z",
     "iopub.status.idle": "2023-11-10T07:04:29.083329Z",
     "shell.execute_reply": "2023-11-10T07:04:29.082290Z"
    },
    "papermill": {
     "duration": 0.082309,
     "end_time": "2023-11-10T07:04:29.086018",
     "exception": false,
     "start_time": "2023-11-10T07:04:29.003709",
     "status": "completed"
    },
    "tags": []
   },
   "outputs": [],
   "source": [
    "# Create the features columns\n",
    "# drop the identifier columns\n",
    "X = abt_2.drop([\"Transported\", \"PassengerId\"], axis=1)\n",
    "# One-hot encoding\n",
    "X = pd.get_dummies(X, dtype=int)\n",
    "# Create the label column\n",
    "y = abt_2[\"Transported\"]"
   ]
  },
  {
   "cell_type": "code",
   "execution_count": 60,
   "id": "44b73e93",
   "metadata": {
    "execution": {
     "iopub.execute_input": "2023-11-10T07:04:29.192105Z",
     "iopub.status.busy": "2023-11-10T07:04:29.191367Z",
     "iopub.status.idle": "2023-11-10T07:04:29.201398Z",
     "shell.execute_reply": "2023-11-10T07:04:29.200400Z"
    },
    "papermill": {
     "duration": 0.066098,
     "end_time": "2023-11-10T07:04:29.204057",
     "exception": false,
     "start_time": "2023-11-10T07:04:29.137959",
     "status": "completed"
    },
    "tags": []
   },
   "outputs": [],
   "source": [
    "# split the training set and testing set\n",
    "X_train, X_test, y_train, y_test = train_test_split(X, y, test_size=0.3, random_state=1005)"
   ]
  },
  {
   "cell_type": "code",
   "execution_count": 61,
   "id": "225ef7f9",
   "metadata": {
    "execution": {
     "iopub.execute_input": "2023-11-10T07:04:29.311000Z",
     "iopub.status.busy": "2023-11-10T07:04:29.310301Z",
     "iopub.status.idle": "2023-11-10T07:04:29.338277Z",
     "shell.execute_reply": "2023-11-10T07:04:29.337094Z"
    },
    "papermill": {
     "duration": 0.085076,
     "end_time": "2023-11-10T07:04:29.340923",
     "exception": false,
     "start_time": "2023-11-10T07:04:29.255847",
     "status": "completed"
    },
    "tags": []
   },
   "outputs": [
    {
     "data": {
      "text/html": [
       "<div>\n",
       "<style scoped>\n",
       "    .dataframe tbody tr th:only-of-type {\n",
       "        vertical-align: middle;\n",
       "    }\n",
       "\n",
       "    .dataframe tbody tr th {\n",
       "        vertical-align: top;\n",
       "    }\n",
       "\n",
       "    .dataframe thead th {\n",
       "        text-align: right;\n",
       "    }\n",
       "</style>\n",
       "<table border=\"1\" class=\"dataframe\">\n",
       "  <thead>\n",
       "    <tr style=\"text-align: right;\">\n",
       "      <th></th>\n",
       "      <th>Age</th>\n",
       "      <th>VIP</th>\n",
       "      <th>RoomService</th>\n",
       "      <th>FoodCourt</th>\n",
       "      <th>ShoppingMall</th>\n",
       "      <th>Spa</th>\n",
       "      <th>VRDeck</th>\n",
       "      <th>Group_size</th>\n",
       "      <th>Solo</th>\n",
       "      <th>Total_expenditure</th>\n",
       "      <th>...</th>\n",
       "      <th>Cabin_deck_Missing</th>\n",
       "      <th>Cabin_deck_T</th>\n",
       "      <th>Cabin_side_P</th>\n",
       "      <th>Cabin_side_S</th>\n",
       "      <th>Age_group_adults 26-40</th>\n",
       "      <th>Age_group_children 0-12</th>\n",
       "      <th>Age_group_eldery &gt; 65</th>\n",
       "      <th>Age_group_middle_age 41-65</th>\n",
       "      <th>Age_group_teenagers 13-18</th>\n",
       "      <th>Age_group_young_adults 19-25</th>\n",
       "    </tr>\n",
       "  </thead>\n",
       "  <tbody>\n",
       "    <tr>\n",
       "      <th>5559</th>\n",
       "      <td>32.0</td>\n",
       "      <td>False</td>\n",
       "      <td>0.0</td>\n",
       "      <td>0.0</td>\n",
       "      <td>0.0</td>\n",
       "      <td>241.0</td>\n",
       "      <td>4757.0</td>\n",
       "      <td>3</td>\n",
       "      <td>False</td>\n",
       "      <td>4998.0</td>\n",
       "      <td>...</td>\n",
       "      <td>0</td>\n",
       "      <td>0</td>\n",
       "      <td>0</td>\n",
       "      <td>1</td>\n",
       "      <td>1</td>\n",
       "      <td>0</td>\n",
       "      <td>0</td>\n",
       "      <td>0</td>\n",
       "      <td>0</td>\n",
       "      <td>0</td>\n",
       "    </tr>\n",
       "    <tr>\n",
       "      <th>2765</th>\n",
       "      <td>20.0</td>\n",
       "      <td>False</td>\n",
       "      <td>0.0</td>\n",
       "      <td>0.0</td>\n",
       "      <td>585.0</td>\n",
       "      <td>0.0</td>\n",
       "      <td>10.0</td>\n",
       "      <td>1</td>\n",
       "      <td>True</td>\n",
       "      <td>595.0</td>\n",
       "      <td>...</td>\n",
       "      <td>0</td>\n",
       "      <td>0</td>\n",
       "      <td>0</td>\n",
       "      <td>1</td>\n",
       "      <td>0</td>\n",
       "      <td>0</td>\n",
       "      <td>0</td>\n",
       "      <td>0</td>\n",
       "      <td>0</td>\n",
       "      <td>1</td>\n",
       "    </tr>\n",
       "    <tr>\n",
       "      <th>3035</th>\n",
       "      <td>21.0</td>\n",
       "      <td>False</td>\n",
       "      <td>0.0</td>\n",
       "      <td>0.0</td>\n",
       "      <td>0.0</td>\n",
       "      <td>646.0</td>\n",
       "      <td>138.0</td>\n",
       "      <td>4</td>\n",
       "      <td>False</td>\n",
       "      <td>784.0</td>\n",
       "      <td>...</td>\n",
       "      <td>0</td>\n",
       "      <td>0</td>\n",
       "      <td>0</td>\n",
       "      <td>1</td>\n",
       "      <td>0</td>\n",
       "      <td>0</td>\n",
       "      <td>0</td>\n",
       "      <td>0</td>\n",
       "      <td>0</td>\n",
       "      <td>1</td>\n",
       "    </tr>\n",
       "    <tr>\n",
       "      <th>5544</th>\n",
       "      <td>5.0</td>\n",
       "      <td>False</td>\n",
       "      <td>0.0</td>\n",
       "      <td>0.0</td>\n",
       "      <td>0.0</td>\n",
       "      <td>0.0</td>\n",
       "      <td>0.0</td>\n",
       "      <td>3</td>\n",
       "      <td>False</td>\n",
       "      <td>0.0</td>\n",
       "      <td>...</td>\n",
       "      <td>0</td>\n",
       "      <td>0</td>\n",
       "      <td>0</td>\n",
       "      <td>1</td>\n",
       "      <td>0</td>\n",
       "      <td>1</td>\n",
       "      <td>0</td>\n",
       "      <td>0</td>\n",
       "      <td>0</td>\n",
       "      <td>0</td>\n",
       "    </tr>\n",
       "    <tr>\n",
       "      <th>7747</th>\n",
       "      <td>40.0</td>\n",
       "      <td>False</td>\n",
       "      <td>0.0</td>\n",
       "      <td>0.0</td>\n",
       "      <td>0.0</td>\n",
       "      <td>0.0</td>\n",
       "      <td>0.0</td>\n",
       "      <td>2</td>\n",
       "      <td>False</td>\n",
       "      <td>0.0</td>\n",
       "      <td>...</td>\n",
       "      <td>0</td>\n",
       "      <td>0</td>\n",
       "      <td>0</td>\n",
       "      <td>1</td>\n",
       "      <td>1</td>\n",
       "      <td>0</td>\n",
       "      <td>0</td>\n",
       "      <td>0</td>\n",
       "      <td>0</td>\n",
       "      <td>0</td>\n",
       "    </tr>\n",
       "  </tbody>\n",
       "</table>\n",
       "<p>5 rows × 37 columns</p>\n",
       "</div>"
      ],
      "text/plain": [
       "       Age    VIP  RoomService  FoodCourt  ShoppingMall    Spa  VRDeck  \\\n",
       "5559  32.0  False          0.0        0.0           0.0  241.0  4757.0   \n",
       "2765  20.0  False          0.0        0.0         585.0    0.0    10.0   \n",
       "3035  21.0  False          0.0        0.0           0.0  646.0   138.0   \n",
       "5544   5.0  False          0.0        0.0           0.0    0.0     0.0   \n",
       "7747  40.0  False          0.0        0.0           0.0    0.0     0.0   \n",
       "\n",
       "      Group_size   Solo  Total_expenditure  ...  Cabin_deck_Missing  \\\n",
       "5559           3  False             4998.0  ...                   0   \n",
       "2765           1   True              595.0  ...                   0   \n",
       "3035           4  False              784.0  ...                   0   \n",
       "5544           3  False                0.0  ...                   0   \n",
       "7747           2  False                0.0  ...                   0   \n",
       "\n",
       "      Cabin_deck_T  Cabin_side_P  Cabin_side_S  Age_group_adults 26-40  \\\n",
       "5559             0             0             1                       1   \n",
       "2765             0             0             1                       0   \n",
       "3035             0             0             1                       0   \n",
       "5544             0             0             1                       0   \n",
       "7747             0             0             1                       1   \n",
       "\n",
       "      Age_group_children 0-12  Age_group_eldery > 65  \\\n",
       "5559                        0                      0   \n",
       "2765                        0                      0   \n",
       "3035                        0                      0   \n",
       "5544                        1                      0   \n",
       "7747                        0                      0   \n",
       "\n",
       "      Age_group_middle_age 41-65  Age_group_teenagers 13-18  \\\n",
       "5559                           0                          0   \n",
       "2765                           0                          0   \n",
       "3035                           0                          0   \n",
       "5544                           0                          0   \n",
       "7747                           0                          0   \n",
       "\n",
       "      Age_group_young_adults 19-25  \n",
       "5559                             0  \n",
       "2765                             1  \n",
       "3035                             1  \n",
       "5544                             0  \n",
       "7747                             0  \n",
       "\n",
       "[5 rows x 37 columns]"
      ]
     },
     "execution_count": 61,
     "metadata": {},
     "output_type": "execute_result"
    }
   ],
   "source": [
    "X_train.head()"
   ]
  },
  {
   "cell_type": "markdown",
   "id": "7a796c0a",
   "metadata": {
    "papermill": {
     "duration": 0.052183,
     "end_time": "2023-11-10T07:04:29.445545",
     "exception": false,
     "start_time": "2023-11-10T07:04:29.393362",
     "status": "completed"
    },
    "tags": []
   },
   "source": [
    "# Setup machine learning pipelines"
   ]
  },
  {
   "cell_type": "code",
   "execution_count": 62,
   "id": "6f905032",
   "metadata": {
    "execution": {
     "iopub.execute_input": "2023-11-10T07:04:29.553171Z",
     "iopub.status.busy": "2023-11-10T07:04:29.552393Z",
     "iopub.status.idle": "2023-11-10T07:04:31.418262Z",
     "shell.execute_reply": "2023-11-10T07:04:31.417113Z"
    },
    "papermill": {
     "duration": 1.923119,
     "end_time": "2023-11-10T07:04:31.421185",
     "exception": false,
     "start_time": "2023-11-10T07:04:29.498066",
     "status": "completed"
    },
    "tags": []
   },
   "outputs": [],
   "source": [
    "from sklearn.ensemble import RandomForestClassifier\n",
    "from lightgbm import LGBMClassifier\n",
    "from sklearn.model_selection import GridSearchCV\n",
    "import time"
   ]
  },
  {
   "cell_type": "code",
   "execution_count": 63,
   "id": "58cdf6ed",
   "metadata": {
    "execution": {
     "iopub.execute_input": "2023-11-10T07:04:31.529255Z",
     "iopub.status.busy": "2023-11-10T07:04:31.528804Z",
     "iopub.status.idle": "2023-11-10T07:04:31.534982Z",
     "shell.execute_reply": "2023-11-10T07:04:31.533871Z"
    },
    "papermill": {
     "duration": 0.063705,
     "end_time": "2023-11-10T07:04:31.537318",
     "exception": false,
     "start_time": "2023-11-10T07:04:31.473613",
     "status": "completed"
    },
    "tags": []
   },
   "outputs": [],
   "source": [
    "# StandardScaler - z = (x - u) / s \n",
    "classifiers = {\n",
    "    'RandomForest': make_pipeline(StandardScaler(), RandomForestClassifier(random_state=1005)),\n",
    "    \"LGBM\" : make_pipeline(StandardScaler(), LGBMClassifier(random_state=1005)),\n",
    "}"
   ]
  },
  {
   "cell_type": "code",
   "execution_count": 64,
   "id": "26ecbf43",
   "metadata": {
    "execution": {
     "iopub.execute_input": "2023-11-10T07:04:31.646098Z",
     "iopub.status.busy": "2023-11-10T07:04:31.645083Z",
     "iopub.status.idle": "2023-11-10T07:04:31.654027Z",
     "shell.execute_reply": "2023-11-10T07:04:31.652341Z"
    },
    "papermill": {
     "duration": 0.067136,
     "end_time": "2023-11-10T07:04:31.657778",
     "exception": false,
     "start_time": "2023-11-10T07:04:31.590642",
     "status": "completed"
    },
    "tags": []
   },
   "outputs": [],
   "source": [
    "grid = {\n",
    "    'RandomForest': {\n",
    "        'randomforestclassifier__n_estimators':[50, 100, 150, 200, 250, 300],\n",
    "        'randomforestclassifier__max_depth': [4, 6, 8, 10, 12],\n",
    "    },\n",
    "    'LGBM': {\n",
    "        'lgbmclassifier__n_estimators': [50, 100, 150, 200],\n",
    "        'lgbmclassifier__max_depth': [4, 8, 12],\n",
    "        'lgbmclassifier__learning_rate': [0.05, 0.1, 0.15],\n",
    "    },    \n",
    "}"
   ]
  },
  {
   "cell_type": "code",
   "execution_count": 65,
   "id": "0503581d",
   "metadata": {
    "execution": {
     "iopub.execute_input": "2023-11-10T07:04:31.765085Z",
     "iopub.status.busy": "2023-11-10T07:04:31.764193Z",
     "iopub.status.idle": "2023-11-10T07:06:33.377665Z",
     "shell.execute_reply": "2023-11-10T07:06:33.375810Z"
    },
    "papermill": {
     "duration": 121.704864,
     "end_time": "2023-11-10T07:06:33.415017",
     "exception": false,
     "start_time": "2023-11-10T07:04:31.710153",
     "status": "completed"
    },
    "tags": []
   },
   "outputs": [
    {
     "name": "stdout",
     "output_type": "stream",
     "text": [
      "Training the RandomForest model\n",
      "Training time (second): 62.63286113739014\n",
      "Training the LGBM model\n",
      "Training time (second): 58.94967818260193\n"
     ]
    }
   ],
   "source": [
    "fit_models = {}\n",
    "\n",
    "valid_scores = pd.DataFrame({'Classifer':classifiers.keys(), 'Validation accuracy': np.zeros(len(classifiers)), 'Training time': np.zeros(len(classifiers))})\n",
    "# loop all the classifiers\n",
    "for algo, classifier in classifiers.items():\n",
    "    start_time = time.time()\n",
    "    print(f'Training the {algo} model')\n",
    "    # create grid search CV\n",
    "    clf = GridSearchCV(estimator=classifier, param_grid=grid[algo], n_jobs=-1, cv=None)\n",
    "    # train the model\n",
    "    clf.fit(X_train, y_train)\n",
    "    \n",
    "    end_time = time.time()\n",
    "    \n",
    "    # store the trained result\n",
    "    fit_models[algo] = clf\n",
    "    \n",
    "    training_time = end_time - start_time\n",
    "    print('Training time (second):', training_time)"
   ]
  },
  {
   "cell_type": "code",
   "execution_count": 66,
   "id": "b161147c",
   "metadata": {
    "execution": {
     "iopub.execute_input": "2023-11-10T07:06:33.524340Z",
     "iopub.status.busy": "2023-11-10T07:06:33.523860Z",
     "iopub.status.idle": "2023-11-10T07:06:33.553404Z",
     "shell.execute_reply": "2023-11-10T07:06:33.552142Z"
    },
    "papermill": {
     "duration": 0.087505,
     "end_time": "2023-11-10T07:06:33.556177",
     "exception": false,
     "start_time": "2023-11-10T07:06:33.468672",
     "status": "completed"
    },
    "tags": []
   },
   "outputs": [
    {
     "data": {
      "text/plain": [
       "{'RandomForest': GridSearchCV(estimator=Pipeline(steps=[('standardscaler', StandardScaler()),\n",
       "                                        ('randomforestclassifier',\n",
       "                                         RandomForestClassifier(random_state=1005))]),\n",
       "              n_jobs=-1,\n",
       "              param_grid={'randomforestclassifier__max_depth': [4, 6, 8, 10, 12],\n",
       "                          'randomforestclassifier__n_estimators': [50, 100, 150,\n",
       "                                                                   200, 250,\n",
       "                                                                   300]}),\n",
       " 'LGBM': GridSearchCV(estimator=Pipeline(steps=[('standardscaler', StandardScaler()),\n",
       "                                        ('lgbmclassifier',\n",
       "                                         LGBMClassifier(random_state=1005))]),\n",
       "              n_jobs=-1,\n",
       "              param_grid={'lgbmclassifier__learning_rate': [0.05, 0.1, 0.15],\n",
       "                          'lgbmclassifier__max_depth': [4, 8, 12],\n",
       "                          'lgbmclassifier__n_estimators': [50, 100, 150, 200]})}"
      ]
     },
     "execution_count": 66,
     "metadata": {},
     "output_type": "execute_result"
    }
   ],
   "source": [
    "fit_models"
   ]
  },
  {
   "cell_type": "markdown",
   "id": "355b4cd0",
   "metadata": {
    "papermill": {
     "duration": 0.052381,
     "end_time": "2023-11-10T07:06:33.661293",
     "exception": false,
     "start_time": "2023-11-10T07:06:33.608912",
     "status": "completed"
    },
    "tags": []
   },
   "source": [
    "# Evaluate the performance"
   ]
  },
  {
   "cell_type": "code",
   "execution_count": 67,
   "id": "26a9b6da",
   "metadata": {
    "execution": {
     "iopub.execute_input": "2023-11-10T07:06:33.768657Z",
     "iopub.status.busy": "2023-11-10T07:06:33.768241Z",
     "iopub.status.idle": "2023-11-10T07:06:33.773578Z",
     "shell.execute_reply": "2023-11-10T07:06:33.772407Z"
    },
    "papermill": {
     "duration": 0.062365,
     "end_time": "2023-11-10T07:06:33.776258",
     "exception": false,
     "start_time": "2023-11-10T07:06:33.713893",
     "status": "completed"
    },
    "tags": []
   },
   "outputs": [],
   "source": [
    "from sklearn.metrics import accuracy_score"
   ]
  },
  {
   "cell_type": "code",
   "execution_count": 68,
   "id": "a52eaddb",
   "metadata": {
    "execution": {
     "iopub.execute_input": "2023-11-10T07:06:33.896274Z",
     "iopub.status.busy": "2023-11-10T07:06:33.895073Z",
     "iopub.status.idle": "2023-11-10T07:06:34.052029Z",
     "shell.execute_reply": "2023-11-10T07:06:34.049590Z"
    },
    "papermill": {
     "duration": 0.223843,
     "end_time": "2023-11-10T07:06:34.056479",
     "exception": false,
     "start_time": "2023-11-10T07:06:33.832636",
     "status": "completed"
    },
    "tags": []
   },
   "outputs": [
    {
     "name": "stdout",
     "output_type": "stream",
     "text": [
      "Model: RandomForest\n",
      "Accuracy score: 0.807898773006135\n",
      "Model: LGBM\n",
      "Accuracy score: 0.8094325153374233\n"
     ]
    }
   ],
   "source": [
    "for algo, classifier in fit_models.items():\n",
    "    y_pred = classifier.predict(X_test)\n",
    "    accuracy = accuracy_score(y_test, y_pred)\n",
    "    print(f'Model: {algo}')\n",
    "    print(f'Accuracy score: {accuracy}')"
   ]
  },
  {
   "cell_type": "markdown",
   "id": "f8e7ed78",
   "metadata": {
    "papermill": {
     "duration": 0.058164,
     "end_time": "2023-11-10T07:06:34.170755",
     "exception": false,
     "start_time": "2023-11-10T07:06:34.112591",
     "status": "completed"
    },
    "tags": []
   },
   "source": [
    "# Predict on Test Data"
   ]
  },
  {
   "cell_type": "code",
   "execution_count": 69,
   "id": "8fd7ee74",
   "metadata": {
    "execution": {
     "iopub.execute_input": "2023-11-10T07:06:34.282974Z",
     "iopub.status.busy": "2023-11-10T07:06:34.282194Z",
     "iopub.status.idle": "2023-11-10T07:07:07.030679Z",
     "shell.execute_reply": "2023-11-10T07:07:07.029762Z"
    },
    "papermill": {
     "duration": 32.807702,
     "end_time": "2023-11-10T07:07:07.033538",
     "exception": false,
     "start_time": "2023-11-10T07:06:34.225836",
     "status": "completed"
    },
    "tags": []
   },
   "outputs": [],
   "source": [
    "# read the test.csv\n",
    "test_df = pd.read_csv('/kaggle/input/spaceship-titanic/test.csv')\n",
    "# make a copy of test_df\n",
    "abt_test = test_df.copy()\n",
    "\n",
    "# for dataset 1\n",
    "# preprocessing(abt_test)\n",
    "\n",
    "passenger_id_new_features(abt_test)\n",
    "cabin_new_features(abt_test)\n",
    "exp_new_features(abt_test)\n",
    "name_new_features(abt_test)\n",
    "age_new_features(abt_test)\n",
    "fill_HomePlanet_by_LastName(abt_test)\n",
    "fill_HomePlanet_by_Cabin_deck(abt_test)\n",
    "fill_HomePlanet_by_Destination(abt_test)\n",
    "fill_HomePlanet_Group(abt_test)\n",
    "fill_CryoSleep_by_NoSpending(abt_test)\n",
    "fill_Destination(abt_test)\n",
    "fill_LastName(abt_test)\n",
    "fill_VIP_with_Age_and_Destination(abt_test)\n",
    "fill_VIP_missing(abt_test)\n",
    "fill_Cabin_side_Group(abt_test)\n",
    "fill_Cabin_side_missing(abt_test)\n",
    "fill_Cabin_deck_by_HomePlanet(abt_test)\n",
    "fill_Cabin_deck_missing(abt_test)\n",
    "fill_Cabin_num_missing(abt_test)\n",
    "fill_age(abt_test)\n",
    "fill_expenditure_with_CryoSleep(abt_test)\n",
    "fill_expenditure_missing(abt_test)\n",
    "fill_family_size(abt_test)\n",
    "drop_high_cardinality(abt_test)\n",
    "\n",
    "# one-hot encoding\n",
    "abt_test = pd.get_dummies(abt_test.drop('PassengerId', axis=1), dtype=int)"
   ]
  },
  {
   "cell_type": "code",
   "execution_count": 70,
   "id": "d133ce4e",
   "metadata": {
    "execution": {
     "iopub.execute_input": "2023-11-10T07:07:07.143782Z",
     "iopub.status.busy": "2023-11-10T07:07:07.142974Z",
     "iopub.status.idle": "2023-11-10T07:07:07.165004Z",
     "shell.execute_reply": "2023-11-10T07:07:07.164127Z"
    },
    "papermill": {
     "duration": 0.080243,
     "end_time": "2023-11-10T07:07:07.167724",
     "exception": false,
     "start_time": "2023-11-10T07:07:07.087481",
     "status": "completed"
    },
    "tags": []
   },
   "outputs": [],
   "source": [
    "y_pred = fit_models['LGBM'].predict(abt_test)"
   ]
  },
  {
   "cell_type": "markdown",
   "id": "62f33893",
   "metadata": {
    "papermill": {
     "duration": 0.05268,
     "end_time": "2023-11-10T07:07:07.273271",
     "exception": false,
     "start_time": "2023-11-10T07:07:07.220591",
     "status": "completed"
    },
    "tags": []
   },
   "source": [
    "# Submission"
   ]
  },
  {
   "cell_type": "code",
   "execution_count": 71,
   "id": "e7445578",
   "metadata": {
    "execution": {
     "iopub.execute_input": "2023-11-10T07:07:07.383220Z",
     "iopub.status.busy": "2023-11-10T07:07:07.382433Z",
     "iopub.status.idle": "2023-11-10T07:07:07.616824Z",
     "shell.execute_reply": "2023-11-10T07:07:07.615774Z"
    },
    "papermill": {
     "duration": 0.292241,
     "end_time": "2023-11-10T07:07:07.619931",
     "exception": false,
     "start_time": "2023-11-10T07:07:07.327690",
     "status": "completed"
    },
    "tags": []
   },
   "outputs": [],
   "source": [
    "submission = pd.DataFrame([test_df['PassengerId'], y_pred]).T\n",
    "submission.columns = ['PassengerID', 'Transported']\n",
    "submission.to_csv('submission.csv', index=False)"
   ]
  }
 ],
 "metadata": {
  "kernelspec": {
   "display_name": "Python 3",
   "language": "python",
   "name": "python3"
  },
  "language_info": {
   "codemirror_mode": {
    "name": "ipython",
    "version": 3
   },
   "file_extension": ".py",
   "mimetype": "text/x-python",
   "name": "python",
   "nbconvert_exporter": "python",
   "pygments_lexer": "ipython3",
   "version": "3.10.12"
  },
  "papermill": {
   "default_parameters": {},
   "duration": 298.739944,
   "end_time": "2023-11-10T07:07:10.295014",
   "environment_variables": {},
   "exception": null,
   "input_path": "__notebook__.ipynb",
   "output_path": "__notebook__.ipynb",
   "parameters": {},
   "start_time": "2023-11-10T07:02:11.555070",
   "version": "2.4.0"
  }
 },
 "nbformat": 4,
 "nbformat_minor": 5
}
